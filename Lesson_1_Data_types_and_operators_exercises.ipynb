{
 "cells": [
  {
   "cell_type": "code",
   "execution_count": null,
   "metadata": {},
   "outputs": [],
   "source": [
    "# exercise 1 \n",
    "# My last 4 months electricity bills were Rs.785, Rs.700,Rs.790 and Rs.892\n",
    "# write an expression to calculate average of electricity bill over the 4 month period\n",
    "print()\n"
   ]
  },
  {
   "cell_type": "code",
   "execution_count": 2,
   "metadata": {},
   "outputs": [],
   "source": [
    "# exercise 2\n",
    "\n",
    "# For a new section in a college administration is planning to setup \n",
    "# it with 10 tables(each Rs.4000) and 20 chairs (each Rs.1750)\n",
    "# write an expression to calculate the total price\n"
   ]
  },
  {
   "cell_type": "code",
   "execution_count": null,
   "metadata": {},
   "outputs": [],
   "source": [
    "# exercise 3\n",
    "# A newly opened Mobile store is providing 15% discount on mobiles with price above Rs.20000\n",
    "# If you pay using credit card then you'll get instant cashback of 5% over the discounted price\n",
    "\n",
    "# Write an expression to print fianl price of mobile with price Rs.25000\n",
    "# if you are paying with credit card\n",
    "# Hint:Discount formulae  D = Price x percent/100 \n",
    "# Hint:Total price after discount formulae  = Price - D \n",
    "\n",
    "print()"
   ]
  },
  {
   "cell_type": "code",
   "execution_count": null,
   "metadata": {},
   "outputs": [],
   "source": [
    "# exercise 4\n",
    "\n",
    "my_number = 25\n",
    "your_number =  #initialize it to a number of your choice\n",
    "# double your_number and store the result in your_number\n",
    "\n",
    "# add my_number to your_number and store in your_number\n",
    "\n",
    "# update your_number to the half of the your_number\n",
    "\n",
    "result = # subract your choosen number from the your_number and store it in the result\n",
    "#print the result. IT SHOULD BE 12.5. YOUR MESSED UP SOMEWHERE IF YOU GOT SOME OTHER ANSWER\n",
    "print(result)"
   ]
  },
  {
   "cell_type": "code",
   "execution_count": null,
   "metadata": {},
   "outputs": [],
   "source": [
    "# exercise 5\n",
    "# ind vs aus ----- 50/50\n",
    "\n",
    "# india played first and scored 325 runs in 47 overs\n",
    "ind_score = 325\n",
    "\n",
    "# after australia scored 210 runs and rain stopped the match\n",
    "aus_score = 210\n",
    "\n",
    "# next day australia scored 114 runs and then got all out by then it left with 4 overs\n",
    "# so update aus_score to new value\n",
    "# write an expression to print True if india wins\n",
    "aus_score +=  114 \n",
    "\n",
    "\n",
    "\n",
    "print()\n",
    "\n",
    "# initialize below variables\n",
    "ind_run_rate = \n",
    "aus_run_rate = \n",
    "\n",
    "#print True if run rate of australia is more than india's\n",
    "\n",
    "\n"
   ]
  },
  {
   "cell_type": "code",
   "execution_count": null,
   "metadata": {},
   "outputs": [],
   "source": [
    "# exercise 6\n",
    "# print true if a 'number' is even\n",
    "\n",
    "# intialize it with number of your choice\n",
    "number = \n",
    "\n"
   ]
  },
  {
   "cell_type": "code",
   "execution_count": null,
   "metadata": {},
   "outputs": [],
   "source": [
    "# exercise 7\n",
    "# print False if 'number' is multiple of 3 and 5\n",
    "\n",
    "# intialize it with number of choice\n",
    "number = \n",
    "\n",
    "\n"
   ]
  },
  {
   "cell_type": "code",
   "execution_count": null,
   "metadata": {},
   "outputs": [],
   "source": [
    "# exercise 8\n",
    "# print True if a is smaller than b\n",
    "\n",
    "a = 18\n",
    "b = 13\n",
    "\n",
    "\n"
   ]
  },
  {
   "cell_type": "code",
   "execution_count": null,
   "metadata": {},
   "outputs": [],
   "source": [
    "\n",
    "# exercise 9 \n",
    "# Two teams from Telangana and two teams from Andhra are participating in inter state tournaments of football\n",
    "# telangana team1 vs andhra team1\n",
    "tn_team1 = 1\n",
    "ap_team1 = 2\n",
    "\n",
    "#  telangana team2 vs andhra team2\n",
    "tn_team2 = 2\n",
    "ap_team2= 5\n",
    "\n",
    "#print True if any one of the teams from telangana has won\n",
    "\n",
    "\n"
   ]
  },
  {
   "cell_type": "code",
   "execution_count": null,
   "metadata": {},
   "outputs": [],
   "source": [
    "# exercise 10 \n",
    "\n",
    "# Strings\n",
    "# Fix this string in a correct format and assigned to ford_quote\n",
    "\n",
    "ford_quote = 'Whether you think you can, or you think you can't--you're right.'\n",
    "\n",
    "print(ford_quote)"
   ]
  },
  {
   "cell_type": "code",
   "execution_count": null,
   "metadata": {},
   "outputs": [],
   "source": [
    "# exercise 11\n",
    "\n",
    "name=\"Raju\"\n",
    "train_name=\"Rajadhani Express\"\n",
    "date_time=\"08/08/2018 20:22:45.\"\n",
    "\n",
    "# Use the above variables and print the message in the below format\n",
    "# Raju booked a ticket for Rajadhani Express on 08/08/2019 at 20:22:45.\n",
    "\n"
   ]
  },
  {
   "cell_type": "code",
   "execution_count": null,
   "metadata": {},
   "outputs": [],
   "source": [
    "# exercise 12\n",
    "\n",
    "# Use string concatenation and len() function and store it in full_name and determine the length of full name\n",
    "first_name=\"Raghav\"\n",
    "middle_name=\"Rao\"\n",
    "last_name=\"Chaganti\"\n",
    "\n",
    "# your code here\n",
    "\n",
    "\n",
    "\n"
   ]
  },
  {
   "cell_type": "code",
   "execution_count": null,
   "metadata": {},
   "outputs": [],
   "source": [
    "# exercise 13\n",
    "\n",
    "july_rainfall=\"3.1\"\n",
    "august_rainfall=\"2.9\"\n",
    "september_rainfall=\"3.7\"\n",
    "\n",
    "# Find total rainfall and average rainfall\n",
    "# The string format should be like this \"The average rainfall is : xxx\".\n",
    "\n",
    "\n",
    "\n",
    "print(avg_rainfall)\n"
   ]
  },
  {
   "cell_type": "code",
   "execution_count": null,
   "metadata": {
    "scrolled": true
   },
   "outputs": [],
   "source": [
    "# exercise 14\n",
    "\n",
    "name=\"Naveen\"\n",
    "action=\"ordered\"\n",
    "# write a print statement using f-strings to print out the sentence as shown below\n",
    "# Naveen ordered pizza\n",
    "\n",
    "print(res)\n",
    "\n"
   ]
  },
  {
   "cell_type": "code",
   "execution_count": null,
   "metadata": {},
   "outputs": [],
   "source": [
    "# exercise 15\n",
    "\n",
    "# create a variable my_string with below data\n",
    "# \"When I say 'immediately,' I mean some time before August,\" said the manager.\n",
    "# and print that variable\n",
    "\n",
    "\n",
    "print()"
   ]
  },
  {
   "cell_type": "code",
   "execution_count": null,
   "metadata": {},
   "outputs": [],
   "source": [
    "# exercise 16\n",
    "\n",
    "# create a list hobbies with your hobbies as string elements\n",
    "# and print the list\n",
    "\n",
    "hobbies = []\n"
   ]
  },
  {
   "cell_type": "code",
   "execution_count": null,
   "metadata": {},
   "outputs": [],
   "source": [
    "# exercise 17\n",
    "\n",
    "planet_no = 3\n",
    "planets = [\"Mercury\",\"Venus\",\"Earth\",\"Mars\",\"Jupiter\",\"Saturn\",\"Uranus\",\"Neptune\"]\n",
    "\n",
    "# access the planet specified by planet_no \n",
    "# and print the upper case version of that planet name\n",
    "print()\n",
    "\n",
    "# update \"Earth\" with uppercase \"EARTH\" in the planets list and print list\n",
    "\n",
    "\n",
    "\n",
    "#Outputs:\n",
    "# EARTH\n"
   ]
  },
  {
   "cell_type": "code",
   "execution_count": null,
   "metadata": {},
   "outputs": [],
   "source": [
    "# exercise 18\n",
    "\n",
    "# create a list with first 6 prime numbers\n",
    "# write an expression to print True if 11 is in the list\n",
    "\n"
   ]
  },
  {
   "cell_type": "code",
   "execution_count": null,
   "metadata": {},
   "outputs": [],
   "source": [
    "# exercise 19\n",
    "\n",
    "squares = [49, 36, 81, 4, 25, 9, 16, 64, 100, 1]\n",
    "\n",
    "# Q1:create a list with name sliced_sqrs and value as last four elements of the squares list\n",
    "# and print the list\n",
    "\n",
    "print()\n",
    "\n",
    "\n",
    "# Q2:Also print largest number in the sliced_sqrs list\n",
    "\n",
    "print()\n",
    "\n"
   ]
  },
  {
   "cell_type": "code",
   "execution_count": null,
   "metadata": {},
   "outputs": [],
   "source": [
    "# exercise 20\n",
    "\n",
    "# to the squares list defined above add a square of your choice to it at the end\n",
    "# and print the list\n",
    "\n"
   ]
  },
  {
   "cell_type": "code",
   "execution_count": null,
   "metadata": {},
   "outputs": [],
   "source": [
    "# exercise 21\n",
    "\n",
    "# My last 4 months electricity bill was Rs.785, Rs.700,Rs.790 and Rs.892\n",
    "\n",
    "# create a list with name electricity_bills with values specified in the exercise 1\n",
    "# and print the average by using functions for lists\n",
    "\n",
    "\n"
   ]
  },
  {
   "cell_type": "code",
   "execution_count": null,
   "metadata": {},
   "outputs": [],
   "source": [
    "# exercise 22\n",
    "\n",
    "# define cubes(a tuple) with cubes of 1,2,3 and 4 and print the tuple\n",
    "\n"
   ]
  },
  {
   "cell_type": "code",
   "execution_count": 5,
   "metadata": {},
   "outputs": [],
   "source": [
    "# exercise 23\n",
    "\n",
    "# print the 7th element of the below tuple\n",
    "months = (\"Jan\",\"Feb\",\"Mar\",\"Apr\",\"May\",\"Jun\",\"Jul\",\"Aug\",\"Sep\",\"Oct\",\"Nov\",\"Dec\")\n",
    "\n"
   ]
  },
  {
   "cell_type": "code",
   "execution_count": 4,
   "metadata": {},
   "outputs": [
    {
     "name": "stdout",
     "output_type": "stream",
     "text": [
      "\n"
     ]
    }
   ],
   "source": [
    "# exercise 24\n",
    "\n",
    "# below is the list of ages with duplicates\n",
    "# create a new list new_ages without duplicates using set\n",
    "\n",
    "ages = [22,18,18,20,19,22,18,24,22,19,20]\n",
    "print()\n",
    "\n"
   ]
  },
  {
   "cell_type": "code",
   "execution_count": null,
   "metadata": {},
   "outputs": [],
   "source": [
    "# exercise 25\n",
    "\n",
    "lst = [1,2,\"hey\",4.5,'45',\"hello world\",44]\n",
    "i = 5\n",
    "# write an expression to print False if the value at the index i is number\n",
    "# use dir\n",
    "\n",
    "print()\n"
   ]
  },
  {
   "cell_type": "code",
   "execution_count": 7,
   "metadata": {},
   "outputs": [],
   "source": [
    "# exercise 26\n",
    "\n",
    "#create a dictionary with name \"elements\" with element name as key and it's atomic number as value for the following elements and print it\n",
    "#element name         atomic number\n",
    "#Helium                2\n",
    "#Hydrogen              1\n",
    "#Argon                 18 \n",
    "#oxygen                8\n",
    "#Xenon                 54\n",
    "\n"
   ]
  },
  {
   "cell_type": "code",
   "execution_count": null,
   "metadata": {},
   "outputs": [],
   "source": [
    "# exercise 27\n",
    "\n",
    "# create a dictionary with below words as keys and and their lengths as values\n",
    "words = [\"sun\",\"chocolate\",\"colors\",\"kryptonite\",\"logic\",\"free\"]\n",
    "\n",
    "\n",
    "\n",
    "print()\n",
    "\n",
    "\n"
   ]
  },
  {
   "cell_type": "code",
   "execution_count": null,
   "metadata": {},
   "outputs": [],
   "source": [
    "# exercise 28\n",
    "\n",
    "shape = {\"Traingle\":3,\"Square\":4,\"Pentagon\":5}\n",
    "\n",
    "# write an expression to print True  \n",
    "# if the result of get operation below is a valid number of sides\n",
    "# using identity operators\n",
    "\n",
    "sides = shape.get(\"Hexagon\")\n",
    "\n",
    "# help(dict.get)"
   ]
  },
  {
   "cell_type": "code",
   "execution_count": null,
   "metadata": {},
   "outputs": [],
   "source": [
    "# exercise 29\n",
    "\n",
    "employees = [{\n",
    "                \"name\":\"Sravan\",\n",
    "                \"age\":25,\n",
    "                \"salary\":30000\n",
    "             },\n",
    "             {\n",
    "                \"name\":\"Rahul\",\n",
    "                \"age\":27,\n",
    "                \"salary\":32000\n",
    "             },\n",
    "             {\n",
    "                \"name\":\"Keerthana\",\n",
    "                \"age\":23,\n",
    "                \"salary\":35000\n",
    "             }\n",
    "            ]\n",
    "\n",
    "\n",
    "#Q1: Increment the salary of the Rahul with 4000 and print the list\n",
    "\n",
    "\n",
    "#Q2: Add another employee to the list with details Samyuktha,26,33000 and print the list\n",
    "\n",
    "\n",
    "\n"
   ]
  },
  {
   "cell_type": "code",
   "execution_count": null,
   "metadata": {},
   "outputs": [],
   "source": [
    "# exercise 30\n",
    "\n",
    "l = [2,5,4,'a','b','c','d','4']\n",
    "\n",
    "# Q1:print the index of the element 'c' using index() method of the list\n",
    "\n",
    "\n",
    "# Q2:write an expression to print the type of the fifth element \n",
    "\n",
    "\n",
    "# Q3:update the list by inserting an element 7 at fifth position\n",
    "\n",
    "\n",
    "# Q4:write an expression to print False if the last element in the list is a number\n",
    "# hint: use string methods\n",
    "\n",
    "# dir(str)"
   ]
  },
  {
   "cell_type": "code",
   "execution_count": null,
   "metadata": {},
   "outputs": [],
   "source": [
    "# exercise 31\n",
    "\n",
    "\n",
    "l = [2,5,4,'a','b','c','d','4']\n",
    "\n",
    "# Q1: use extend() method to add ['j','i',8] to the given list\n",
    "# hint:help(list.extend)\n",
    "\n",
    "\n",
    "name = \"Raju\"\n",
    "percentage = 89\n",
    "\n",
    "# Q2: use f-string to print \"Raju scored 89% in IP\"\n",
    "\n",
    "\n",
    "\n",
    "a = '23'\n",
    "b = '45'\n",
    "# c =  # sum of a and b\n",
    "\n",
    "# Q3: print \"sum of a and b is <value of c>\" using format() method of string\n",
    "# Q4: complete Q3 without using format() method and f-strings"
   ]
  },
  {
   "cell_type": "code",
   "execution_count": null,
   "metadata": {},
   "outputs": [],
   "source": [
    "# string exercise\n",
    "\n",
    "\n",
    "# reverse the below string and print\n",
    "s = \"Hello world\""
   ]
  }
 ],
 "metadata": {
  "kernelspec": {
   "display_name": "Python 3",
   "language": "python",
   "name": "python3"
  },
  "language_info": {
   "codemirror_mode": {
    "name": "ipython",
    "version": 3
   },
   "file_extension": ".py",
   "mimetype": "text/x-python",
   "name": "python",
   "nbconvert_exporter": "python",
   "pygments_lexer": "ipython3",
   "version": "3.7.4"
  }
 },
 "nbformat": 4,
 "nbformat_minor": 2
}
