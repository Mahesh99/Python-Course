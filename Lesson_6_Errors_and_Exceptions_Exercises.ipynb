{
 "cells": [
  {
   "cell_type": "code",
   "execution_count": null,
   "metadata": {},
   "outputs": [],
   "source": [
    "# Exercise 1\n",
    "\n",
    "def get_user_data():\n",
    "    name = input(\"Enter name:\")\n",
    "    age = int(input(\"Enter age:\"))\n",
    "    return {'name':name, 'age':age}\n",
    "\n",
    "\n",
    "# surround below code inside try/except to handle possible runtime errors\n",
    "user = get_user_data()\n",
    "print(user)\n"
   ]
  },
  {
   "cell_type": "code",
   "execution_count": null,
   "metadata": {},
   "outputs": [],
   "source": [
    "# Exercise 2\n",
    "# fix the error in the below code\n",
    "import math\n",
    "math.sqrt(10)\n",
    "n=1897461241234\n",
    "flag=True\n",
    "\n",
    "for i in range(2,int(math.sqrt(n))):\n",
    "      if n%i==0:\n",
    "        flag=False\n",
    "if flag:\n",
    "    print(\"Prime\")\n",
    "  else:\n",
    "    print(\"Not Prime\")\n"
   ]
  },
  {
   "cell_type": "code",
   "execution_count": null,
   "metadata": {},
   "outputs": [],
   "source": [
    "# Exercise 3\n",
    "# analyse the code and handle the error with try/except in the method\n",
    "# do code modifications inside the method if needed\n",
    "# Get the referece to the error and display the error \n",
    "class Company:\n",
    "    def __init__(self, name, total_emps, regn_num, address):\n",
    "        self.name = name\n",
    "        self.total_emps = total_emps\n",
    "        self.regn_num = regn_num\n",
    "        self.address = address\n",
    "    def update_total_emps(self, n):\n",
    "        self.total_emps += n\n",
    "    def display_details(self):\n",
    "        print(f\"Name: {self.name}\\nTotal Employees: {self.total_emps}\\\n",
    "        \\nRegn. no: {self.regn_num}\\nAddress: {self.address}\")\n",
    "    \n",
    "c = Company(\"XYZ Inc.\", 50, 'RN34241','Flat No:12, Gachibouli, Hyderabad - 500013')\n",
    "\n",
    "n = input(\"Enter the number of employees to be added: \")\n",
    "c.update_total_emps(n)\n",
    "\n",
    "c.display_details()"
   ]
  },
  {
   "cell_type": "code",
   "execution_count": 1,
   "metadata": {},
   "outputs": [
    {
     "name": "stdout",
     "output_type": "stream",
     "text": [
      "Enter a palindrome(To quit enter 'q'): madam\n",
      "Enter a palindrome(To quit enter 'q'): 121\n",
      "Enter a palindrome(To quit enter 'q'): hello\n",
      "Not a palindrome\n",
      "Enter a palindrome(To quit enter 'q'): malayalam\n",
      "Enter a palindrome(To quit enter 'q'): q\n"
     ]
    }
   ],
   "source": [
    "# Exercise 4\n",
    "\n",
    "def save_to_file(data):\n",
    "    \"\"\"data: a list of strings\n",
    "    - adds the data list to the palindromes.txt file with comma(',') seperated \"\"\"\n",
    "    f = open(\"palindromes.txt\",\"w\")\n",
    "    f.write( \",\".join(data) )\n",
    "    f.close()\n",
    "    \n",
    "def palindrome():\n",
    "    \"\"\"reads palindromes from the user and saves to the 'palindromes' list\n",
    "        if input given is 'q'(instead of any palindrome) then program terminates\n",
    "        after saving palindromes list to the file\n",
    "    \"\"\"\n",
    "    palindromes = []\n",
    "    try:\n",
    "        while True:\n",
    "            s = input(\"Enter a palindrome(To quit enter 'q'): \")\n",
    "            if s == 'q':\n",
    "                save_to_file(palindromes)\n",
    "                break\n",
    "            if s == s[::-1]:\n",
    "                palindromes.append(s)\n",
    "            else:\n",
    "                print(\"Not a palindrome\")\n",
    "    except:\n",
    "        print(\"error occured\")\n",
    "    # TODO: add finally here and save the collected palindromes to the file\n",
    "\n",
    "# doc strings\n",
    "# help(save_to_file) \n",
    "# help(palindrome)\n",
    "palindrome()"
   ]
  },
  {
   "cell_type": "code",
   "execution_count": null,
   "metadata": {},
   "outputs": [],
   "source": [
    "# Exercise 5\n",
    "\n",
    "marks = {\n",
    "    \"maths\":70,\n",
    "    \"physics\":89,\n",
    "    \"chemistry\":87\n",
    "}\n",
    "\n",
    "# handle the specific error that could occur by the below statement\n",
    "# print \"Key found in dictionary\" only if error doesn't occur\n",
    "marks['english']\n",
    "\n",
    "\n"
   ]
  },
  {
   "cell_type": "code",
   "execution_count": null,
   "metadata": {},
   "outputs": [],
   "source": [
    "# Exercise 6\n",
    "# read prime number from the user\n",
    "# raise NotAPrimeNumberError when number entered is not a prime number \n"
   ]
  }
 ],
 "metadata": {
  "kernelspec": {
   "display_name": "Python 3.7.4 64-bit",
   "language": "python",
   "name": "python37464bit82f717a4e4ef4db38045cc0c8f6d8f77"
  },
  "language_info": {
   "codemirror_mode": {
    "name": "ipython",
    "version": 3
   },
   "file_extension": ".py",
   "mimetype": "text/x-python",
   "name": "python",
   "nbconvert_exporter": "python",
   "pygments_lexer": "ipython3",
   "version": "3.7.4"
  }
 },
 "nbformat": 4,
 "nbformat_minor": 2
}
