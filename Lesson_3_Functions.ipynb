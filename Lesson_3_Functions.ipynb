{
 "cells": [
  {
   "cell_type": "markdown",
   "metadata": {},
   "source": [
    "<b><br><span style=\"color:#ff8f00;font-size:16px\">What if we want to execute same code again and again in different points in the script</span></b><br>\n",
    "<b>solution: Functions</b>"
   ]
  },
  {
   "cell_type": "markdown",
   "metadata": {},
   "source": [
    "<br><strong><span style=\"color:#dd2c00;font-size:23px;\">Defining a Function</span></strong><br><br>\n",
    "<span>A function is a block of organized, reusable code that is used to perform a single, related action</span><br>\n",
    "<span>functions are defined using <code>def</code>keyword</span><br>\n",
    "<span></span>"
   ]
  },
  {
   "cell_type": "raw",
   "metadata": {},
   "source": [
    "def <function_name>(parameters):\n",
    "    #statement 1\n",
    "    #statement 2\n",
    "    ...\n",
    "    ...\n",
    "    ..."
   ]
  },
  {
   "cell_type": "code",
   "execution_count": null,
   "metadata": {},
   "outputs": [],
   "source": [
    "# example 1\n",
    "def triangle_area(base,height):\n",
    "    area = 1/2*base*height\n",
    "    return area\n",
    "    \n",
    "print(triangle_area(3,3))\n",
    "print(triangle_area(4,5))\n",
    "print(triangle_area(9,3))"
   ]
  },
  {
   "cell_type": "markdown",
   "metadata": {},
   "source": [
    "<span><code>def</code> keyword signals the python interpreter that it is a function.</span><br>\n",
    "<span>After <code>def</code> follows the functions name,here it is <code>triangle_area</code></span><br>\n",
    "<span>then follows parenthesis that may include arguments <code>base</code>,<code>height</code> are called formal paramaters or formal arguments </span><br>\n",
    "<span>function signature (<code>def triangle_area(base,height)</code>) ends with colon(<code>:</code>) </span><br>\n",
    "<span></span><br>\n",
    "function body should be indented and can have any number of statements here we have 2 statements<br>\n",
    "first statement calculates the area by substituting the formulae with values<br>\n",
    "second statement returns the area using <code>return</code> keyword to the function calling statement(line 5)<br>\n",
    "\n",
    "In line no. 6, 7 and 8 we are calling the <code>traingle_area()</code> function with required arguments\n"
   ]
  },
  {
   "cell_type": "code",
   "execution_count": 2,
   "metadata": {},
   "outputs": [],
   "source": [
    "#example 2\n",
    "class_marks = {\n",
    "    \"Arun\":{\n",
    "        \"Hindi\":78,\n",
    "        \"English\":89,\n",
    "        \"Maths\":90,\n",
    "        \"Science\":90\n",
    "    },\n",
    "    \"Smitha\":{\n",
    "        \"Hindi\":56,\n",
    "        \"English\":80,\n",
    "        \"Maths\":92,\n",
    "        \"Science\":94\n",
    "    },\n",
    "    \"Naveen\":{\n",
    "        \"Hindi\":80,\n",
    "        \"English\":89,\n",
    "        \"Maths\":90,\n",
    "        \"Science\":90\n",
    "    }\n",
    "}"
   ]
  },
  {
   "cell_type": "code",
   "execution_count": 4,
   "metadata": {},
   "outputs": [
    {
     "name": "stdout",
     "output_type": "stream",
     "text": [
      "dict_values([78, 89, 90, 90])\n",
      "Arun scored 86.75\n"
     ]
    }
   ],
   "source": [
    "# example 2 continued\n",
    "# {\n",
    "#         \"Hindi\":80,\n",
    "#         \"English\":89,\n",
    "#         \"Maths\":90,\n",
    "#         \"Science\":90\n",
    "#     }\n",
    "def print_percentage(marks_dict,name):\n",
    "    mrks = marks_dict.values()\n",
    "    print(mrks)\n",
    "    avg = sum(mrks) / len(mrks)\n",
    "    print(\"{} scored {}\".format(name,avg))\n",
    "\n",
    "names = list(class_marks.keys())\n",
    "marks = list(class_marks.values())\n",
    "# print(names)\n",
    "# print(marks)\n",
    "\n",
    "print_percentage(marks[0],names[0])\n",
    "# print_percentage(marks[1],names[1])\n",
    "# print_percentage(marks[2],names[2])"
   ]
  },
  {
   "cell_type": "markdown",
   "metadata": {},
   "source": [
    "<span>The keyword <code>def</code> introduces a function definition</span><br>\n",
    "<span>It must be followed by the function name and the parenthesized list of formal parameters</span><br>\n",
    "<span>The statements that form the body of the function start at the next line, and must be indented.</span><br><br>"
   ]
  },
  {
   "cell_type": "markdown",
   "metadata": {},
   "source": [
    "<b><br><span style=\"color:#007FDC;font-size:16px\">return keyword</span></b><br>\n",
    "<span>Using <code>return</code> a function can return a value</span><br>\n",
    "if no value is returned by the function then <code>None</code> gets returned automatically"
   ]
  },
  {
   "cell_type": "code",
   "execution_count": 30,
   "metadata": {},
   "outputs": [
    {
     "name": "stdout",
     "output_type": "stream",
     "text": [
      "4.0\n"
     ]
    }
   ],
   "source": [
    "# example 1\n",
    "\n",
    "def average(numbers):\n",
    "    return sum(numbers)/len(numbers)\n",
    "\n",
    "print(average((1,2,3,6,8)))"
   ]
  },
  {
   "cell_type": "code",
   "execution_count": 31,
   "metadata": {},
   "outputs": [
    {
     "name": "stdout",
     "output_type": "stream",
     "text": [
      "False\n",
      "True\n"
     ]
    }
   ],
   "source": [
    "# example 2\n",
    "\n",
    "def is_battery_low(battery):\n",
    "    if battery < 20:\n",
    "        return True\n",
    "    else:\n",
    "        return False\n",
    "    \n",
    "    \n",
    "    \n",
    "print(is_battery_low(31))\n",
    "print(is_battery_low(15))\n"
   ]
  },
  {
   "cell_type": "markdown",
   "metadata": {},
   "source": [
    "<b><br><span style=\"color:#007FDC;font-size:16px\">Default Arguments</span></b><br>\n",
    "functions can be created with default argument values<br>\n",
    "while calling such functions passing those arguments can be omitted<br>\n",
    "when omitted default value is used by the function<br>\n",
    "default arguments should be specified in the end of the arguments list"
   ]
  },
  {
   "cell_type": "code",
   "execution_count": 13,
   "metadata": {},
   "outputs": [
    {
     "name": "stdout",
     "output_type": "stream",
     "text": [
      "36\n",
      "1024\n"
     ]
    }
   ],
   "source": [
    "#example 1\n",
    "\n",
    "def power(number,exponent=2):\n",
    "    res = number ** exponent\n",
    "    return res\n",
    "\n",
    "print(power(6))\n",
    "\n",
    "print(power(exponent=5,number=4))"
   ]
  },
  {
   "cell_type": "code",
   "execution_count": 2,
   "metadata": {},
   "outputs": [
    {
     "name": "stdout",
     "output_type": "stream",
     "text": [
      "are you sure?1\n",
      "Try again!\n",
      "are you sure?1\n",
      "invalid user response\n"
     ]
    }
   ],
   "source": [
    "# example 2\n",
    "\n",
    "def ask_ok(prompt_msg, retries=4, reminder='Please try again!'):\n",
    "    while True:\n",
    "        ok = input(prompt_msg)  #takes the uses response\n",
    "        if ok in ('y', 'ye', 'yes'):\n",
    "            return True\n",
    "        if ok in ('n', 'no', 'nop', 'nope'):\n",
    "            return False\n",
    "        \n",
    "        retries = retries - 1\n",
    "        if retries < 0:\n",
    "            print('invalid user response')\n",
    "            break\n",
    "            \n",
    "        print(reminder)\n",
    "\n",
    "# print(ask_ok(\"Are you sure you want to quit?\"))\n",
    "# ask_ok(\"Are you sure?\",reminder=\"Try again!\",retries=1)\n",
    "ask_ok(reminder=\"Try again!\",retries=1,prompt_msg=\"are you sure?\") "
   ]
  },
  {
   "cell_type": "markdown",
   "metadata": {},
   "source": [
    "<b style=\"color:#5a0;font-size:16px\">In a function call, keyword arguments must follow positional arguments</b>"
   ]
  },
  {
   "cell_type": "markdown",
   "metadata": {},
   "source": [
    "<b><br><span style=\"color:#007FDC;font-size:16px\">Variable length arguments</span></b><br>\n",
    "In python a function can receive variable number of arguments<br>\n"
   ]
  },
  {
   "cell_type": "code",
   "execution_count": 10,
   "metadata": {},
   "outputs": [
    {
     "name": "stdout",
     "output_type": "stream",
     "text": [
      "<class 'tuple'>\n",
      "Google\n",
      "Bing\n",
      "Duckduckgo\n",
      "Beiduo\n"
     ]
    }
   ],
   "source": [
    "# variable length args\n",
    "\n",
    "def my_fun(*args):\n",
    "    print(type(args))\n",
    "    for arg in args:\n",
    "        print(arg)\n",
    "my_fun(\"Google\",\"Bing\",\"Duckduckgo\",\"Beiduo\")\n"
   ]
  },
  {
   "cell_type": "markdown",
   "metadata": {},
   "source": [
    "<code>my_fun</code> can also have <b>positional</b> arguments in the following way"
   ]
  },
  {
   "cell_type": "code",
   "execution_count": 21,
   "metadata": {},
   "outputs": [
    {
     "name": "stdout",
     "output_type": "stream",
     "text": [
      "Top search engines:\n",
      "1 Google\n",
      "2 Bing\n",
      "3 Duckduckgo\n",
      "4 Beiduo\n"
     ]
    }
   ],
   "source": [
    "def my_fun(desc,*args):\n",
    "#     print(len(args))\n",
    "    print(desc)\n",
    "    for i,arg in enumerate(args):\n",
    "        print(i+1,arg)\n",
    "\n",
    "my_fun(\"Top search engines:\",\"Google\",\"Bing\",\"Duckduckgo\",\"Beiduo\")"
   ]
  },
  {
   "cell_type": "code",
   "execution_count": 15,
   "metadata": {},
   "outputs": [
    {
     "data": {
      "text/plain": [
       "[(0, 1), (1, 2), (2, 3)]"
      ]
     },
     "execution_count": 15,
     "metadata": {},
     "output_type": "execute_result"
    }
   ],
   "source": [
    "list(enumerate([1,2,3]))"
   ]
  },
  {
   "cell_type": "code",
   "execution_count": 7,
   "metadata": {},
   "outputs": [
    {
     "name": "stdout",
     "output_type": "stream",
     "text": [
      "Top search engines\n",
      "Google\n",
      "Bing\n",
      "Duckduckgo\n",
      "Beiduo\n"
     ]
    }
   ],
   "source": [
    "def top_n_list(first,*top,desc='Top four list:'):\n",
    "    print(desc)\n",
    "    print(first)\n",
    "    for item in top:\n",
    "        print(item)\n",
    "top_n_list(\"Google\",\"Bing\",\"Duckduckgo\",\"Beiduo\",desc=\"Top search engines\")\n"
   ]
  },
  {
   "cell_type": "markdown",
   "metadata": {},
   "source": [
    "<b  >function with variable length keyword arguments<b>"
   ]
  },
  {
   "cell_type": "code",
   "execution_count": 25,
   "metadata": {},
   "outputs": [
    {
     "name": "stdout",
     "output_type": "stream",
     "text": [
      "Items ordered\n",
      "Pencils : 5\n",
      "Bag : 1\n"
     ]
    }
   ],
   "source": [
    "def my_fun2(msg,Notebooks=5,**items):\n",
    "    print(msg)\n",
    "    for kw in items:\n",
    "        print(kw,\":\",items[kw])\n",
    "my_fun2(\"Items ordered\",Notebooks=2,Pencils=5,Bag=1)\n"
   ]
  },
  {
   "cell_type": "code",
   "execution_count": null,
   "metadata": {},
   "outputs": [],
   "source": [
    "def cheeseshop(kind, *arguments, **keywords):\n",
    "    print(\"-- Do you have any\", kind, \"?\")\n",
    "    print(\"-- I'm sorry, we're all out of\", kind)\n",
    "    for arg in arguments:\n",
    "        print(arg)\n",
    "    print(\"-\" * 40)\n",
    "    for kw in keywords:\n",
    "        print(kw, \":\", keywords[kw])\n",
    "\n",
    "\n",
    "cheeseshop(\"Limburger\", \"It's very runny, sir.\",\n",
    "           \"It's really very, VERY runny, sir.\",\n",
    "           shopkeeper=\"Michael Palin\",\n",
    "           client=\"John Cleese\",\n",
    "           sketch=\"Cheese Shop Sketch\")"
   ]
  },
  {
   "cell_type": "markdown",
   "metadata": {},
   "source": [
    "<b><br><span style=\"color:#007FDC;font-size:16px\">different ways of calling a function</span></b>"
   ]
  },
  {
   "cell_type": "markdown",
   "metadata": {},
   "source": [
    "<b><span>calling function by passing keyword arguments</span></b><br>\n",
    "<span>keyword argument: an argument preceded by an identifier (e.g. <code>name=</code>) in a function call or passed as a value in a dictionary preceded by **</span><br>\n",
    "For example, values of <code>prompt</code> and <code>retries</code> are both keyword arguments in the following calls to"
   ]
  },
  {
   "cell_type": "code",
   "execution_count": 3,
   "metadata": {},
   "outputs": [
    {
     "name": "stdout",
     "output_type": "stream",
     "text": [
      "Are you sure you want to delete?1\n",
      "Please try again!\n",
      "Are you sure you want to delete?1\n",
      "Please try again!\n",
      "Are you sure you want to delete?1\n",
      "invalid user response\n",
      "None\n",
      "Are you sure?1\n",
      "Please try again!\n",
      "Are you sure?1\n",
      "Please try again!\n",
      "Are you sure?1\n",
      "invalid user response\n",
      "None\n"
     ]
    }
   ],
   "source": [
    "print(ask_ok(prompt_msg=\"Are you sure you want to delete?\",retries = 2))\n",
    "\n",
    "d = {\"prompt_msg\":\"Are you sure?\",\"retries\" : 2}\n",
    "\n",
    "print(ask_ok(**d))"
   ]
  },
  {
   "cell_type": "markdown",
   "metadata": {},
   "source": [
    "<b><span>calling function by passing only positional arguments</span></b><br>\n",
    "<span>positional argument: an argument that is not a keyword argument. Positional arguments can appear at the beginning of an argument list and/or be passed as elements of an iterable preceded by *. For example, 3 and 5 are both positional arguments in the following calls:"
   ]
  },
  {
   "cell_type": "code",
   "execution_count": null,
   "metadata": {},
   "outputs": [],
   "source": [
    "# print(ask_ok(\"Are you sure you want to delete?\",2))\n",
    "t = (\"Are you sure you want to delete?\",2)\n",
    "print(ask_ok(*t))"
   ]
  },
  {
   "cell_type": "markdown",
   "metadata": {},
   "source": [
    "<br><strong><span style=\"color:#dd2c00;font-size:23px;\">Call by Value</span></strong><br><br>\n",
    "<span>when a function call is made by passing arguments. Arguments are passed using call by value means (a new referene to the object will be created and passed)</span><br>\n",
    "So for mutable objects changes made in the function will be reflected on the actual argument or value"
   ]
  },
  {
   "cell_type": "markdown",
   "metadata": {},
   "source": [
    "<br><strong><span style=\"color:#dd2c00;font-size:23px;\">Variable Scope</span></strong><br><br>\n",
    "<span>Variable scope is a region of the program where a variable can be referrenced or used </span><br>"
   ]
  },
  {
   "cell_type": "code",
   "execution_count": 39,
   "metadata": {},
   "outputs": [
    {
     "name": "stdout",
     "output_type": "stream",
     "text": [
      "2\n"
     ]
    }
   ],
   "source": [
    "def count_five_multiples(num_list):\n",
    "    count = 0\n",
    "    for num in num_list:\n",
    "        if num%5 == 0:\n",
    "            count += 1\n",
    "    return count\n",
    "\n",
    "print(count_five_multiples([1,5,7,10]))\n",
    "# print(count) # will get an error"
   ]
  },
  {
   "cell_type": "markdown",
   "metadata": {},
   "source": [
    "<b><br><span style=\"color:#007FDC;font-size:16px\"></span></b>"
   ]
  },
  {
   "cell_type": "markdown",
   "metadata": {},
   "source": [
    "<b><span>When a variable is created inside a function it can be used only within that function</span></b><br>"
   ]
  },
  {
   "cell_type": "markdown",
   "metadata": {},
   "source": [
    "<br><strong><span style=\"color:#dd2c00;font-size:23px;\">Recursion</span></strong><br><br>\n",
    "The concept of a function calling itself is called recursion<br>"
   ]
  },
  {
   "cell_type": "code",
   "execution_count": 5,
   "metadata": {},
   "outputs": [
    {
     "name": "stdout",
     "output_type": "stream",
     "text": [
      "720\n"
     ]
    }
   ],
   "source": [
    "# example\n",
    "\n",
    "def factorial(n):\n",
    "    if n == 1:\n",
    "        return 1\n",
    "    return n*factorial(n-1)\n",
    "\n",
    "k = 6\n",
    "print(factorial(k))"
   ]
  },
  {
   "cell_type": "markdown",
   "metadata": {},
   "source": [
    "<br><strong><span style=\"color:#dd2c00;font-size:23px;\">lambda expressions</span></strong><br><br>\n",
    "<span><code>lambda</code> expression are used to create anonymous functions, a function without a name.</span><br>\n",
    "<span>lambda expressions are especially used to pass as an argument to higher order functions or<br>a functions that take a function as an argument or return a function</span>"
   ]
  },
  {
   "cell_type": "markdown",
   "metadata": {},
   "source": [
    " <code>lambda parameter: expression</code>\n",
    " <br>\n",
    " \n",
    "similar to <br><br>\n",
    " <code>def &lt;lambda&gt;(parameters):\n",
    "     return expression</code>"
   ]
  },
  {
   "cell_type": "code",
   "execution_count": 1,
   "metadata": {},
   "outputs": [
    {
     "name": "stdout",
     "output_type": "stream",
     "text": [
      "27"
     ]
    }
   ],
   "source": [
    "# def cube(n):\n",
    "#     return n**3\n",
    "# print(cube(3))\n",
    "\n",
    "# above function in one line\n",
    "cube = lambda x: x**3\n",
    "\n",
    "print(cube(3),end=\"\")"
   ]
  }
 ],
 "metadata": {
  "kernelspec": {
   "display_name": "Python 3",
   "language": "python",
   "name": "python3"
  },
  "language_info": {
   "codemirror_mode": {
    "name": "ipython",
    "version": 3
   },
   "file_extension": ".py",
   "mimetype": "text/x-python",
   "name": "python",
   "nbconvert_exporter": "python",
   "pygments_lexer": "ipython3",
   "version": "3.7.4"
  }
 },
 "nbformat": 4,
 "nbformat_minor": 2
}
