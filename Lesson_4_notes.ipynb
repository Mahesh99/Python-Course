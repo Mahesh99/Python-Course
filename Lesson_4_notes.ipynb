{
 "cells": [
  {
   "cell_type": "markdown",
   "metadata": {},
   "source": [
    "# Modules"
   ]
  },
  {
   "cell_type": "code",
   "execution_count": null,
   "metadata": {},
   "outputs": [],
   "source": [
    "# A module is python file whcih contains definitions and statements\n",
    "# .py extension"
   ]
  },
  {
   "cell_type": "code",
   "execution_count": null,
   "metadata": {},
   "outputs": [],
   "source": [
    "import <module_name>\n",
    "import <folder>.<subfolder>.<module_name>\n",
    "\n",
    "import <module_name> as <alias>\n",
    "\n",
    "from <module_name>[<folder>] import <some_object>\n",
    "\n",
    "from <module_name> import <some_object> as <some_alias>\n",
    "\n",
    "from <module_name> import *"
   ]
  },
  {
   "cell_type": "code",
   "execution_count": 43,
   "metadata": {},
   "outputs": [
    {
     "name": "stdout",
     "output_type": "stream",
     "text": [
      "<class 'list'>\n",
      "C:\\Users\\Mahesh\\courses\\python\\batch-4\n",
      "C:\\Users\\Mahesh\\Desktop\\python\n",
      "c:\\users\\mahesh\\appdata\\local\\programs\\python\\python37\\python37.zip\n",
      "c:\\users\\mahesh\\appdata\\local\\programs\\python\\python37\\DLLs\n",
      "c:\\users\\mahesh\\appdata\\local\\programs\\python\\python37\\lib\n",
      "c:\\users\\mahesh\\appdata\\local\\programs\\python\\python37\n",
      "\n",
      "C:\\Users\\Mahesh\\AppData\\Roaming\\Python\\Python37\\site-packages\n",
      "c:\\users\\mahesh\\appdata\\local\\programs\\python\\python37\\lib\\site-packages\n",
      "c:\\users\\mahesh\\appdata\\local\\programs\\python\\python37\\lib\\site-packages\\IPython\\extensions\n",
      "C:\\Users\\Mahesh\\.ipython\n"
     ]
    },
    {
     "data": {
      "text/plain": [
       "'c:\\\\users\\\\mahesh\\\\appdata\\\\local\\\\programs\\\\python\\\\python37\\\\lib\\\\site-packages\\\\IPython\\\\extensions'"
      ]
     },
     "execution_count": 43,
     "metadata": {},
     "output_type": "execute_result"
    }
   ],
   "source": [
    "import random as rand\n",
    "\n",
    "import sys\n",
    "print(type(sys.path))\n",
    "# sys.path.append('C:\\\\Users\\\\Mahesh\\\\courses\\\\python\\\\batch-3')\n",
    "for p in sys.path:\n",
    "    print(p)\n",
    "sys.path.pop()\n",
    "sys.path.pop()\n"
   ]
  },
  {
   "cell_type": "code",
   "execution_count": null,
   "metadata": {},
   "outputs": [],
   "source": []
  },
  {
   "cell_type": "code",
   "execution_count": null,
   "metadata": {},
   "outputs": [],
   "source": [
    "import some_module"
   ]
  },
  {
   "cell_type": "code",
   "execution_count": null,
   "metadata": {},
   "outputs": [],
   "source": [
    "# whenever we import a module it will execute\n",
    "from scripts import mindreader"
   ]
  },
  {
   "cell_type": "code",
   "execution_count": null,
   "metadata": {},
   "outputs": [],
   "source": [
    "from scripts import fibonocci"
   ]
  },
  {
   "cell_type": "code",
   "execution_count": null,
   "metadata": {},
   "outputs": [],
   "source": [
    "type(mindreader)"
   ]
  },
  {
   "cell_type": "code",
   "execution_count": null,
   "metadata": {},
   "outputs": [],
   "source": [
    "type(fibonocci)"
   ]
  },
  {
   "cell_type": "code",
   "execution_count": null,
   "metadata": {},
   "outputs": [],
   "source": [
    "fibonocci.fib(100)\n",
    "print(fibonocci.fib2(100))\n",
    "print(fibonocci.first_ten)"
   ]
  },
  {
   "cell_type": "code",
   "execution_count": null,
   "metadata": {},
   "outputs": [],
   "source": [
    "import scripts.fibonocci"
   ]
  },
  {
   "cell_type": "code",
   "execution_count": null,
   "metadata": {},
   "outputs": [],
   "source": [
    "type(scripts.fibonocci)"
   ]
  },
  {
   "cell_type": "code",
   "execution_count": null,
   "metadata": {},
   "outputs": [],
   "source": [
    "scripts.fibonocci.fib(10)"
   ]
  },
  {
   "cell_type": "code",
   "execution_count": null,
   "metadata": {},
   "outputs": [],
   "source": [
    "from scripts import mindreader\n",
    "import scripts.mindreader\n"
   ]
  },
  {
   "cell_type": "code",
   "execution_count": null,
   "metadata": {},
   "outputs": [],
   "source": [
    "import mindreader"
   ]
  },
  {
   "cell_type": "code",
   "execution_count": null,
   "metadata": {},
   "outputs": [],
   "source": []
  },
  {
   "cell_type": "code",
   "execution_count": 2,
   "metadata": {},
   "outputs": [
    {
     "ename": "ImportError",
     "evalue": "cannot import name 'fibonocci' from 'scripts' (unknown location)",
     "output_type": "error",
     "traceback": [
      "\u001b[1;31m---------------------------------------------------------------------------\u001b[0m",
      "\u001b[1;31mImportError\u001b[0m                               Traceback (most recent call last)",
      "\u001b[1;32m<ipython-input-2-1f9b86cb704d>\u001b[0m in \u001b[0;36m<module>\u001b[1;34m\u001b[0m\n\u001b[0;32m      1\u001b[0m \u001b[1;31m# import scipts.fibonocci\u001b[0m\u001b[1;33m\u001b[0m\u001b[1;33m\u001b[0m\u001b[1;33m\u001b[0m\u001b[0m\n\u001b[1;32m----> 2\u001b[1;33m \u001b[1;32mfrom\u001b[0m \u001b[0mscripts\u001b[0m \u001b[1;32mimport\u001b[0m \u001b[0mfibonocci\u001b[0m\u001b[1;33m\u001b[0m\u001b[1;33m\u001b[0m\u001b[0m\n\u001b[0m\u001b[0;32m      3\u001b[0m \u001b[1;31m# del fibonocci\u001b[0m\u001b[1;33m\u001b[0m\u001b[1;33m\u001b[0m\u001b[1;33m\u001b[0m\u001b[0m\n",
      "\u001b[1;31mImportError\u001b[0m: cannot import name 'fibonocci' from 'scripts' (unknown location)"
     ]
    }
   ],
   "source": [
    "# import scipts.fibonocci\n",
    "from scripts import fibonocci\n",
    "# del fibonocci"
   ]
  },
  {
   "cell_type": "code",
   "execution_count": 21,
   "metadata": {},
   "outputs": [],
   "source": [
    "# from scripts import fibonocci\n",
    "\n",
    "# from scripts import mindreader as mytrick\n",
    "\n",
    "# import scripts.fibonocci\n",
    "# import fibonocci\n",
    "\n",
    "# from fibonocci import fib,fib2\n",
    "\n",
    "# from fibonocci import fib as print_fib, fib2 as list_fib\n",
    "\n",
    "# DON'T DO THIS WAY\n",
    "from fibonocci import *\n"
   ]
  },
  {
   "cell_type": "code",
   "execution_count": 24,
   "metadata": {},
   "outputs": [
    {
     "name": "stdout",
     "output_type": "stream",
     "text": [
      "0 1 1 2 3 5 8 \n",
      "[0, 1, 1, 2, 3, 5, 8, 13]\n",
      "[0, 1, 1, 2, 3, 5, 8, 13, 21, 34]\n"
     ]
    }
   ],
   "source": [
    "# fibonocci.fib(10)\n",
    "# fib(10)\n",
    "# fib2(10)\n",
    "# print_fib(10)\n",
    "# list_fib(10)\n",
    "\n",
    "# mytrick.number_revealer()\n",
    "\n",
    "fib(10)\n",
    "print(fib2(20))\n",
    "print(first_ten)"
   ]
  },
  {
   "cell_type": "code",
   "execution_count": 34,
   "metadata": {},
   "outputs": [],
   "source": [
    "import testdemo"
   ]
  },
  {
   "cell_type": "markdown",
   "metadata": {},
   "source": [
    "### MODIFYING WHERE PYTHON LOOKS FOR OBJECTS IMPORTED"
   ]
  },
  {
   "cell_type": "code",
   "execution_count": 1,
   "metadata": {},
   "outputs": [],
   "source": [
    "# by adding our folder as string to the list sys.path\n",
    "# by setting up PYTHONPATH env variable"
   ]
  },
  {
   "cell_type": "code",
   "execution_count": null,
   "metadata": {},
   "outputs": [],
   "source": []
  }
 ],
 "metadata": {
  "kernelspec": {
   "display_name": "Python 3",
   "language": "python",
   "name": "python3"
  },
  "language_info": {
   "codemirror_mode": {
    "name": "ipython",
    "version": 3
   },
   "file_extension": ".py",
   "mimetype": "text/x-python",
   "name": "python",
   "nbconvert_exporter": "python",
   "pygments_lexer": "ipython3",
   "version": "3.7.4"
  }
 },
 "nbformat": 4,
 "nbformat_minor": 2
}
