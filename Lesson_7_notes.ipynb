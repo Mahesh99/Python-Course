{
 "cells": [
  {
   "cell_type": "markdown",
   "metadata": {},
   "source": [
    "### Files"
   ]
  },
  {
   "cell_type": "markdown",
   "metadata": {},
   "source": [
    "File is a location on a disk which has related information with name"
   ]
  },
  {
   "cell_type": "code",
   "execution_count": 1,
   "metadata": {},
   "outputs": [],
   "source": [
    "# open, seek, tell, close"
   ]
  },
  {
   "cell_type": "code",
   "execution_count": 10,
   "metadata": {},
   "outputs": [
    {
     "name": "stdout",
     "output_type": "stream",
     "text": [
      "madam,121,malayalam\n"
     ]
    }
   ],
   "source": [
    "f = open(\"palindromes.txt\")\n",
    "print(f.read())\n",
    "f.close()\n",
    "# type(f)\n",
    "# ?f\n",
    "# help(f)\n",
    "# print(dir(f))\n",
    "\n",
    "\n",
    "# buffer\n",
    "# help(f.close)"
   ]
  },
  {
   "cell_type": "code",
   "execution_count": 46,
   "metadata": {},
   "outputs": [
    {
     "name": "stdout",
     "output_type": "stream",
     "text": [
      "madam,121,malayalam\n"
     ]
    }
   ],
   "source": [
    "f = open(\"palindromes.txt\",\"r\")\n",
    "# dir(f)\n",
    "print(f.read())\n",
    "f.close()\n",
    "# help(open)\n",
    "# ASCII\n",
    "# UNICODE\n",
    "# UTF-8"
   ]
  },
  {
   "cell_type": "code",
   "execution_count": 40,
   "metadata": {},
   "outputs": [
    {
     "ename": "TypeError",
     "evalue": "write() argument must be str, not int",
     "output_type": "error",
     "traceback": [
      "\u001b[1;31m---------------------------------------------------------------------------\u001b[0m",
      "\u001b[1;31mTypeError\u001b[0m                                 Traceback (most recent call last)",
      "\u001b[1;32m<ipython-input-40-1f573c58aac3>\u001b[0m in \u001b[0;36m<module>\u001b[1;34m\u001b[0m\n\u001b[0;32m      1\u001b[0m \u001b[0mf\u001b[0m \u001b[1;33m=\u001b[0m \u001b[0mopen\u001b[0m\u001b[1;33m(\u001b[0m\u001b[1;34m\"demo3.txt\"\u001b[0m\u001b[1;33m,\u001b[0m\u001b[1;34m\"a\"\u001b[0m\u001b[1;33m)\u001b[0m\u001b[1;33m\u001b[0m\u001b[1;33m\u001b[0m\u001b[0m\n\u001b[1;32m----> 2\u001b[1;33m \u001b[0mprint\u001b[0m\u001b[1;33m(\u001b[0m\u001b[0mf\u001b[0m\u001b[1;33m.\u001b[0m\u001b[0mwrite\u001b[0m\u001b[1;33m(\u001b[0m\u001b[1;36m5\u001b[0m\u001b[1;33m)\u001b[0m\u001b[1;33m)\u001b[0m\u001b[1;33m\u001b[0m\u001b[1;33m\u001b[0m\u001b[0m\n\u001b[0m\u001b[0;32m      3\u001b[0m \u001b[0mf\u001b[0m\u001b[1;33m.\u001b[0m\u001b[0mclose\u001b[0m\u001b[1;33m(\u001b[0m\u001b[1;33m)\u001b[0m\u001b[1;33m\u001b[0m\u001b[1;33m\u001b[0m\u001b[0m\n\u001b[0;32m      4\u001b[0m \u001b[1;33m\u001b[0m\u001b[0m\n\u001b[0;32m      5\u001b[0m \u001b[1;31m# r - if file exists then open() will return the object representing that file\u001b[0m\u001b[1;33m\u001b[0m\u001b[1;33m\u001b[0m\u001b[1;33m\u001b[0m\u001b[0m\n",
      "\u001b[1;31mTypeError\u001b[0m: write() argument must be str, not int"
     ]
    }
   ],
   "source": [
    "f = open(\"demo3.txt\",\"a\")\n",
    "print(f.write(\" hello world2\"))\n",
    "f.close()\n",
    "\n",
    "# r - if file exists then open() will return the object representing that file\n",
    "#   - if doesn't exist error will be thrown\n",
    "#   - cursor will be placed at the beginning of the file\n",
    "\n",
    "# w -  when we open a file in write mode all the content in the file will be erased\n",
    "#   -  whether file with that name doesn't exist then new file will be created\n",
    "#   - cursor is placed at the beginning of the file\n",
    "\n",
    "# a - if file specified exists then it'll reference to the file will be returned and \n",
    "#     cursor is placed at the end of the file\n",
    "#   - if file doesn't exist then new file will be created and cursor placed at the beginning of the file"
   ]
  },
  {
   "cell_type": "code",
   "execution_count": 89,
   "metadata": {},
   "outputs": [
    {
     "name": "stdout",
     "output_type": "stream",
     "text": [
      "False\n",
      "True\n",
      "madam, 121, malayalam, 20202\n"
     ]
    }
   ],
   "source": [
    "# read\n",
    "f = open(\"palindromes.txt\")\n",
    "c = f.read()\n",
    "print(c)\n",
    "f.close()"
   ]
  },
  {
   "cell_type": "code",
   "execution_count": 87,
   "metadata": {},
   "outputs": [
    {
     "name": "stdout",
     "output_type": "stream",
     "text": [
      "True\n",
      "False\n"
     ]
    }
   ],
   "source": [
    "# write\n",
    "f = open(\"palindromes.txt\",\"w\")\n",
    "f.write(\"madam, 121, malayalam\")\n",
    "# print(f.writable())\n",
    "# print(f.readable())\n",
    "f.close()"
   ]
  },
  {
   "cell_type": "code",
   "execution_count": 88,
   "metadata": {},
   "outputs": [
    {
     "name": "stdout",
     "output_type": "stream",
     "text": [
      "True\n",
      "False\n"
     ]
    }
   ],
   "source": [
    "# write\n",
    "f = open(\"palindromes.txt\",\"a\")\n",
    "f.write(\", 20202\")\n",
    "f.close()"
   ]
  },
  {
   "cell_type": "code",
   "execution_count": 90,
   "metadata": {},
   "outputs": [],
   "source": [
    "# r+ - r and write\n",
    "# w+ - w and read\n",
    "# a+ - a and read"
   ]
  },
  {
   "cell_type": "code",
   "execution_count": 94,
   "metadata": {},
   "outputs": [
    {
     "name": "stdout",
     "output_type": "stream",
     "text": [
      "madam , 121\n"
     ]
    }
   ],
   "source": [
    "# r+\n",
    "f = open(\"palindromes.txt\",\"r+\")\n",
    "c = f.read(5)\n",
    "c2 = f.read(5)\n",
    "print(c,c2)\n",
    "f.write(c)\n",
    "f.close()"
   ]
  },
  {
   "cell_type": "code",
   "execution_count": 112,
   "metadata": {},
   "outputs": [
    {
     "name": "stdout",
     "output_type": "stream",
     "text": [
      "10\n",
      "madam, 121\n"
     ]
    }
   ],
   "source": [
    "# w+\n",
    "f = open(\"palindromes.txt\",\"w+\")\n",
    "f.write(\"madam, 121\")\n",
    "print(f.tell())\n",
    "f.seek(0)\n",
    "print(f.read())\n",
    "\n",
    "f.close()"
   ]
  },
  {
   "cell_type": "code",
   "execution_count": 136,
   "metadata": {},
   "outputs": [
    {
     "name": "stdout",
     "output_type": "stream",
     "text": [
      "21\n",
      "10\n",
      ", malayalam\n"
     ]
    }
   ],
   "source": [
    "# a+\n",
    "f = open(\"palindromes.txt\",\"a+\")\n",
    "f.write(\", malayalam\")\n",
    "print(f.tell())\n",
    "print(f.seek(10))\n",
    "print(f.read())\n",
    "f.close()"
   ]
  },
  {
   "cell_type": "code",
   "execution_count": 144,
   "metadata": {},
   "outputs": [
    {
     "name": "stdout",
     "output_type": "stream",
     "text": [
      "0\n",
      "\n"
     ]
    }
   ],
   "source": [
    "# seek\n",
    "f = open(\"palindromes.txt\")\n",
    "print(f.tell())\n",
    "# f.seek(offset_from_beginning)\n",
    "# f.seek(10)\n",
    "\n",
    "# f.seek(0,-2) # to move cursor to end of the file\n",
    "f.seek(0,2)\n",
    "print(f.read())\n",
    "f.close()"
   ]
  },
  {
   "cell_type": "code",
   "execution_count": 156,
   "metadata": {},
   "outputs": [
    {
     "name": "stdout",
     "output_type": "stream",
     "text": [
      "Help on built-in function tell:\n",
      "\n",
      "tell() method of _io.TextIOWrapper instance\n",
      "    Return current stream position.\n",
      "\n",
      "Help on built-in function readable:\n",
      "\n",
      "readable() method of _io.TextIOWrapper instance\n",
      "    Return whether object was opened for reading.\n",
      "    \n",
      "    If False, read() will raise OSError.\n",
      "\n",
      "Help on built-in function writable:\n",
      "\n",
      "writable() method of _io.TextIOWrapper instance\n",
      "    Return whether object was opened for writing.\n",
      "    \n",
      "    If False, write() will raise OSError.\n",
      "\n",
      "r\n",
      "palindromes.txt\n",
      "['_CHUNK_SIZE', '__class__', '__del__', '__delattr__', '__dict__', '__dir__', '__doc__', '__enter__', '__eq__', '__exit__', '__format__', '__ge__', '__getattribute__', '__getstate__', '__gt__', '__hash__', '__init__', '__init_subclass__', '__iter__', '__le__', '__lt__', '__ne__', '__new__', '__next__', '__reduce__', '__reduce_ex__', '__repr__', '__setattr__', '__sizeof__', '__str__', '__subclasshook__', '_checkClosed', '_checkReadable', '_checkSeekable', '_checkWritable', '_finalizing', 'buffer', 'close', 'closed', 'detach', 'encoding', 'errors', 'fileno', 'flush', 'isatty', 'line_buffering', 'mode', 'name', 'newlines', 'read', 'readable', 'readline', 'readlines', 'reconfigure', 'seek', 'seekable', 'tell', 'truncate', 'writable', 'write', 'write_through', 'writelines']\n"
     ]
    }
   ],
   "source": [
    "help(f.tell)\n",
    "help(f.readable)\n",
    "help(f.writable)\n",
    "print(f.mode)\n",
    "print(f.name)\n",
    "print(dir(f))"
   ]
  },
  {
   "cell_type": "code",
   "execution_count": 169,
   "metadata": {},
   "outputs": [
    {
     "name": "stdout",
     "output_type": "stream",
     "text": [
      "['Tiger, tiger, burning bright\\n', 'In the forests of the night,\\n', 'What immortal hand or eye\\n', 'Dare frame thy fearful symmetry?']\n",
      "Tiger, tiger, burning bright\n",
      "\n",
      "In the forests of the night,\n",
      "\n",
      "What immortal hand or eye\n",
      "\n",
      "Dare frame thy fearful symmetry?\n"
     ]
    }
   ],
   "source": [
    "# readlines()\n",
    "f = open(\"thetiger.txt\")\n",
    "c = f.readlines() #list\n",
    "print(c)\n",
    "for line in c:\n",
    "    print(line)\n",
    "f.close()"
   ]
  },
  {
   "cell_type": "code",
   "execution_count": 171,
   "metadata": {},
   "outputs": [],
   "source": [
    "f2 = open(\"thetiger2.txt\",\"w\")\n",
    "f2.writelines(c)\n",
    "f2.close()"
   ]
  },
  {
   "cell_type": "code",
   "execution_count": null,
   "metadata": {},
   "outputs": [],
   "source": []
  }
 ],
 "metadata": {
  "kernelspec": {
   "display_name": "Python 3.7.4 64-bit",
   "language": "python",
   "name": "python37464bit82f717a4e4ef4db38045cc0c8f6d8f77"
  },
  "language_info": {
   "codemirror_mode": {
    "name": "ipython",
    "version": 3
   },
   "file_extension": ".py",
   "mimetype": "text/x-python",
   "name": "python",
   "nbconvert_exporter": "python",
   "pygments_lexer": "ipython3",
   "version": "3.7.4"
  }
 },
 "nbformat": 4,
 "nbformat_minor": 2
}
