{
 "cells": [
  {
   "cell_type": "code",
   "execution_count": null,
   "metadata": {},
   "outputs": [],
   "source": [
    "# exercise 1\n",
    "# write script with function greet() which prints \"Hello <Your name>\"\n"
   ]
  },
  {
   "cell_type": "code",
   "execution_count": null,
   "metadata": {},
   "outputs": [],
   "source": [
    "# exercise 2\n",
    "\n",
    "# modify function greet(name) taking argument a name as an argument\n",
    "\n"
   ]
  },
  {
   "cell_type": "code",
   "execution_count": null,
   "metadata": {},
   "outputs": [],
   "source": [
    "# exercise 3\n",
    "\n",
    "# modify the greet function to take an additional argument as greeting if not passed default it to \"Hello\"\n",
    "#sample output:\n",
    "# greet(\"Arjun\",\"Good Morning\") -> Good Morning Arjun\n",
    "# greet(\"Arjun\") -> Hello Arjun"
   ]
  },
  {
   "cell_type": "code",
   "execution_count": null,
   "metadata": {},
   "outputs": [],
   "source": [
    "# exercise 4\n",
    "\n",
    "# write script with function convert() which takes celius temperature as argument and\n",
    "# converts it to Fahrenheit and returns it \n",
    "\n"
   ]
  },
  {
   "cell_type": "code",
   "execution_count": null,
   "metadata": {},
   "outputs": [],
   "source": [
    "# exercise 5\n",
    "\n",
    "# complete the is_armstrong() function which takes in an argument num\n",
    "# returns true if it is armstrong number\n",
    "# else returns false\n",
    "\n",
    "# Armstrong number definition for 3 digits\n",
    "# a number that is the sum of its own digits each raised to the power of three\n",
    "# 153 is armstrong since 1³+5³+3³ = 1+125+27 = 153\n",
    "# 370 is armstrong since 3³+7³+0³ = 27+343+0 = 370\n",
    "# 123 is not an armstrong num since 1³+2³+3³ = 36\n",
    "\n",
    "\n",
    "def is_armstrong(num):\n",
    "    pass\n",
    "\n",
    "print(is_armstrong(153))\n",
    "print(is_armstrong(679))"
   ]
  },
  {
   "cell_type": "code",
   "execution_count": null,
   "metadata": {},
   "outputs": [],
   "source": [
    "# Daily exercise\n",
    "\n",
    "# Complete below function so that it prints\n",
    "# output 1 on calling test_fun() at line 12\n",
    "# output 2 on calling test_fun() at line 22\n",
    "\n",
    "def test_fun():\n",
    "    pass\n",
    "\n",
    "\n",
    "\n",
    "test_fun(\"Red\",\"Blue\",\"Green\",warm_color=[\"Orange\",\"Yellow\"],cool_colors=\"Magenta\")\n",
    "# OUTPUT 1:\n",
    "# First argument: Red\n",
    "# Variable positional arguments\n",
    "# 1. Blue\n",
    "# 2. Green\n",
    "# Variable keyward arguments\n",
    "# 1. warm_color = ['Orange','Yellow']\n",
    "# 2. cool_colors = \"Magenta\"\n",
    "\n",
    "test_fun(\"India\",\"Japan\",largest_country=\"Russia\",smallest_country=\"Vatican city\"\n",
    "         ,western_countries=(\"Mexico\",\"USA\",\"Canada\"))\n",
    "# OUTPUT 2:\n",
    "# First argument: India\n",
    "# Variable positional arguments\n",
    "# 1. Japan\n",
    "# Variable keyword arguments\n",
    "# 1. largest_country = \"Russia\"\n",
    "# 2. smallest_country = \"Vatican city\"\n",
    "# 3. western_countries = (\"Mexico\",\"USA\",\"Canada\")"
   ]
  },
  {
   "cell_type": "code",
   "execution_count": null,
   "metadata": {},
   "outputs": [],
   "source": [
    "# exercise 6\n",
    "\n",
    "# complete the below function to calculate factorial of a given number\n",
    "# fact1: using for loop\n",
    "# fact2: using recursion(functions calling itself)\n",
    "\n",
    "def fact1(n):\n",
    "    pass\n",
    "\n",
    "def fact2(n)\n",
    "    pass\n",
    "\n",
    "print(fact1(5)) #output:120\n",
    "print(fact2(5)) #output:120"
   ]
  },
  {
   "cell_type": "code",
   "execution_count": null,
   "metadata": {},
   "outputs": [],
   "source": [
    "# exercise 7\n",
    "\n",
    "# complete matrix_multiplication() function \n",
    "# which reads 2 matrices and prints product of them\n",
    "\n",
    "\n",
    "# This method reads values and converts it into the below form and returns it\n",
    "# return type: list of lists(with string values)\n",
    "# Eg: [['4', '5'], ['6', '7']]\n",
    "def read_matrix():\n",
    "    m1 = []\n",
    "    # code to read and place values in m1\n",
    "    return m1\n",
    "\n",
    "# This method takes in one argument of type list of lists(with string values) and casts all the inputs into ints and returns it\n",
    "#\n",
    "# example: \n",
    "# object received: [['4', '5'], ['6', '7']]\n",
    "# object returned: [[4, 5], [6, 7]]\n",
    "def convert_to_int(m):\n",
    "    # code to convert\n",
    "    return m\n",
    "    \n",
    "    \n",
    "def matrix_multiplication():\n",
    "    pass\n",
    "    # use read_matrix() to read a matrix from the user\n",
    "    # use convert_to_int() to convert string value to int \n",
    "    # then write code to perform matrix multiplication\n",
    "    \n",
    "\n",
    "matrix_multiplication()"
   ]
  },
  {
   "cell_type": "code",
   "execution_count": 42,
   "metadata": {},
   "outputs": [
    {
     "name": "stdout",
     "output_type": "stream",
     "text": [
      "[26]\n"
     ]
    }
   ],
   "source": [
    "# exercise\n",
    "\n",
    "#ord() - this function takes a character and returns ascii of that character\n",
    "#Examples:\n",
    "# print(ord('b')) #uncomment this line and execute(output: 98)\n",
    "# print(ord('c')) #uncomment this line and execute(output: 99)\n",
    "\n",
    "# chr() - this function takes a ascii number and returns character of the passed ascii number\n",
    "# Examples:\n",
    "# print(chr(98)) #uncomment this line and execute(output: 'b')\n",
    "# print(chr(99)) #uncomment this line and execute(output: 'c')\n",
    "\n",
    "# This function shifts characters of the given string(msg) by given number n in forward direction\n",
    "# e.g: shift_encode('abc',2) -> 'cde'\n",
    "# e.g: shift_encode('xyz',1) -> 'yz{'   (because z ascii value is 122 will become 123 which is a ascii of '{' )\n",
    "\n",
    "# But following function has some syntactical errors \n",
    "# And most part of the logic has been written\n",
    "# complete the remaining part to get the expected output\n",
    "\n",
    "def shift_encode(msg,n):\n",
    "    op_msg = []\n",
    "    for i in msg:\n",
    "        asc = ord(i)-97\n",
    "        asc = (asc+n)\n",
    "    op_msg.append(asc)\n",
    "    return op_msg\n",
    "print(shift_encode(\"xyz\",1))\n",
    "\n"
   ]
  }
 ],
 "metadata": {
  "kernelspec": {
   "display_name": "Python 3",
   "language": "python",
   "name": "python3"
  },
  "language_info": {
   "codemirror_mode": {
    "name": "ipython",
    "version": 3
   },
   "file_extension": ".py",
   "mimetype": "text/x-python",
   "name": "python",
   "nbconvert_exporter": "python",
   "pygments_lexer": "ipython3",
   "version": "3.7.4"
  }
 },
 "nbformat": 4,
 "nbformat_minor": 2
}
