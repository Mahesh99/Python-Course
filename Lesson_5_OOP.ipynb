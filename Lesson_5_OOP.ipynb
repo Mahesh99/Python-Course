{
 "cells": [
  {
   "cell_type": "markdown",
   "metadata": {},
   "source": [
    "<br><strong><span style=\"color:#dd2c00;font-size:23px;\">Class and Object</span></strong><br><br>\n",
    "<span>A <b>class</b> is a blueprint/template or collection of objects of similar type</span><br>\n",
    "An <b>object</b> is an instance of the class<br>\n",
    "For example, take the class of Dog. A dog has a breed, 4 legs, different number of fingers based on it's breed and they bark,walk,play,.etc.<br>\n",
    "So the dog which if you are imagining right now is an instance of the Dog class.<br>"
   ]
  },
  {
   "cell_type": "code",
   "execution_count": 1,
   "metadata": {},
   "outputs": [
    {
     "ename": "SyntaxError",
     "evalue": "invalid syntax (<ipython-input-1-7090d3509568>, line 2)",
     "output_type": "error",
     "traceback": [
      "\u001b[1;36m  File \u001b[1;32m\"<ipython-input-1-7090d3509568>\"\u001b[1;36m, line \u001b[1;32m2\u001b[0m\n\u001b[1;33m    <statement-1>\u001b[0m\n\u001b[1;37m    ^\u001b[0m\n\u001b[1;31mSyntaxError\u001b[0m\u001b[1;31m:\u001b[0m invalid syntax\n"
     ]
    }
   ],
   "source": [
    "class ClassName:\n",
    "    <statement-1>\n",
    "    <statement-2>\n",
    "    .\n",
    "    .\n",
    "    .\n",
    "    <statement-n>"
   ]
  },
  {
   "cell_type": "code",
   "execution_count": null,
   "metadata": {},
   "outputs": [],
   "source": [
    "class Emp:\n",
    "    pass\n"
   ]
  },
  {
   "cell_type": "markdown",
   "metadata": {},
   "source": [
    "A class definition starts with <code>class</code> keyword followed by the class name and colon<code>:</code> at the end of the name.<br>\n",
    "all the indented statements after this line will be considered as the class definition"
   ]
  },
  {
   "cell_type": "code",
   "execution_count": 10,
   "metadata": {},
   "outputs": [
    {
     "name": "stdout",
     "output_type": "stream",
     "text": [
      "12\n"
     ]
    }
   ],
   "source": [
    "class Rectangle:\n",
    "    def __init__(self, length, height):\n",
    "        self.length =length\n",
    "        self.height = height\n",
    "    def area(self):\n",
    "        return self.length*self.height\n",
    "    \n",
    "r = Rectangle(3,4) # an instance of Rectangle is created\n",
    "print(r.area())"
   ]
  },
  {
   "cell_type": "markdown",
   "metadata": {},
   "source": [
    "Usually a class contains only method definitions inside it but can also contain other variables.<br>\n",
    "Rectangle class above has two methods inside it <code>&#95;&#95;init&#95;&#95;()</code> and <code>area()</code><br>\n",
    "<br><code>&#95;&#95;init&#95;&#95;()</code>\n",
    "<ul>\n",
    "    <li>is a special method when an instance of this class is created it will be called if defined(so it's not mandatory to define it)</li>\n",
    "    <li>first argument <code>self</code> is the instance/object itself which is passed by the python interpreter so we no need to pass explicitly<br>name could be anything, using <code>self</code> is a convention and makes it easy for other python to read</li>\n",
    "    <li>after that follows two arguments <code>length</code> and <code>height</code> which are specific to the class</li>\n",
    "    <li>they are saved by referencing <code>self</code> followed by dot and variable name. By saving them this way makes them <i>instance variables</i> </li>\n",
    "</ul>\n",
    "<div>\n",
    "    <code>area()</code>: returns the area of the rectangle by multiplying length and height\n",
    "    <ul>\n",
    "    </ul>\n",
    "</div>\n",
    "<div>\n",
    "   On line no. 8 object/instance of the Rectangle class is created by placing parenthesis after the class name and following the arguments if any.<br>\n",
    "    when this line executes <code>&#95;&#95;init&#95;&#95;()</code> is called(if defined) with the arguments object itself,length and height\n",
    "</div>\n"
   ]
  },
  {
   "cell_type": "code",
   "execution_count": 2,
   "metadata": {},
   "outputs": [
    {
     "name": "stdout",
     "output_type": "stream",
     "text": [
      "bow...wow!!\n",
      "Oscar\n"
     ]
    }
   ],
   "source": [
    "class Dog:\n",
    "    def __init__(self,name):\n",
    "        self.name = name\n",
    "    def bark(self):\n",
    "        print(\"bow...wow!!\")\n",
    "    def change_name(self,new_name):\n",
    "        self.name = new_name\n",
    "        \n",
    "d1 = Dog(\"Tommy\")\n",
    "d1.bark()\n",
    "d1.change_name(\"Tiger\")\n",
    "\n",
    "d2 = Dog(\"Tiger\")\n",
    "d2.name = \"Oscar\" # name can be accessed by dot notation \n",
    "print(d2.name)"
   ]
  },
  {
   "cell_type": "markdown",
   "metadata": {},
   "source": [
    "<b><br><span style=\"color:#007FDC;font-size:16px\">Instance variables and Class variables</span></b><br>\n",
    "<span><i>Instance variables</i> are unique to each instance</span><br>\n",
    "<span>But <i>class variables</i> are shared by all instances</span>"
   ]
  },
  {
   "cell_type": "code",
   "execution_count": 29,
   "metadata": {},
   "outputs": [
    {
     "name": "stdout",
     "output_type": "stream",
     "text": [
      "['roll over', 'play dead']\n",
      "Canine\n",
      "Canine\n",
      "Canine\n"
     ]
    }
   ],
   "source": [
    "class Dog:\n",
    "    kind = 'Canine'\n",
    "    def __init__(self, name):\n",
    "        self.name = name\n",
    "        self.tricks = []    # creates a new empty list for each dog\n",
    "\n",
    "    def add_trick(self, trick):\n",
    "        self.tricks.append(trick)\n",
    "\n",
    "d1 = Dog(\"Tommy\")\n",
    "d1.add_trick(\"roll over\")\n",
    "d1.add_trick(\"play dead\")\n",
    "print(d1.tricks)\n",
    "print(d1.kind)\n",
    "\n",
    "d2 = Dog(\"Jipsy\")\n",
    "d2.add_trick(\"play dead\")\n",
    "d2.kind = \"reptiles\"\n",
    "print(Dog.kind)\n",
    "print(Dog.kind)\n"
   ]
  },
  {
   "cell_type": "markdown",
   "metadata": {},
   "source": [
    "<b><br><span style=\"color:#007FDC;font-size:16px\">private variables</span></b><br>\n",
    "<span>a variable which cannot be accessed outside of the class</span><br>\n",
    "<span>to make a variable private just precede it with two underscores(like <code>height</code> to <code>__height</code>)"
   ]
  },
  {
   "cell_type": "code",
   "execution_count": 60,
   "metadata": {},
   "outputs": [
    {
     "ename": "AttributeError",
     "evalue": "'Rectangle' object has no attribute '__length'",
     "output_type": "error",
     "traceback": [
      "\u001b[1;31m---------------------------------------------------------------------------\u001b[0m",
      "\u001b[1;31mAttributeError\u001b[0m                            Traceback (most recent call last)",
      "\u001b[1;32m<ipython-input-60-c7cabf9cc0f0>\u001b[0m in \u001b[0;36m<module>\u001b[1;34m\u001b[0m\n\u001b[0;32m      8\u001b[0m \u001b[1;33m\u001b[0m\u001b[0m\n\u001b[0;32m      9\u001b[0m \u001b[0mr\u001b[0m \u001b[1;33m=\u001b[0m \u001b[0mRectangle\u001b[0m\u001b[1;33m(\u001b[0m\u001b[1;36m10\u001b[0m\u001b[1;33m,\u001b[0m\u001b[1;36m4\u001b[0m\u001b[1;33m)\u001b[0m\u001b[1;33m\u001b[0m\u001b[1;33m\u001b[0m\u001b[0m\n\u001b[1;32m---> 10\u001b[1;33m \u001b[0mprint\u001b[0m\u001b[1;33m(\u001b[0m\u001b[0mr\u001b[0m\u001b[1;33m.\u001b[0m\u001b[0m__length\u001b[0m\u001b[1;33m)\u001b[0m\u001b[1;33m\u001b[0m\u001b[1;33m\u001b[0m\u001b[0m\n\u001b[0m",
      "\u001b[1;31mAttributeError\u001b[0m: 'Rectangle' object has no attribute '__length'"
     ]
    }
   ],
   "source": [
    "class Rectangle:\n",
    "    def __init__(self, length, height):\n",
    "        self.__length =length\n",
    "        self.__height = height\n",
    "    def area(self):\n",
    "        return self.__length*self.__height\n",
    "\n",
    "\n",
    "r = Rectangle(10,4)\n",
    "print(r.__length)"
   ]
  },
  {
   "cell_type": "markdown",
   "metadata": {},
   "source": [
    "<b><br><span style=\"color:#007FDC;font-size:16px\">Creating utility classes</span></b><br>\n",
    "There are some cases where we want to use just the methods of the class without actually creating an object<br>\n",
    "To acheive that just pass only required parameters in the method definition and omit any parameter name(<code>self</code>) for the object<br>\n",
    "<span>To call such method use <code>ClassName.method_name</code></span> with required arguments<br>\n",
    "in the example we called such method as  <code>TempConverter.convert_to_fahrenheit(36.889)</code>\n"
   ]
  },
  {
   "cell_type": "code",
   "execution_count": 62,
   "metadata": {},
   "outputs": [
    {
     "name": "stdout",
     "output_type": "stream",
     "text": [
      "98.40020000000001\n",
      "36.88888888888889\n"
     ]
    }
   ],
   "source": [
    "# example 2\n",
    "class TempConverter:\n",
    "    def convert_to_fahrenheit(celcius):\n",
    "        f = 9/5*celcius + 32\n",
    "        return f\n",
    "    def convert_to_celcius(fahrenheit):\n",
    "        c = 5/9*(fahrenheit - 32)\n",
    "        return c\n",
    "\n",
    "tc = TempConverter()\n",
    "print(TempConverter.convert_to_fahrenheit(36.889))\n",
    "print(TempConverter.convert_to_celcius(98.4))"
   ]
  },
  {
   "cell_type": "markdown",
   "metadata": {},
   "source": [
    "<br><strong><span style=\"color:#dd2c00;font-size:23px;\">Inheritance</span></strong><br><br>\n",
    "Inheritance is a mechanism by which one class can derive or inherit <b>data attributes</b> and <b>methods</b> of other class to it<br>\n",
    "The class which is inheriting properties of other class is called <b>subclass</b>/<b>derived class</b>/<b>child class</b><br>\n",
    "The class which is being inherited is called <b>super class</b>/<b>base class</b>/<b>parent class</b>"
   ]
  },
  {
   "cell_type": "markdown",
   "metadata": {},
   "source": [
    "In the following example <code>Calci</code> is the subclass and <code>SciCalci</code> is the superclass<br>\n",
    "object of <code>SciCalci</code> has inherited properties of <code>Calci</code> by speicifying the super class name(<code>SciCalci</code>) in parenthesis after it's name<br>\n",
    "<code>class SciCalci(Calci):</code><br>\n",
    "<code>add()</code> method belongs to the superclass Calci which is being accessed by subclass <code>sciCalci</code> object <code>cal</code>"
   ]
  },
  {
   "cell_type": "code",
   "execution_count": 3,
   "metadata": {},
   "outputs": [
    {
     "name": "stdout",
     "output_type": "stream",
     "text": [
      "7\n"
     ]
    }
   ],
   "source": [
    "class Calci:\n",
    "    def __init__(self):\n",
    "        self.name = \"Calci\"\n",
    "    def add(self,a,b):\n",
    "        return a+b\n",
    "    def sub(self,a,b):\n",
    "        return a-b\n",
    "    def mul(self,a,b):\n",
    "        return a*b\n",
    "    def div(self,a,b):\n",
    "        return a/b\n",
    "\n",
    "class SciCalci(Calci):\n",
    "    def __init__(self):\n",
    "        super() #Calci.__init__(self)\n",
    "        self.name = \"Scientific Calci\"\n",
    "    def fact(self,n):\n",
    "        p = 1\n",
    "        for i in range(1,n+1):\n",
    "            p *= i\n",
    "        return p\n",
    "\n",
    "cal = SciCalci()\n",
    "cal.fact(10)\n",
    "print(cal.add(3,4))"
   ]
  },
  {
   "cell_type": "markdown",
   "metadata": {},
   "source": [
    "<b><br><span style=\"color:#007FDC;font-size:16px\">Multiple Inheritance </span></b><br>\n",
    "with multiple inheritance a class can inherit more than one class properties<br>\n",
    "syntax for multiple inheritance is <code>class SubClass(SuperClass1[,SuperClass2[,..]]):</code><br>"
   ]
  },
  {
   "cell_type": "code",
   "execution_count": 66,
   "metadata": {},
   "outputs": [
    {
     "name": "stdout",
     "output_type": "stream",
     "text": [
      "method in A\n",
      "method in B\n",
      "method in C\n"
     ]
    }
   ],
   "source": [
    "# example of multiple inheritance\n",
    "\n",
    "class A:\n",
    "    def meth1(self):\n",
    "        print(\"method in A\")\n",
    "\n",
    "class B:\n",
    "    def meth2(self):\n",
    "        print(\"method in B\")\n",
    "\n",
    "class C(A,B): # now Object of C will also can access methods of classes A and B\n",
    "    def meth3(self):\n",
    "        print(\"method in C\")\n",
    "\n",
    "obj = C()\n",
    "obj.meth1()\n",
    "obj.meth2()\n",
    "obj.meth3()"
   ]
  },
  {
   "cell_type": "markdown",
   "metadata": {},
   "source": [
    "<b>what if one of the super classes being inherited has the properties with same name in the other</b><br>\n",
    "<b>then the properties of the class which is specified first in the order(while inheriting) will be inherited by subclass</b>"
   ]
  },
  {
   "cell_type": "code",
   "execution_count": 1,
   "metadata": {},
   "outputs": [
    {
     "name": "stdout",
     "output_type": "stream",
     "text": [
      "method in A\n",
      "method in C\n"
     ]
    }
   ],
   "source": [
    "\n",
    "class A:\n",
    "    def meth1(self):\n",
    "        print(\"method in A\")\n",
    "\n",
    "class B:\n",
    "    def meth1(self):\n",
    "        print(\"method in B\")\n",
    "\n",
    "class C(A, B): # Object of C will also can access methods of classes A and B\n",
    "    def meth2(self):\n",
    "        print(\"method in C\")\n",
    "\n",
    "obj = C()\n",
    "obj.meth1()\n",
    "obj.meth2()\n"
   ]
  },
  {
   "cell_type": "markdown",
   "metadata": {},
   "source": [
    "<br><strong><span style=\"color:#dd2c00;font-size:23px;\">Iterators</span></strong><br><br>\n",
    "A iterator is an object which can be itereated over its contents<br>\n",
    "iterator can be created using <code>iter()</code> method by passing it a list,tuple,set or dictionary<br>\n",
    "Or by defining <code>&#95;&#95;iter&#95;&#95;()</code> and <code>&#95;&#95;next&#95;&#95;()</code> in a class<br>"
   ]
  },
  {
   "cell_type": "markdown",
   "metadata": {},
   "source": [
    "A iterator will return one of its element when <code>next()</code> is called on it."
   ]
  },
  {
   "cell_type": "code",
   "execution_count": 1,
   "metadata": {},
   "outputs": [
    {
     "name": "stdout",
     "output_type": "stream",
     "text": [
      "<list_iterator object at 0x000001DED11474C8>\n",
      "2\n",
      "48\n",
      "11\n"
     ]
    },
    {
     "ename": "StopIteration",
     "evalue": "",
     "output_type": "error",
     "traceback": [
      "\u001b[1;31m--------------------------------------------------------------------------\u001b[0m",
      "\u001b[1;31mStopIteration\u001b[0m                            Traceback (most recent call last)",
      "\u001b[1;32m<ipython-input-1-d650bcc2494c>\u001b[0m in \u001b[0;36m<module>\u001b[1;34m\u001b[0m\n\u001b[0;32m      5\u001b[0m \u001b[0mprint\u001b[0m\u001b[1;33m(\u001b[0m\u001b[0mnext\u001b[0m\u001b[1;33m(\u001b[0m\u001b[0mnums\u001b[0m\u001b[1;33m)\u001b[0m\u001b[1;33m)\u001b[0m\u001b[1;33m\u001b[0m\u001b[1;33m\u001b[0m\u001b[0m\n\u001b[0;32m      6\u001b[0m \u001b[0mprint\u001b[0m\u001b[1;33m(\u001b[0m\u001b[0mnext\u001b[0m\u001b[1;33m(\u001b[0m\u001b[0mnums\u001b[0m\u001b[1;33m)\u001b[0m\u001b[1;33m)\u001b[0m\u001b[1;33m\u001b[0m\u001b[1;33m\u001b[0m\u001b[0m\n\u001b[1;32m----> 7\u001b[1;33m \u001b[0mprint\u001b[0m\u001b[1;33m(\u001b[0m\u001b[0mnext\u001b[0m\u001b[1;33m(\u001b[0m\u001b[0mnums\u001b[0m\u001b[1;33m)\u001b[0m\u001b[1;33m)\u001b[0m\u001b[1;33m\u001b[0m\u001b[1;33m\u001b[0m\u001b[0m\n\u001b[0m",
      "\u001b[1;31mStopIteration\u001b[0m: "
     ]
    }
   ],
   "source": [
    "# iterator created from list\n",
    "nums=iter([2,48,11])\n",
    "print(nums)\n",
    "print(next(nums))\n",
    "print(next(nums))\n",
    "print(next(nums))\n",
    "print(next(nums))"
   ]
  },
  {
   "cell_type": "code",
   "execution_count": 74,
   "metadata": {},
   "outputs": [
    {
     "name": "stdout",
     "output_type": "stream",
     "text": [
      "pens\n",
      "pencils\n"
     ]
    },
    {
     "ename": "StopIteration",
     "evalue": "",
     "output_type": "error",
     "traceback": [
      "\u001b[1;31m---------------------------------------------------------------------------\u001b[0m",
      "\u001b[1;31mStopIteration\u001b[0m                             Traceback (most recent call last)",
      "\u001b[1;32m<ipython-input-74-8966ab5d7282>\u001b[0m in \u001b[0;36m<module>\u001b[1;34m\u001b[0m\n\u001b[0;32m      2\u001b[0m \u001b[0mprint\u001b[0m\u001b[1;33m(\u001b[0m\u001b[0mnext\u001b[0m\u001b[1;33m(\u001b[0m\u001b[0mnums\u001b[0m\u001b[1;33m)\u001b[0m\u001b[1;33m)\u001b[0m\u001b[1;33m\u001b[0m\u001b[1;33m\u001b[0m\u001b[0m\n\u001b[0;32m      3\u001b[0m \u001b[0mprint\u001b[0m\u001b[1;33m(\u001b[0m\u001b[0mnext\u001b[0m\u001b[1;33m(\u001b[0m\u001b[0mnums\u001b[0m\u001b[1;33m)\u001b[0m\u001b[1;33m)\u001b[0m\u001b[1;33m\u001b[0m\u001b[1;33m\u001b[0m\u001b[0m\n\u001b[1;32m----> 4\u001b[1;33m \u001b[0mprint\u001b[0m\u001b[1;33m(\u001b[0m\u001b[0mnext\u001b[0m\u001b[1;33m(\u001b[0m\u001b[0mnums\u001b[0m\u001b[1;33m)\u001b[0m\u001b[1;33m)\u001b[0m\u001b[1;33m\u001b[0m\u001b[1;33m\u001b[0m\u001b[0m\n\u001b[0m",
      "\u001b[1;31mStopIteration\u001b[0m: "
     ]
    }
   ],
   "source": [
    "# iterator created using dictionary\n",
    "\n",
    "nums = iter({\"pens\":3,\"pencils\":4})\n",
    "print(next(nums))\n",
    "print(next(nums))\n",
    "print(next(nums))\n"
   ]
  },
  {
   "cell_type": "code",
   "execution_count": 2,
   "metadata": {},
   "outputs": [
    {
     "name": "stdout",
     "output_type": "stream",
     "text": [
      "3\n",
      "2\n",
      "1\n"
     ]
    }
   ],
   "source": [
    "# iterator created using class\n",
    "\n",
    "class MyIterator:\n",
    "    def __init__(self,n):\n",
    "        self.n = n\n",
    "\n",
    "    def __iter__(self):\n",
    "        return self\n",
    "        \n",
    "    def __next__(self):\n",
    "        if self.n == 0:\n",
    "            raise StopIteration()\n",
    "        temp = self.n\n",
    "        self.n -= 1\n",
    "        return temp\n",
    "    \n",
    "miter = MyIterator(3)\n",
    "# i = iter(miter)\n",
    "# print(next(miter))\n",
    "# print(next(miter))\n",
    "# print(next(miter))\n",
    "# # print(next(miter))\n",
    "\n",
    "for i in miter:\n",
    "    print(i)\n"
   ]
  },
  {
   "cell_type": "markdown",
   "metadata": {},
   "source": [
    "<b><i>Internally <code>for</code> loop uses iterators concept to iterate over the given data<br>\n",
    "    It creates iterator if a sequence or iterable objects is passed</i></b><br><br>"
   ]
  },
  {
   "cell_type": "markdown",
   "metadata": {},
   "source": [
    "<br><strong><span style=\"color:#dd2c00;font-size:23px;\">Generators</span></strong><br><br>\n",
    "Generators are a simple and powerful tool for creating iterators<br>\n",
    "They are written like regular functions but use the yield statement whenever they want to return data<br>\n",
    "Each time <code>next()</code> is called on it, the generator resumes where it left off (it remembers all the data values and which statement was last executed)"
   ]
  },
  {
   "cell_type": "code",
   "execution_count": 86,
   "metadata": {},
   "outputs": [
    {
     "name": "stdout",
     "output_type": "stream",
     "text": [
      "0\n",
      "1\n",
      "2\n"
     ]
    },
    {
     "ename": "StopIteration",
     "evalue": "",
     "output_type": "error",
     "traceback": [
      "\u001b[1;31m---------------------------------------------------------------------------\u001b[0m",
      "\u001b[1;31mStopIteration\u001b[0m                             Traceback (most recent call last)",
      "\u001b[1;32m<ipython-input-86-49aa6cd3cb67>\u001b[0m in \u001b[0;36m<module>\u001b[1;34m\u001b[0m\n\u001b[0;32m     12\u001b[0m \u001b[0mprint\u001b[0m\u001b[1;33m(\u001b[0m\u001b[0mnext\u001b[0m\u001b[1;33m(\u001b[0m\u001b[0mmy\u001b[0m\u001b[1;33m)\u001b[0m\u001b[1;33m)\u001b[0m\u001b[1;33m\u001b[0m\u001b[1;33m\u001b[0m\u001b[0m\n\u001b[0;32m     13\u001b[0m \u001b[0mprint\u001b[0m\u001b[1;33m(\u001b[0m\u001b[0mnext\u001b[0m\u001b[1;33m(\u001b[0m\u001b[0mmy\u001b[0m\u001b[1;33m)\u001b[0m\u001b[1;33m)\u001b[0m\u001b[1;33m\u001b[0m\u001b[1;33m\u001b[0m\u001b[0m\n\u001b[1;32m---> 14\u001b[1;33m \u001b[0mprint\u001b[0m\u001b[1;33m(\u001b[0m\u001b[0mnext\u001b[0m\u001b[1;33m(\u001b[0m\u001b[0mmy\u001b[0m\u001b[1;33m)\u001b[0m\u001b[1;33m)\u001b[0m\u001b[1;33m\u001b[0m\u001b[1;33m\u001b[0m\u001b[0m\n\u001b[0m",
      "\u001b[1;31mStopIteration\u001b[0m: "
     ]
    }
   ],
   "source": [
    "def my_range(n):\n",
    "    count = 0\n",
    "    while count < n:\n",
    "        yield count \n",
    "        count += 1\n",
    "        \n",
    "# for i in my_range(4):\n",
    "#     print(i)\n",
    "\n",
    "my = my_range(3)\n",
    "print(next(my))\n",
    "print(next(my))\n",
    "print(next(my))\n",
    "print(next(my))"
   ]
  },
  {
   "cell_type": "markdown",
   "metadata": {},
   "source": [
    "<br><strong><span style=\"color:#dd2c00;font-size:23px;\">Generator expressions</span></strong><br><br>\n",
    "simple generators can be created using a syntax similar to list comprehensions but with parentheses instead of square brackets<br>\n"
   ]
  },
  {
   "cell_type": "code",
   "execution_count": 66,
   "metadata": {},
   "outputs": [
    {
     "name": "stdout",
     "output_type": "stream",
     "text": [
      "<generator object <genexpr> at 0x000001A9E09708C8>\n",
      "1\n",
      "2\n",
      "3\n",
      "4\n",
      "5\n"
     ]
    }
   ],
   "source": [
    "my_range = (x for x in range(1,1000))\n",
    "print(my_range)\n",
    "print(next(my_range))\n",
    "print(next(my_range))\n",
    "print(next(my_range))\n",
    "print(next(my_range))\n",
    "print(next(my_range))"
   ]
  }
 ],
 "metadata": {
  "kernelspec": {
   "display_name": "Python 3",
   "language": "python",
   "name": "python3"
  },
  "language_info": {
   "codemirror_mode": {
    "name": "ipython",
    "version": 3
   },
   "file_extension": ".py",
   "mimetype": "text/x-python",
   "name": "python",
   "nbconvert_exporter": "python",
   "pygments_lexer": "ipython3",
   "version": "3.7.4"
  }
 },
 "nbformat": 4,
 "nbformat_minor": 2
}
