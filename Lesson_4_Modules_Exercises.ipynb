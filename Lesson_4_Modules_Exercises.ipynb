{
 "cells": [
  {
   "cell_type": "code",
   "execution_count": 1,
   "metadata": {},
   "outputs": [],
   "source": [
    "# Exercise 1\n",
    "\n",
    "# TODO 1:create a module named gamesntricks.py \n",
    "# TODO 2:in that module create two functions with names play_guess_the_number and play_mind_reader_trick\n",
    "# both the functions takes 1 argument 'n' which defines how many times to repeat the game or trick \n",
    "\n",
    "# TODO 3:also create 3 variables games, tricks and games_n_tricks with values 1,1 and 2 respectively"
   ]
  },
  {
   "cell_type": "code",
   "execution_count": 2,
   "metadata": {},
   "outputs": [],
   "source": [
    "# Exercise 2\n",
    "\n",
    "# place the gamesntricks.py in your scripts directory \n",
    "# import the module itself or the objects inside it in all the possible ways(5) and test it"
   ]
  },
  {
   "cell_type": "code",
   "execution_count": 1,
   "metadata": {},
   "outputs": [],
   "source": [
    "# Exercise 3 \n",
    "\n",
    "# TODO 1: create a folder named MyModules on the desktop and place the gamesntrick.py module in the folder...\n",
    "# ...(make sure to delete from the current folder)\n",
    "# TODO 2: now test the module by importing in all possible ways"
   ]
  },
  {
   "cell_type": "code",
   "execution_count": null,
   "metadata": {},
   "outputs": [],
   "source": [
    "# Exercise 4\n",
    "\n",
    "# "
   ]
  }
 ],
 "metadata": {
  "kernelspec": {
   "display_name": "Python 3",
   "language": "python",
   "name": "python3"
  },
  "language_info": {
   "codemirror_mode": {
    "name": "ipython",
    "version": 3
   },
   "file_extension": ".py",
   "mimetype": "text/x-python",
   "name": "python",
   "nbconvert_exporter": "python",
   "pygments_lexer": "ipython3",
   "version": "3.7.4"
  }
 },
 "nbformat": 4,
 "nbformat_minor": 2
}
