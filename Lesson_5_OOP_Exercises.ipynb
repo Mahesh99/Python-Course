{
 "cells": [
  {
   "cell_type": "code",
   "execution_count": null,
   "metadata": {},
   "outputs": [],
   "source": [
    "# Exercise 1\n",
    "# TODO 1: create a class Triangle \n",
    "# TODO 2: create __init__() method which takes b and h as arguments\n",
    "# TODO 3: initialize instance variables with names b and h (breadth and height) with received arguments\n",
    "# TODO 4: create an object of the Triangle and print area of the triangle\n"
   ]
  },
  {
   "cell_type": "code",
   "execution_count": null,
   "metadata": {},
   "outputs": [],
   "source": [
    "# Exercise 2\n",
    "# TODO 1: when below code is run an error will be thrown. Make appropriate changes to the code to get rid of error\n",
    "# TODO 2: update the percentage of s1 to 85\n",
    "# TODO 3: print student details in below format(make appropriate changes if error occurs)\n",
    "\n",
    "# Name  :   Tarun\n",
    "# Section   :   A\n",
    "# Percentage:   80\n",
    "\n",
    "class Student:\n",
    "    def __init__(name,section,percentage):\n",
    "        self.name = name\n",
    "        self.percentage = percentage\n",
    "\n",
    "s1 = Student(\"Tarun\",'B',82)\n"
   ]
  },
  {
   "cell_type": "code",
   "execution_count": null,
   "metadata": {},
   "outputs": [],
   "source": [
    "# Exercise 3\n",
    "# TODO 1: To the class in the Exercise 1 add two methods calculate_area() which returns area of the triangle\n",
    "# TODO 2: call the above methods on the object and print the area and perimeter in below format\n",
    "\n",
    "# Area   :  6\n",
    "\n"
   ]
  },
  {
   "cell_type": "code",
   "execution_count": null,
   "metadata": {},
   "outputs": [],
   "source": [
    "# Exercise 4\n",
    "# TODO 1: complete the class Circle\n",
    "# TODO 2: complete the __init__() method\n",
    "# TODO 3: create a class variable PI with value 3.141\n",
    "# TODO 4: create two methods calculate_area() and calculate_perimeter()\n",
    "# TODO 5: uncomment the last 3 lines and execute\n",
    "class Circle:\n",
    "    def __init__(self,r):\n",
    "        pass\n",
    "\n",
    "\n",
    "# c1 = Circle(10)\n",
    "# print(f\"Area : {c1.calculate_area()}\")\n",
    "# print(f\"Perimeter : {c1.calculate_perimeter()}\")"
   ]
  },
  {
   "cell_type": "code",
   "execution_count": null,
   "metadata": {},
   "outputs": [],
   "source": [
    "# Exercise 5\n",
    "# TODO 1: make all instance variables of class Rectangle to private\n",
    "# TODO 2: create an object r1 with lenght and breadth as 10,20\n",
    "# TODO 3: print area of the rectangle\n",
    "\n",
    "class Rectangle:\n",
    "    def __init__(self,l,b):\n",
    "        self.l = l\n",
    "        self.b = b\n",
    "    def calculate_area(self):\n",
    "        return self.l * self.b\n",
    "    \n"
   ]
  },
  {
   "cell_type": "code",
   "execution_count": null,
   "metadata": {},
   "outputs": [],
   "source": [
    "# Exercise 6\n",
    "# TODO 1: create a static method get_median which takes a list and returns a median\n",
    "# TODO 2: create a static method get_mode which takes a list and returns a mode\n",
    "# TODO 3: create a static method get_mean which takes a list and returns a mean\n",
    "# TODO 4: call all the methods by passing the list - [3, 2, 8, 7, 3, 6, 10, 10, 1, 12] and print \n",
    "#         mean, median and mode\n",
    "class StatUtils:\n",
    "    pass\n",
    "\n",
    "\n",
    "\n"
   ]
  },
  {
   "cell_type": "code",
   "execution_count": 1,
   "metadata": {},
   "outputs": [],
   "source": [
    "# Exercise 7\n",
    "# TODO 1: create a class CR which extends Student class\n",
    "# TODO 2: add a method pass_info2class() which takes a argument \"information\" and prints it \n",
    "class Student:\n",
    "    def __init__(self, name, section, percentage):\n",
    "        self.name = name\n",
    "        self.section = section\n",
    "        self.percentage = percentage\n",
    "    def print_details(self):\n",
    "        print(f\"Name: {self.name}\")\n",
    "        print(f\"Section: {self.section}\")\n",
    "        print(f\"Percentage: {self.percentage}\")\n",
    "\n",
    "class CR:\n",
    "    pass"
   ]
  },
  {
   "cell_type": "code",
   "execution_count": null,
   "metadata": {},
   "outputs": [],
   "source": []
  }
 ],
 "metadata": {
  "kernelspec": {
   "display_name": "Python 3",
   "language": "python",
   "name": "python3"
  },
  "language_info": {
   "codemirror_mode": {
    "name": "ipython",
    "version": 3
   },
   "file_extension": ".py",
   "mimetype": "text/x-python",
   "name": "python",
   "nbconvert_exporter": "python",
   "pygments_lexer": "ipython3",
   "version": "3.7.4"
  }
 },
 "nbformat": 4,
 "nbformat_minor": 2
}
