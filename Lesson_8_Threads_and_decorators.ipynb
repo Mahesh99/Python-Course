{
 "cells": [
  {
   "cell_type": "markdown",
   "metadata": {},
   "source": [
    "### Threads"
   ]
  },
  {
   "cell_type": "markdown",
   "metadata": {},
   "source": [
    "CPU: it executes code(chrome, zoom, jupyter..etc)\n",
    "OS: it handles scheduling when CPU can be given to a program/software\n",
    "Process: a program that is being executed\n",
    "Thread: part of a process(or it is a light weight process)"
   ]
  },
  {
   "cell_type": "code",
   "execution_count": 4,
   "metadata": {},
   "outputs": [
    {
     "name": "stdout",
     "output_type": "stream",
     "text": [
      "main starting...\n",
      "one: myfunc starting...\n",
      "main finished...\n",
      "main finished...\n",
      "main finished...\n",
      "main finished...\n"
     ]
    }
   ],
   "source": [
    "import time\n",
    "from threading import Thread\n",
    "\n",
    "def myfunc(name):\n",
    "    print(f\"{name}: myfunc starting...\")\n",
    "    time.sleep(5)\n",
    "    print(f\"{name}: myfunc finished...\")\n",
    "    \n",
    "# if __name__ == '__main__':\n",
    "print(\"main starting...\")\n",
    "# myfunc()\n",
    "t = Thread(target=myfunc, args=('one',)) # control flow\n",
    "t.start()\n",
    "\n",
    "\n",
    "print(\"main finished...\")\n",
    "print(\"main finished...\")\n",
    "print(\"main finished...\")\n",
    "print(\"main finished...\")\n"
   ]
  },
  {
   "cell_type": "markdown",
   "metadata": {},
   "source": [
    "#### deamon threads"
   ]
  },
  {
   "cell_type": "code",
   "execution_count": 46,
   "metadata": {},
   "outputs": [
    {
     "name": "stdout",
     "output_type": "stream",
     "text": [
      "madam, 121, malayalam\n"
     ]
    }
   ],
   "source": [
    "f = open(\"palindromes.txt\")\n",
    "c = f.read()\n",
    "print(c)\n",
    "f.close()"
   ]
  },
  {
   "cell_type": "code",
   "execution_count": 48,
   "metadata": {},
   "outputs": [
    {
     "name": "stdout",
     "output_type": "stream",
     "text": [
      "madam, 121, malayalam\n"
     ]
    }
   ],
   "source": [
    "# with makes it easy \n",
    "# acquiring and releasing a resource \n",
    "with open('palindromes.txt') as f:\n",
    "    c = f.read()\n",
    "    print(c)"
   ]
  },
  {
   "cell_type": "code",
   "execution_count": 6,
   "metadata": {},
   "outputs": [
    {
     "name": "stdout",
     "output_type": "stream",
     "text": [
      "one: myfunc starting...\n",
      "two: myfunc starting...\n",
      "three: myfunc starting...\n",
      "one: myfunc finished...\n",
      "two: myfunc finished...\n",
      "three: myfunc finished...\n"
     ]
    }
   ],
   "source": [
    "import threading\n",
    "import concurrent.futures\n",
    "\n",
    "with concurrent.futures.ThreadPoolExecutor(max_workers=3) as executor:\n",
    "    executor.map(myfunc, ['one','two','three'])\n"
   ]
  },
  {
   "cell_type": "code",
   "execution_count": 7,
   "metadata": {},
   "outputs": [
    {
     "name": "stdout",
     "output_type": "stream",
     "text": [
      "['__class__', '__delattr__', '__dict__', '__dir__', '__doc__', '__enter__', '__eq__', '__exit__', '__format__', '__ge__', '__getattribute__', '__gt__', '__hash__', '__init__', '__init_subclass__', '__le__', '__lt__', '__module__', '__ne__', '__new__', '__reduce__', '__reduce_ex__', '__repr__', '__setattr__', '__sizeof__', '__str__', '__subclasshook__', '__weakref__', '_adjust_thread_count', '_counter', '_initializer_failed', 'map', 'shutdown', 'submit']\n"
     ]
    }
   ],
   "source": [
    "print(dir(concurrent.futures.ThreadPoolExecutor))"
   ]
  },
  {
   "cell_type": "code",
   "execution_count": 3,
   "metadata": {},
   "outputs": [
    {
     "name": "stdout",
     "output_type": "stream",
     "text": [
      "main starting...\n",
      "main finished\n",
      "1\n",
      "2\n",
      "3\n",
      "4\n",
      "5\n"
     ]
    }
   ],
   "source": [
    "from threading import Thread\n",
    "from time import sleep\n",
    "\n",
    "def print_nums(s,e):\n",
    "    for n in range(s,e):\n",
    "        sleep(.5)\n",
    "        print(n)\n",
    "\n",
    "print(\"main starting...\")\n",
    "\n",
    "t1 = Thread(target=print_nums, args=(1,6),daemon=True)\n",
    "\n",
    "t1.start()\n",
    "\n",
    "# main thread does not wait for daemon threads to end\n",
    "print(\"main finished\")"
   ]
  },
  {
   "cell_type": "code",
   "execution_count": 3,
   "metadata": {},
   "outputs": [
    {
     "name": "stdout",
     "output_type": "stream",
     "text": [
      "5\n",
      "6main finished\n",
      "\n",
      "7\n",
      "8\n",
      "9\n"
     ]
    }
   ],
   "source": [
    "import threading\n",
    "\n",
    "# Function based thread usage\n",
    "# def print_nums(n):\n",
    "#     for i in range(n,n+5):\n",
    "#         print(i)\n",
    "\n",
    "# t = threading.Thread(target=print_nums, args=(5,))\n",
    "# t.start()\n",
    "\n",
    "# Class based thread usage\n",
    "class MyThread(threading.Thread):\n",
    "    def __init__(self,n):\n",
    "        threading.Thread.__init__(self)\n",
    "        self.n = n\n",
    "    def run(self):\n",
    "        for i in range(self.n,self.n+5):\n",
    "            print(i)\n",
    "\n",
    "t = MyThread(5)\n",
    "t.start()\n",
    "print(\"main finished\")"
   ]
  },
  {
   "cell_type": "markdown",
   "metadata": {},
   "source": [
    "### Decorators"
   ]
  },
  {
   "cell_type": "markdown",
   "metadata": {},
   "source": [
    "A decorator is a function that takes another function and extends the behavior of the latter function without explicitly modifying it."
   ]
  },
  {
   "cell_type": "code",
   "execution_count": 13,
   "metadata": {},
   "outputs": [],
   "source": [
    "import time\n",
    "import functools\n",
    "\n",
    "# @timer\n",
    "# def do_stuff(n):\n",
    "#     \"\"\"This is a do stuff function\"\"\"\n",
    "#     for _ in range(n):\n",
    "#         pass\n",
    "# do_stuff(10000)"
   ]
  },
  {
   "cell_type": "markdown",
   "metadata": {},
   "source": [
    "#### Inner functions"
   ]
  },
  {
   "cell_type": "code",
   "execution_count": 20,
   "metadata": {},
   "outputs": [
    {
     "ename": "NameError",
     "evalue": "name 'child1' is not defined",
     "output_type": "error",
     "traceback": [
      "\u001b[1;31m---------------------------------------------------------------------------\u001b[0m",
      "\u001b[1;31mNameError\u001b[0m                                 Traceback (most recent call last)",
      "\u001b[1;32m<ipython-input-20-63827dc0136c>\u001b[0m in \u001b[0;36m<module>\u001b[1;34m\u001b[0m\n\u001b[0;32m     13\u001b[0m         \u001b[1;32mreturn\u001b[0m \u001b[0mchild2\u001b[0m\u001b[1;33m\u001b[0m\u001b[1;33m\u001b[0m\u001b[0m\n\u001b[0;32m     14\u001b[0m \u001b[1;33m\u001b[0m\u001b[0m\n\u001b[1;32m---> 15\u001b[1;33m \u001b[0mchild1\u001b[0m\u001b[1;33m(\u001b[0m\u001b[1;33m)\u001b[0m\u001b[1;33m\u001b[0m\u001b[1;33m\u001b[0m\u001b[0m\n\u001b[0m\u001b[0;32m     16\u001b[0m \u001b[0mf\u001b[0m \u001b[1;33m=\u001b[0m \u001b[0mparent\u001b[0m\u001b[1;33m(\u001b[0m\u001b[1;36m2\u001b[0m\u001b[1;33m)\u001b[0m\u001b[1;33m\u001b[0m\u001b[1;33m\u001b[0m\u001b[0m\n\u001b[0;32m     17\u001b[0m \u001b[1;31m# print(f)\u001b[0m\u001b[1;33m\u001b[0m\u001b[1;33m\u001b[0m\u001b[1;33m\u001b[0m\u001b[0m\n",
      "\u001b[1;31mNameError\u001b[0m: name 'child1' is not defined"
     ]
    }
   ],
   "source": [
    "# first class functions\n",
    "# object - create, pass to a function, return from a function\n",
    "def parent(n):\n",
    "    def child1():\n",
    "        print(\"From inner child1\")\n",
    "    def child2():\n",
    "        print(\"From inner child2\")\n",
    "#     child1()\n",
    "#     child2()\n",
    "    if n%2 == 0:\n",
    "        return child1\n",
    "    else:\n",
    "        return child2\n",
    "\n",
    "child1()\n",
    "f = parent(2)\n",
    "# print(f)\n",
    "f()"
   ]
  },
  {
   "cell_type": "code",
   "execution_count": 30,
   "metadata": {},
   "outputs": [
    {
     "name": "stdout",
     "output_type": "stream",
     "text": [
      "55\n",
      "Completed 'sum_of_n' in 0.000060 secs\n",
      "<function sum_of_n at 0x000001BE8C029DC8>\n"
     ]
    }
   ],
   "source": [
    "import time\n",
    "import functools\n",
    "\n",
    "def timer(func):\n",
    "    @functools.wraps(func)\n",
    "    def wrapper_timer(*args,**kwargs):\n",
    "        start_time = time.perf_counter() #.0000000010\n",
    "        func(*args,**kwargs)\n",
    "        end_time = time.perf_counter() #.000000000014\n",
    "        total_time = end_time - start_time\n",
    "        print(f'Completed {func.__name__!r} in {total_time:.6f} secs')\n",
    "    return wrapper_timer\n",
    "    \n",
    "timer(sum_of_n)\n",
    "    \n",
    "@timer # sum_of_n = timer(sum_of_n)\n",
    "def sum_of_n(n):\n",
    "    s = 0\n",
    "    for i in range(1,n+1):\n",
    "        s += i\n",
    "    print(s)\n",
    "\n",
    "# sum_of_n()\n",
    "\n",
    "# timer(sum_of_n)\n",
    "# sum_of_n = timer(sum_of_n)\n",
    "sum_of_n(10)\n",
    "\n",
    "print(sum_of_n)\n"
   ]
  },
  {
   "cell_type": "code",
   "execution_count": 31,
   "metadata": {},
   "outputs": [
    {
     "name": "stdout",
     "output_type": "stream",
     "text": [
      "Performing mind reader....\n",
      "Completed 'mind_reader' in 0.000163 secs\n",
      "Help on function mind_reader in module __main__:\n",
      "\n",
      "mind_reader()\n",
      "    Plays mind reader trick\n",
      "\n"
     ]
    }
   ],
   "source": [
    "@timer # mind_reader = timer(mind_reader)\n",
    "def mind_reader():\n",
    "    '''Plays mind reader trick'''\n",
    "    print(\"Performing mind reader....\")\n",
    "\n",
    "mind_reader()\n",
    "help(mind_reader)"
   ]
  },
  {
   "cell_type": "code",
   "execution_count": 174,
   "metadata": {},
   "outputs": [
    {
     "name": "stdout",
     "output_type": "stream",
     "text": [
      "hello -- 'hello' \n"
     ]
    }
   ],
   "source": [
    "k = 56.343434\n",
    "f\"{k:.3f}\"\n",
    "s = \"hello\"\n",
    "print(f'{s} -- {s!r} ')"
   ]
  },
  {
   "cell_type": "code",
   "execution_count": 37,
   "metadata": {},
   "outputs": [
    {
     "name": "stdout",
     "output_type": "stream",
     "text": [
      "Calling ctof(36.88) \n",
      "ctof return 98.384\n",
      "Calling ctof(98.4) \n",
      "ctof return 209.12\n",
      "Calling ctof(100) \n",
      "ctof return 212.0\n",
      "<function ctof at 0x000001BE8C03F4C8> 5\n"
     ]
    }
   ],
   "source": [
    "def debug(func):\n",
    "    @functools.wraps(func)\n",
    "    def wrapper_debug(*args, **kwargs):\n",
    "        args_repr = [repr(a) for a in args] # args = [36.88] => args_repr = [36.88]\n",
    "        kwargs_repr = [f\"{k}={v!r}\" for k,v in kwargs.items()] # kwargs={'key1':'v1'} kwargs_repr = [\"key1='v1'\", ]  \n",
    "        signature = ', '.join(args_repr + kwargs_repr) # join([36.99]) =>\"36.88\"\n",
    "        print(f\"Calling {func.__name__}({signature}) \") # Calling ctof(36.88)\n",
    "        value = func(*args, **kwargs)\n",
    "        print(f\"{func.__name__} return {value!r}\") # ctof returns 98.384\n",
    "    return wrapper_debug\n",
    "    \n",
    "@debug #ctof = debug(ctof)\n",
    "def ctof(c):\n",
    "    return c*1.8+32\n",
    "\n",
    "ctof(36.88)\n",
    "ctof(98.4)\n",
    "ctof(100)\n",
    "print(ctof,repr(5)) #def __str__(self)   # def __repr__(self)"
   ]
  },
  {
   "cell_type": "code",
   "execution_count": 105,
   "metadata": {},
   "outputs": [
    {
     "name": "stdout",
     "output_type": "stream",
     "text": [
      "Performing guess the number....\n"
     ]
    }
   ],
   "source": [
    "# Plugins \n",
    "# Play random trick/game\n",
    "import random\n",
    "PLUGINS = dict() # {'mind_reader':<function __main__.mind_reader()>,'twentyone': <function __main__.twentyone()>}\n",
    "def register(func):\n",
    "    PLUGINS[func.__name__] = func\n",
    "    return func\n",
    "\n",
    "@register #mind_reader = register(mind_reader)\n",
    "def mind_reader():\n",
    "    print(\"Performing mind reader....,\")\n",
    "\n",
    "def guess_the_number():\n",
    "    print(\"Performing guess the number....\")\n",
    "\n",
    "@register\n",
    "def twentyone():\n",
    "    print(\"Performing twenty one trick\")\n",
    "    \n",
    "    \n",
    "# PLUGINS[mind_reader.__name__] = mind_reader\n",
    "# PLUGINS[twentyone.__name__] = twentyone\n",
    "# print(PLUGINS)\n",
    "def play_random_trick_game():\n",
    "    l = list(PLUGINS.items()) # [('mind..',<func_ref>), ...]\n",
    "    p = random.choice(l) # ('mind..',<func_ref>)\n",
    "    p[1]()\n",
    "\n",
    "play_random_trick_game()"
   ]
  },
  {
   "cell_type": "code",
   "execution_count": 106,
   "metadata": {},
   "outputs": [],
   "source": [
    "def decorator(func):\n",
    "    def wrapper_decorator(*args,**kwargs):\n",
    "        # before func\n",
    "        func(*args, **kwargs)\n",
    "        # after func\n",
    "    return wrapper_decorator"
   ]
  },
  {
   "cell_type": "code",
   "execution_count": 145,
   "metadata": {},
   "outputs": [
    {
     "name": "stdout",
     "output_type": "stream",
     "text": [
      "Performing mind reader....,\n"
     ]
    }
   ],
   "source": [
    "# def slow_down(rate=5):\n",
    "#     def decorator_slow_down(func):\n",
    "#         def wrapper_slow_down(*args,**kwargs):\n",
    "#             # before func\n",
    "#             time.sleep(rate)\n",
    "#             func(*args, **kwargs)\n",
    "#             # after func\n",
    "#         return wrapper_slow_down\n",
    "#     return decorator_slow_down\n",
    "\n",
    "\n",
    "# optional decorator arguments\n",
    "def slow_down(_func=None,*,rate=5):\n",
    "    def decorator_slow_down(func):\n",
    "        def wrapper_slow_down(*args,**kwargs):\n",
    "            # before func\n",
    "            time.sleep(rate)Bye\n",
    "            func(*args, **kwargs)\n",
    "            # after func\n",
    "        return wrapper_slow_down\n",
    "    if _func is None: \n",
    "        return decorator_slow_down\n",
    "    else:\n",
    "        return decorator_slow_down(_func)\n",
    "        \n",
    "@slow_down(rate=0) \n",
    "# with arguments # deco = slow_down(rate=10) => mind_reader = deco(mind_reader)\n",
    "# @slow_down\n",
    "# without arguments # mind_reader = slow_down(mind_reader)\n",
    "def mind_reader():\n",
    "    print(\"Performing mind reader....,\")\n",
    "    \n",
    "mind_reader()"
   ]
  }
 ],
 "metadata": {
  "kernelspec": {
   "display_name": "Python 3",
   "language": "python",
   "name": "python3"
  },
  "language_info": {
   "codemirror_mode": {
    "name": "ipython",
    "version": 3
   },
   "file_extension": ".py",
   "mimetype": "text/x-python",
   "name": "python",
   "nbconvert_exporter": "python",
   "pygments_lexer": "ipython3",
   "version": "3.7.4"
  }
 },
 "nbformat": 4,
 "nbformat_minor": 2
}
