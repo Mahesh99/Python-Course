{
 "cells": [
  {
   "cell_type": "markdown",
   "metadata": {},
   "source": [
    "A python script terminates when it encounters a <b>Syntax error</b> or an <b>Exception</b>"
   ]
  },
  {
   "cell_type": "markdown",
   "metadata": {},
   "source": [
    "<br><strong><i><span style=\"color:#dd2c00;font-size:23px;\">Syntax Errors</span></i></strong><br><br>\n",
    "<span>Python interpreter raises a Syntax error when it encounters an syntactically incorrect statement</span><br>"
   ]
  },
  {
   "cell_type": "code",
   "execution_count": null,
   "metadata": {},
   "outputs": [],
   "source": [
    "x = 10\n",
    "y = 20\n",
    "if x > y\n",
    "    print(\"x is greater\")"
   ]
  },
  {
   "cell_type": "markdown",
   "metadata": {},
   "source": [
    "in the above snippet error occurs becuase semi-colon(<code>:</code>) is missing after condition<br>\n",
    "Python interpreter also displays in which line syntax error occured using carat(<code>^</code>) "
   ]
  },
  {
   "cell_type": "markdown",
   "metadata": {},
   "source": [
    "<br><strong><i><span style=\"color:#dd2c00;font-size:23px;\">Exceptions</span></i></strong><br><br>\n",
    "<span>Exception is also an error occurs when interpreter encounter an unexpected event</span><br>\n"
   ]
  },
  {
   "cell_type": "code",
   "execution_count": 1,
   "metadata": {},
   "outputs": [
    {
     "ename": "ZeroDivisionError",
     "evalue": "division by zero",
     "output_type": "error",
     "traceback": [
      "\u001b[1;31m---------------------------------------------------------------------------\u001b[0m",
      "\u001b[1;31mZeroDivisionError\u001b[0m                         Traceback (most recent call last)",
      "\u001b[1;32m<ipython-input-1-6612ed1ca473>\u001b[0m in \u001b[0;36m<module>\u001b[1;34m\u001b[0m\n\u001b[0;32m      3\u001b[0m \u001b[0ma\u001b[0m \u001b[1;33m=\u001b[0m \u001b[1;36m0\u001b[0m\u001b[1;33m\u001b[0m\u001b[1;33m\u001b[0m\u001b[0m\n\u001b[0;32m      4\u001b[0m \u001b[1;33m\u001b[0m\u001b[0m\n\u001b[1;32m----> 5\u001b[1;33m \u001b[0mprint\u001b[0m\u001b[1;33m(\u001b[0m\u001b[0mf\u001b[0m\u001b[1;33m/\u001b[0m\u001b[0ma\u001b[0m\u001b[1;33m)\u001b[0m\u001b[1;33m\u001b[0m\u001b[1;33m\u001b[0m\u001b[0m\n\u001b[0m",
      "\u001b[1;31mZeroDivisionError\u001b[0m: division by zero"
     ]
    }
   ],
   "source": [
    "# example 1\n",
    "f = 10\n",
    "a = 0\n",
    "\n",
    "print(f/a)"
   ]
  },
  {
   "cell_type": "markdown",
   "metadata": {},
   "source": [
    "In the above example we are trying to divide 10 by 0 which python interpreter cannot handle"
   ]
  },
  {
   "cell_type": "code",
   "execution_count": 2,
   "metadata": {},
   "outputs": [
    {
     "ename": "ValueError",
     "evalue": "invalid literal for int() with base 10: '23c'",
     "output_type": "error",
     "traceback": [
      "\u001b[1;31m---------------------------------------------------------------------------\u001b[0m",
      "\u001b[1;31mValueError\u001b[0m                                Traceback (most recent call last)",
      "\u001b[1;32m<ipython-input-2-a7d63c2f13c0>\u001b[0m in \u001b[0;36m<module>\u001b[1;34m\u001b[0m\n\u001b[0;32m      3\u001b[0m \u001b[0mtemp\u001b[0m \u001b[1;33m=\u001b[0m \u001b[1;34m\"23c\"\u001b[0m\u001b[1;33m\u001b[0m\u001b[1;33m\u001b[0m\u001b[0m\n\u001b[0;32m      4\u001b[0m \u001b[1;33m\u001b[0m\u001b[0m\n\u001b[1;32m----> 5\u001b[1;33m \u001b[0mprint\u001b[0m\u001b[1;33m(\u001b[0m\u001b[0mint\u001b[0m\u001b[1;33m(\u001b[0m\u001b[0mtemp\u001b[0m\u001b[1;33m)\u001b[0m\u001b[1;33m)\u001b[0m\u001b[1;33m\u001b[0m\u001b[1;33m\u001b[0m\u001b[0m\n\u001b[0m",
      "\u001b[1;31mValueError\u001b[0m: invalid literal for int() with base 10: '23c'"
     ]
    }
   ],
   "source": [
    "# example 2\n",
    "\n",
    "temp = \"23c\"\n",
    "\n",
    "print(int(temp))"
   ]
  },
  {
   "cell_type": "code",
   "execution_count": 3,
   "metadata": {},
   "outputs": [
    {
     "ename": "NameError",
     "evalue": "name 'k' is not defined",
     "output_type": "error",
     "traceback": [
      "\u001b[1;31m---------------------------------------------------------------------------\u001b[0m",
      "\u001b[1;31mNameError\u001b[0m                                 Traceback (most recent call last)",
      "\u001b[1;32m<ipython-input-3-9961037b4161>\u001b[0m in \u001b[0;36m<module>\u001b[1;34m\u001b[0m\n\u001b[1;32m----> 1\u001b[1;33m \u001b[0mprint\u001b[0m\u001b[1;33m(\u001b[0m\u001b[0mk\u001b[0m\u001b[1;33m*\u001b[0m\u001b[1;36m4\u001b[0m\u001b[1;33m)\u001b[0m\u001b[1;33m\u001b[0m\u001b[1;33m\u001b[0m\u001b[0m\n\u001b[0m",
      "\u001b[1;31mNameError\u001b[0m: name 'k' is not defined"
     ]
    }
   ],
   "source": [
    "print(k*4)"
   ]
  },
  {
   "cell_type": "markdown",
   "metadata": {},
   "source": [
    "The last line of the exception indicates what happened<br>\n",
    "There are different types of exceptions. The types in the examples above are <code>ZeroDivisionError</code>,<code>ValueError</code> and <code>NameError</code> \n",
    "After the exception name, description of what happened will be printed after the colon(<code>:</code>)<br>\n",
    "The preceding part of the error message shows the context where the exception happened, in the form of a stack traceback"
   ]
  },
  {
   "cell_type": "markdown",
   "metadata": {},
   "source": [
    "<br><strong><i><span style=\"color:#dd2c00;font-size:23px;\">Handling Exceptions</span></i></strong><br><br>\n",
    "<span>An Exception can be handled by using <code>try</code> and <code>except</code> statements</span><br>\n"
   ]
  },
  {
   "cell_type": "code",
   "execution_count": null,
   "metadata": {},
   "outputs": [],
   "source": [
    "# guess the number\n",
    "from random import randrange\n",
    "\n",
    "rand_num = randrange(5,10)\n",
    "while True:\n",
    "    try:\n",
    "        num = int(input(\"Enter your guess:\"))\n",
    "        if num == rand_num:\n",
    "            print(\"Guessed right!!\")\n",
    "            break\n",
    "        else:\n",
    "            print(\"Sorry wrong guess.Try again!\")\n",
    "    except ValueError:\n",
    "        print(\"Please enter a valid number!!\")\n"
   ]
  },
  {
   "cell_type": "markdown",
   "metadata": {},
   "source": [
    "<b><br><span style=\"color:#007FDC;font-size:16px\">try...except</span></b><br>\n",
    "<span>the code which is expected to produce exception is placed in the <code>try</code> clause</span><br>\n",
    "code to handle that exception is placed in the <code>except</code> clause<br>\n",
    "\n",
    "<code>try</code> and <code>except</code> statement works as follows: \n",
    "<ul>\n",
    "    <li>if no exception occurs in the <code>try</code> clause, then <code>except</code> clause is skipped</li>\n",
    "    <li>if exception occurs then rest of the <code>try</code> clause is skipped and if raised exception type matches with one of the Exception types specified after <code>except</code> then that <code>except</code> clause is executed</li>\n",
    "    <li>if exception occurs and that does not matches with any <code>except</code> clauses following that <code>try</code> then exception is passed on to outer <code>try</code> statement</li></ul>"
   ]
  },
  {
   "cell_type": "code",
   "execution_count": null,
   "metadata": {},
   "outputs": [],
   "source": [
    "a,b = 10,2\n",
    "try:\n",
    "    print(a/b)\n",
    "    print(p+\"9\"+9)\n",
    "except ZeroDivisionError:\n",
    "    print(\"b cannot be zero\")\n",
    "except TypeError:\n",
    "    print(\"Only 2 strings or integers can be added\")\n",
    "    "
   ]
  },
  {
   "cell_type": "code",
   "execution_count": null,
   "metadata": {},
   "outputs": [],
   "source": [
    "a,b = 10,2\n",
    "try:\n",
    "    print(a/b)\n",
    "    print(\"9\"+9)\n",
    "except (ZeroDivisionError, TypeError):\n",
    "    print(\"division error or invalid addition operations\")"
   ]
  },
  {
   "cell_type": "code",
   "execution_count": null,
   "metadata": {},
   "outputs": [],
   "source": [
    "a,b = 10,1\n",
    "try:\n",
    "    print(a/b)\n",
    "    print(name)\n",
    "    print(int(\"9d\")+9)\n",
    "except (ZeroDivisionError, TypeError):\n",
    "    print(\"division error or invalid addition operations\")\n",
    "except ValueError as ve:\n",
    "    print(\"ValueError occured:\"+str(ve))\n",
    "except:\n",
    "    print(\"Some error occured\")"
   ]
  },
  {
   "cell_type": "markdown",
   "metadata": {},
   "source": [
    "<br><strong><i><span style=\"color:#dd2c00;font-size:23px;\">Raising Exceptions</span></i></strong><br><br>\n",
    "<span><code>raise</code> keyword is used to raise an exception explicitly</span></i>"
   ]
  },
  {
   "cell_type": "code",
   "execution_count": null,
   "metadata": {},
   "outputs": [],
   "source": [
    "try:\n",
    "    num = int(input(\"Enter the number greater than 10:\"))\n",
    "    if num <= 10:\n",
    "        raise Exception(\"Invalid number!!\")\n",
    "    print(\"10\")\n",
    "except Exception as e:\n",
    "    print(e)"
   ]
  },
  {
   "cell_type": "code",
   "execution_count": null,
   "metadata": {},
   "outputs": [],
   "source": [
    "def get_input():\n",
    "    try:\n",
    "        num = int(input(\"Enter the number greater than 10:\"))\n",
    "        if num <= 10:\n",
    "            raise Exception(\"Invalid number!!\")\n",
    "        print(\"10\")\n",
    "    except Exception as e:\n",
    "        raise e\n",
    "\n",
    "# # case 1\n",
    "get_input()\n",
    "\n",
    "\n",
    "# # case 2\n",
    "# try:\n",
    "#     get_input()\n",
    "# except Exception as e:\n",
    "#     print(e)\n",
    "\n"
   ]
  },
  {
   "cell_type": "markdown",
   "metadata": {},
   "source": [
    "<br><strong><i><span style=\"color:#dd2c00;font-size:23px;\">User-defined Exceptions</span></i></strong><br><br>\n",
    "<i><span> </span></i><br>\n"
   ]
  },
  {
   "cell_type": "code",
   "execution_count": null,
   "metadata": {},
   "outputs": [],
   "source": [
    "class MyException(Exception):\n",
    "    def __init__(self,message):\n",
    "        self.message = message\n",
    "\n",
    "try:\n",
    "    num = int(input(\"Enter the number greater than 10:\"))\n",
    "    if num <= 10:\n",
    "        raise MyException(\"Invalid number!!\")\n",
    "    print(\"10\")\n",
    "except Exception as e:\n",
    "    print(e)"
   ]
  },
  {
   "cell_type": "markdown",
   "metadata": {},
   "source": [
    "<b><br><span style=\"color:#007FDC;font-size:16px\">Best practices</span></b><br>\n",
    "<span>When you are handling more than one type of exception in different <code>except</code> statements always put base class exceptions after the derived class exceptions</span><br>\n",
    "\n"
   ]
  },
  {
   "cell_type": "code",
   "execution_count": null,
   "metadata": {},
   "outputs": [],
   "source": [
    "class A(Exception):\n",
    "    pass\n",
    "class B(A):\n",
    "    pass\n",
    "class C(B):\n",
    "    pass\n",
    "\n",
    "try:\n",
    "    raise C()\n",
    "    raise B()\n",
    "    raise A()\n",
    "except A:\n",
    "    print(\"A\")\n",
    "except B:\n",
    "    print(\"B\")\n",
    "except C:\n",
    "    print(\"C\")\n"
   ]
  }
 ],
 "metadata": {
  "kernelspec": {
   "display_name": "Python 3",
   "language": "python",
   "name": "python3"
  },
  "language_info": {
   "codemirror_mode": {
    "name": "ipython",
    "version": 3
   },
   "file_extension": ".py",
   "mimetype": "text/x-python",
   "name": "python",
   "nbconvert_exporter": "python",
   "pygments_lexer": "ipython3",
   "version": "3.7.4"
  }
 },
 "nbformat": 4,
 "nbformat_minor": 2
}
