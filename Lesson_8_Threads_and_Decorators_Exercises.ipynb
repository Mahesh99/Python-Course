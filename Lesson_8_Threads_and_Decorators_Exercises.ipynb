{
 "cells": [
  {
   "cell_type": "code",
   "execution_count": null,
   "metadata": {},
   "outputs": [],
   "source": [
    "# Exercise 1\n",
    "\n",
    "def prime_test(n):\n",
    "    if n == 1:\n",
    "        print(f\"{n} is not a prime number\")\n",
    "    if n == 2:\n",
    "        print(f\"{n} is a prime number\")\n",
    "    for i in range(2, int(n/2)):\n",
    "        if n%i == 0:\n",
    "            print(f'{n} is not a prime number')\n",
    "            return\n",
    "    print(f\"{n} is a prime number\")\n",
    "\n",
    "n = int(input(\"Enter a number\"))\n",
    "# TODO 1: modify the below code and run the prime_test() on a different thread\n",
    "prime_test(n)\n"
   ]
  },
  {
   "cell_type": "code",
   "execution_count": null,
   "metadata": {},
   "outputs": [],
   "source": [
    "# Exercise 2\n",
    "\n",
    "def write_data(filename, data):\n",
    "    f = open(filename,'w')\n",
    "    # TODO 2: write the statement to write to the file\n",
    "    \n",
    "    f.close()\n",
    "\n",
    "data = [\n",
    "    \"The size of your success is measured by the strength of your desire;\\\n",
    "    the size of your dream and how you handle disappointment along the way\",\n",
    "    \"Everything is on the other side of the fear\"\n",
    "]\n",
    "\n",
    "# file1.txt, file2.txt\n",
    "# TODO 1: create two threads and call write_data() function\n",
    "#        on both of them passing 1st and 2nd elements of the above list respectively\n"
   ]
  },
  {
   "cell_type": "code",
   "execution_count": 51,
   "metadata": {},
   "outputs": [
    {
     "ename": "TypeError",
     "evalue": "unsupported operand type(s) for +: 'int' and 'NoneType'",
     "output_type": "error",
     "traceback": [
      "\u001b[1;31m-----------------------------------------------------------------------\u001b[0m",
      "\u001b[1;31mTypeError\u001b[0m                             Traceback (most recent call last)",
      "\u001b[1;32m<ipython-input-51-b933456e8479>\u001b[0m in \u001b[0;36m<module>\u001b[1;34m\u001b[0m\n\u001b[0;32m     30\u001b[0m \u001b[1;33m\u001b[0m\u001b[0m\n\u001b[0;32m     31\u001b[0m \u001b[1;33m\u001b[0m\u001b[0m\n\u001b[1;32m---> 32\u001b[1;33m \u001b[0mprint\u001b[0m\u001b[1;33m(\u001b[0m\u001b[1;34m\"Total number of'o's in both strings are \"\u001b[0m\u001b[1;33m,\u001b[0m\u001b[0mstr\u001b[0m\u001b[1;33m(\u001b[0m\u001b[0msum\u001b[0m\u001b[1;33m(\u001b[0m\u001b[0mresults\u001b[0m\u001b[1;33m)\u001b[0m\u001b[1;33m)\u001b[0m\u001b[1;33m)\u001b[0m\u001b[1;33m\u001b[0m\u001b[1;33m\u001b[0m\u001b[0m\n\u001b[0m",
      "\u001b[1;31mTypeError\u001b[0m: unsupported operand type(s) for +: 'int' and 'NoneType'"
     ]
    },
    {
     "name": "stderr",
     "output_type": "stream",
     "text": [
      "Exception in thread Thread-70:\n",
      "Traceback (most recent call last):\n",
      "  File \"C:\\Users\\Mahesh\\AppData\\Local\\Programs\\Python\\Python37\\lib\\threading.py\", line 926, in _bootstrap_inner\n",
      "    self.run()\n",
      "  File \"C:\\Users\\Mahesh\\AppData\\Local\\Programs\\Python\\Python37\\lib\\threading.py\", line 870, in run\n",
      "    self._target(*self._args, **self._kwargs)\n",
      "  File \"<ipython-input-51-b933456e8479>\", line 19, in count_vowel\n",
      "    result[i] = count\n",
      "NameError: name 'result' is not defined\n",
      "\n",
      "Exception in thread Thread-71:\n",
      "Traceback (most recent call last):\n",
      "  File \"C:\\Users\\Mahesh\\AppData\\Local\\Programs\\Python\\Python37\\lib\\threading.py\", line 926, in _bootstrap_inner\n",
      "    self.run()\n",
      "  File \"C:\\Users\\Mahesh\\AppData\\Local\\Programs\\Python\\Python37\\lib\\threading.py\", line 870, in run\n",
      "    self._target(*self._args, **self._kwargs)\n",
      "  File \"<ipython-input-51-b933456e8479>\", line 19, in count_vowel\n",
      "    result[i] = count\n",
      "NameError: name 'result' is not defined\n",
      "\n"
     ]
    }
   ],
   "source": [
    "# Exercise 3\n",
    "# TODO: below code doesn't run correctly because line 31 depends on the results of two threads created\n",
    "#       do appropriate modifications so that print() waits till threads calculate the count\n",
    "import threading\n",
    "import time\n",
    "\n",
    "def count_vowel(sentence, vowel, results, i):\n",
    "    '''\n",
    "        sentence: a string\n",
    "        vowel: a vowel to be looked for in sentence\n",
    "        results: list which stores count of vowels for s1 and s2 at index 0 and 1 respectively\n",
    "        i: represents index\n",
    "    '''\n",
    "    time.sleep(.5)\n",
    "    count = 0\n",
    "    for char in sentence:\n",
    "        if char is vowel:\n",
    "            count += 1\n",
    "    result[i] = count\n",
    "s1 = \"Lorem ipsum dolor sit amet, consectetur adipiscing elit.\\\n",
    "        Sed cursus elit rutrum enim gravida, in auctor dui malesuada.\"\n",
    "s2 = \"hasellus sit amet mauris euismod, egestas urna vitae, volutpat ante.\\\n",
    "        Sed finibus et risus eu suscipit. Curabitur congue rutrum\"\n",
    "\n",
    "results = [None, None]\n",
    "t1 = threading.Thread(target=count_vowel, args=(s1,'o', results, 0))\n",
    "t1.start()\n",
    "t2 = threading.Thread(target=count_vowel, args=(s2,'o', results, 1))\n",
    "t2.start()\n",
    "\n",
    "\n",
    "print(\"Total number of'o's in both strings are \",str(sum(results)))\n"
   ]
  },
  {
   "cell_type": "code",
   "execution_count": null,
   "metadata": {},
   "outputs": [],
   "source": [
    "# Exercise 4\n",
    "# get_friend_list() should return friend list only if user is logged in\n",
    "# TODO 1: so create a decorator login_required()\n",
    "# TODO 2: in the wrapper function return \"Please login to access friend list\" if user is not logged in\n",
    "# TODO 3: if user is logged in call the function\n",
    "# TODO 4: apply that decorator to get_friend_list()\n",
    "user_state = {\n",
    "    # ...\n",
    "    'logged_in': True\n",
    "    # ...\n",
    "}\n",
    "\n",
    "logged_in = False\n",
    "\n",
    "\n",
    "def get_friend_list(user_state):\n",
    "    friend_list = ['Sharma','Kumar','Satish']\n",
    "    return friend_list\n",
    "\n",
    "\n",
    "get_friend_list(user_state)"
   ]
  }
 ],
 "metadata": {
  "kernelspec": {
   "display_name": "Python 3.7.4 64-bit",
   "language": "python",
   "name": "python37464bit82f717a4e4ef4db38045cc0c8f6d8f77"
  },
  "language_info": {
   "codemirror_mode": {
    "name": "ipython",
    "version": 3
   },
   "file_extension": ".py",
   "mimetype": "text/x-python",
   "name": "python",
   "nbconvert_exporter": "python",
   "pygments_lexer": "ipython3",
   "version": "3.7.4"
  }
 },
 "nbformat": 4,
 "nbformat_minor": 2
}
