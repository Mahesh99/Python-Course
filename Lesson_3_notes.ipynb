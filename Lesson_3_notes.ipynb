{
 "cells": [
  {
   "cell_type": "raw",
   "metadata": {},
   "source": [
    "DATA TYPES\n",
    "SIMPLE/BASIC DATA TYPES\n",
    "- int\n",
    "- float\n",
    "- bool\n",
    "- str\n",
    "DATA STRUCTURES\n",
    "- list -> [1,2]\n",
    "- tuple -> (1,2)\n",
    "- set -> {1,2}\n",
    "- dict -> {'name':'Harish','age':20}\n",
    "\n",
    "convertions\n",
    "- int() -> int(4.4)=> 4,   int(\"6\")=> 6\n",
    "- float()\n",
    "- bool()\n",
    "- str()\n",
    "\n",
    "- list()  -> list((4,4,2,5)) => [4,4,2,5]\n",
    "- tuple()\n",
    "- set()\n",
    "- dict()\n",
    "\n"
   ]
  },
  {
   "cell_type": "raw",
   "metadata": {},
   "source": [
    "CONTROL STATEMENTS\n",
    "if\n",
    "else\n",
    "elif\n",
    "\n",
    "for i in range(6):\n",
    "    print(i)\n",
    "    \n",
    "while i<10:\n",
    "    print(i)\n",
    "    \n",
    "list"
   ]
  },
  {
   "cell_type": "markdown",
   "metadata": {},
   "source": [
    "## FUNCTIONS"
   ]
  },
  {
   "cell_type": "raw",
   "metadata": {},
   "source": [
    "Choose a number\n",
    "Double it\n",
    "Add 7 to it\n",
    "Divide it by 2\n",
    "Subtract your number from it\n",
    "Result is ...3.5"
   ]
  },
  {
   "cell_type": "code",
   "execution_count": 1,
   "metadata": {},
   "outputs": [
    {
     "ename": "SyntaxError",
     "evalue": "invalid syntax (<ipython-input-1-09099883fe0a>, line 2)",
     "output_type": "error",
     "traceback": [
      "\u001b[1;36m  File \u001b[1;32m\"<ipython-input-1-09099883fe0a>\"\u001b[1;36m, line \u001b[1;32m2\u001b[0m\n\u001b[1;33m    2x\u001b[0m\n\u001b[1;37m     ^\u001b[0m\n\u001b[1;31mSyntaxError\u001b[0m\u001b[1;31m:\u001b[0m invalid syntax\n"
     ]
    }
   ],
   "source": [
    "# x \n",
    "# 2x\n",
    "# 2x+y\n",
    "# x+y/2\n",
    "# x+y/2-x => y/2"
   ]
  },
  {
   "cell_type": "markdown",
   "metadata": {},
   "source": [
    "## Mind Reader"
   ]
  },
  {
   "cell_type": "code",
   "execution_count": 2,
   "metadata": {},
   "outputs": [
    {
     "name": "stdout",
     "output_type": "stream",
     "text": [
      "When you are done press ENTER\n",
      "Choose a number\n",
      "Double it\n",
      "Add 7 to it\n",
      "Divide it by 2\n",
      "Subtract your number from it\n",
      "Result is ...3.5\n"
     ]
    },
    {
     "data": {
      "text/plain": [
       "''"
      ]
     },
     "execution_count": 2,
     "metadata": {},
     "output_type": "execute_result"
    }
   ],
   "source": [
    "print(\"When you are done press ENTER\")\n",
    "input(\"Choose a number\")\n",
    "input(\"Double it\")\n",
    "input(\"Add 7 to it\")\n",
    "input(\"Divide it by 2\")\n",
    "input(\"Subtract your number from it\")\n",
    "input(\"Result is ...3.5\")"
   ]
  },
  {
   "cell_type": "code",
   "execution_count": 109,
   "metadata": {},
   "outputs": [
    {
     "name": "stdout",
     "output_type": "stream",
     "text": [
      "2\n"
     ]
    }
   ],
   "source": [
    "import random\n",
    "\n",
    "print(random.randrange(20)+1) #0 to 19 -> x+1"
   ]
  },
  {
   "cell_type": "code",
   "execution_count": 114,
   "metadata": {},
   "outputs": [
    {
     "name": "stdout",
     "output_type": "stream",
     "text": [
      "When you are done press ENTER\n",
      "Choose a number\n",
      "Double it\n",
      "Add 10 to it\n",
      "Divide it by 2\n",
      "Subtract your number from it\n",
      "Result is ...5.0\n"
     ]
    },
    {
     "data": {
      "text/plain": [
       "''"
      ]
     },
     "execution_count": 114,
     "metadata": {},
     "output_type": "execute_result"
    }
   ],
   "source": [
    "import random\n",
    "\n",
    "r = random.randrange(20)+1\n",
    "print(\"When you are done press ENTER\")\n",
    "input(\"Choose a number\")\n",
    "input(\"Double it\")\n",
    "input(f\"Add {r} to it\")\n",
    "input(\"Divide it by 2\")\n",
    "input(\"Subtract your number from it\")\n",
    "input(f\"Result is ...{r/2}\")\n",
    "\n",
    "\n"
   ]
  },
  {
   "cell_type": "code",
   "execution_count": null,
   "metadata": {},
   "outputs": [],
   "source": [
    "# f strings\n",
    "\n",
    "# console.log(`Hello ${name}`)\n",
    "# print(f\"Hello {name}\")\n"
   ]
  },
  {
   "cell_type": "markdown",
   "metadata": {},
   "source": [
    "code reusability<br>\n",
    "Maintaining code will become easy"
   ]
  },
  {
   "cell_type": "code",
   "execution_count": 7,
   "metadata": {},
   "outputs": [
    {
     "name": "stdout",
     "output_type": "stream",
     "text": [
      "When you are done press ENTER\n",
      "Choose a number\n",
      "Double it\n",
      "Add 17 to it\n",
      "Divide it by 2\n",
      "Subtract your number from it\n",
      "Result is ...8.5\n",
      "After function call\n"
     ]
    }
   ],
   "source": [
    "import random\n",
    "\n",
    "# function definition\n",
    "# process or task\n",
    "# eg: maggi recipe\n",
    "\n",
    "def play_mind_reader(r,repeat):\n",
    "    # r is a local variable\n",
    "    while repeat>0:\n",
    "        print(\"When you are done press ENTER\")\n",
    "        input(\"Choose a number\")\n",
    "        input(\"Double it\")\n",
    "        input(f\"Add {r} to it\")\n",
    "        input(\"Divide it by 2\")\n",
    "        input(\"Subtract your number from it\")\n",
    "        input(f\"Result is ...{r/2}\")\n",
    "        repeat -= 1\n",
    "\n",
    "# calling the function\n",
    "# r is global variable\n",
    "\n",
    "r = random.randrange(20)+1\n",
    "\n",
    "# r is argument/parameter to the function\n",
    "play_mind_reader(r,1)\n",
    "print(\"After function call\")\n"
   ]
  },
  {
   "cell_type": "code",
   "execution_count": 4,
   "metadata": {},
   "outputs": [
    {
     "name": "stdout",
     "output_type": "stream",
     "text": [
      "5\n"
     ]
    }
   ],
   "source": [
    "# return keyword\n",
    "l = [1,2,3,4,5]\n",
    "print(len(l))\n",
    "?len"
   ]
  },
  {
   "cell_type": "code",
   "execution_count": 17,
   "metadata": {},
   "outputs": [
    {
     "name": "stdout",
     "output_type": "stream",
     "text": [
      "Hello, Harish!\n"
     ]
    }
   ],
   "source": [
    "def create_grtng_msg(name):\n",
    "    msg = f\"Hello, {name}!\"\n",
    "    return msg\n",
    "    print(msg)\n",
    "\n",
    "my_msg = create_grtng_msg(\"Harish\")\n",
    "print(my_msg)\n",
    "# print(create_grtng_msg(\"Kiran\"))\n"
   ]
  },
  {
   "cell_type": "code",
   "execution_count": 1,
   "metadata": {},
   "outputs": [
    {
     "name": "stdout",
     "output_type": "stream",
     "text": [
      "Even\n",
      "Odd\n"
     ]
    }
   ],
   "source": [
    "def even_odd_test(num):\n",
    "    if num%2==0:\n",
    "        return \"Even\"\n",
    "    else:\n",
    "        return \"Odd\"\n",
    "    \n",
    "print(even_odd_test(6))\n",
    "print(even_odd_test(17))\n"
   ]
  },
  {
   "cell_type": "code",
   "execution_count": 10,
   "metadata": {},
   "outputs": [
    {
     "name": "stdout",
     "output_type": "stream",
     "text": [
      "Good morning, Sai!\n",
      "Hello, Sai!\n"
     ]
    }
   ],
   "source": [
    "def greet_person(greeting,name):\n",
    "    print(f\"{greeting}, {name}!\")\n",
    "\n",
    "greet_person(\"Good morning\",\"Sai\")\n",
    "greet_person(\"Hello\",\"Sai\")\n",
    "\n"
   ]
  },
  {
   "cell_type": "markdown",
   "metadata": {},
   "source": [
    "## Default Arguments"
   ]
  },
  {
   "cell_type": "code",
   "execution_count": 16,
   "metadata": {},
   "outputs": [
    {
     "name": "stdout",
     "output_type": "stream",
     "text": [
      "Hello, Sai!\n",
      "Good morning, Sai!\n"
     ]
    }
   ],
   "source": [
    "def greet_person(name, greeting=\"Hello\"):\n",
    "    print(f\"{greeting}, {name}!\")\n",
    "    \n",
    "greet_person(\"Sai\")\n",
    "greet_person(\"Sai\",\"Good morning\")\n"
   ]
  },
  {
   "cell_type": "code",
   "execution_count": 30,
   "metadata": {},
   "outputs": [
    {
     "name": "stdout",
     "output_type": "stream",
     "text": [
      "Good morning, Sai!\n",
      "Good morning, Sai!\n",
      "Hello, Sai!\n",
      "Good Morning, Sai!\n"
     ]
    }
   ],
   "source": [
    "# calling a function using positional arguments\n",
    "greet_person(\"Sai\",\"Good morning\")\n",
    "\n",
    "# calling a function using keyword arguments\n",
    "# order of arguments doesn't matter\n",
    "greet_person(greeting=\"Good morning\",name=\"Sai\")\n",
    "greet_person(name=\"Sai\")\n",
    "\n",
    "\n",
    "# mixed\n",
    "greet_person(\"Sai\",greeting=\"Good Morning\")\n",
    "# greet_person(greeting=\"Good Morning\",\"Sai\") # positional argument follows keyword argument\n",
    "\n",
    "\n"
   ]
  },
  {
   "cell_type": "code",
   "execution_count": 2,
   "metadata": {},
   "outputs": [
    {
     "name": "stdout",
     "output_type": "stream",
     "text": [
      "2\n",
      "3\n",
      "7\n",
      "9\n"
     ]
    }
   ],
   "source": [
    "def my_func(arg1,arg2,arg3=7,arg4=9):\n",
    "    print(arg1)\n",
    "    print(arg2)\n",
    "    print(arg3)\n",
    "    print(arg4)\n",
    "\n",
    "\n",
    "    \n",
    "# default arguments\n",
    "my_func(2,3)\n",
    "\n",
    "# positional args\n",
    "# my_func(2,3,4,5)\n",
    "\n",
    "# keyword args\n",
    "# my_func(arg1=2,arg2=3,arg3=4,arg4=5)\n",
    "# my_func(arg1=2,arg4=5,arg2=3,arg3=4)\n",
    "\n",
    "# positional and keyword args\n",
    "# my_func(2,arg3=8,arg4=10,arg2=12)\n",
    "#my_func(2,3,4,arg4=10)\n"
   ]
  },
  {
   "cell_type": "markdown",
   "metadata": {},
   "source": [
    "## Recursion\n"
   ]
  },
  {
   "cell_type": "code",
   "execution_count": 50,
   "metadata": {},
   "outputs": [],
   "source": [
    "# function calling itself"
   ]
  },
  {
   "cell_type": "code",
   "execution_count": 54,
   "metadata": {},
   "outputs": [
    {
     "name": "stdout",
     "output_type": "stream",
     "text": [
      "3\n",
      "2\n",
      "1\n"
     ]
    }
   ],
   "source": [
    "def print_sequence(n):\n",
    "    print(n)\n",
    "    if n==1:\n",
    "        # base case\n",
    "        return\n",
    "    else:\n",
    "        # general case\n",
    "        print_sequence(n-1)\n",
    "\n",
    "print_sequence(3)"
   ]
  },
  {
   "cell_type": "code",
   "execution_count": 1,
   "metadata": {},
   "outputs": [],
   "source": [
    "# write factorial program using recursion\n",
    "\n",
    "# write fibonocci program using recursion\n"
   ]
  },
  {
   "cell_type": "code",
   "execution_count": 19,
   "metadata": {},
   "outputs": [
    {
     "name": "stdout",
     "output_type": "stream",
     "text": [
      "2\n",
      "3\n",
      "4\n",
      "5\n"
     ]
    }
   ],
   "source": [
    "def my_func(arg1,arg2,arg3=7,arg4=9):\n",
    "    print(arg1)\n",
    "    print(arg2)\n",
    "    print(arg3)\n",
    "    print(arg4)\n",
    "\n",
    "args = 2,3,4,5\n",
    "# my_func(2,3,4,5)\n",
    "# my_func(args[0],args[1],args[2],args[3])\n",
    "# my_func(*args)\n",
    "\n",
    "# my_func(*args,arg3=4,arg4=5)\n",
    "# kwargs = {\"arg4\":5,\"arg3\":4}\n",
    "# my_func(*args,kwargs[\"arg3\"],kwargs[\"arg4\"])\n",
    "# my_func(*args,**kwargs)\n",
    "\n",
    "# my_func(2,3,**kwargs)\n"
   ]
  },
  {
   "cell_type": "markdown",
   "metadata": {},
   "source": [
    "## lambda functions"
   ]
  },
  {
   "cell_type": "code",
   "execution_count": 30,
   "metadata": {},
   "outputs": [
    {
     "name": "stdout",
     "output_type": "stream",
     "text": [
      "64\n",
      "125\n"
     ]
    }
   ],
   "source": [
    "# if a function is not returning a value than None is returned by the python interpreter\n",
    "# def cube(n):\n",
    "#     print(n*n*n)\n",
    "\n",
    "# inline function\n",
    "cube = lambda n: n*n*n\n",
    "\n",
    "\n",
    "print(cube(4))\n",
    "print(cube(5))\n"
   ]
  },
  {
   "cell_type": "code",
   "execution_count": 40,
   "metadata": {},
   "outputs": [
    {
     "name": "stdout",
     "output_type": "stream",
     "text": [
      "2\n",
      "9\n",
      "11\n"
     ]
    }
   ],
   "source": [
    "sum_nums = lambda a=1,b=1: print(a+b)\n",
    "\n",
    "sum_nums()\n",
    "sum_nums(b=5,a=4)\n",
    "sum_nums(5,6)"
   ]
  },
  {
   "cell_type": "code",
   "execution_count": 50,
   "metadata": {},
   "outputs": [
    {
     "name": "stdout",
     "output_type": "stream",
     "text": [
      "[1, 2, 3, 4, 5]\n"
     ]
    }
   ],
   "source": [
    "def add_num(ele,l = []):\n",
    "    l.append(ele)\n",
    "    \n",
    "lst = [1,2,3]\n",
    "add_num(4,lst)\n",
    "add_num(5,lst)\n",
    "\n",
    "print(lst)"
   ]
  },
  {
   "cell_type": "code",
   "execution_count": 59,
   "metadata": {},
   "outputs": [
    {
     "name": "stdout",
     "output_type": "stream",
     "text": [
      "[1]\n",
      "[1, 2]\n",
      "[1, 2, 3]\n",
      "[1, 2, 3, 4]\n"
     ]
    }
   ],
   "source": [
    "\n",
    "# becuase of mutability\n",
    "# l -> mutable\n",
    "\n",
    "def add_num2(ele,l=[]):\n",
    "    l.append(ele)\n",
    "    print(l)\n",
    "    \n",
    "add_num2(1) # l=[] happened only once\n",
    "add_num2(2) \n",
    "add_num2(3)\n",
    "add_num2(4)\n"
   ]
  },
  {
   "cell_type": "code",
   "execution_count": 68,
   "metadata": {},
   "outputs": [
    {
     "name": "stdout",
     "output_type": "stream",
     "text": [
      "120\n",
      "6\n",
      "3628800\n"
     ]
    }
   ],
   "source": [
    "# fact using recursion\n",
    "# 5 -> 5,4,3,2,1\n",
    "# 0! = 1\n",
    "def fact(n):\n",
    "    if n in [0,1]:\n",
    "        return 1\n",
    "    else:\n",
    "        return n*fact(n-1)\n",
    "\n",
    "    \n",
    "print(fact(5))\n",
    "print(fact(3))\n",
    "print(fact(10))\n"
   ]
  },
  {
   "cell_type": "code",
   "execution_count": 69,
   "metadata": {},
   "outputs": [
    {
     "name": "stdout",
     "output_type": "stream",
     "text": [
      "True\n",
      "True\n",
      "False\n"
     ]
    }
   ],
   "source": [
    "print(0 in [0,1])\n",
    "print(1 in [0,1])\n",
    "print(2 in [0,1])\n"
   ]
  },
  {
   "cell_type": "code",
   "execution_count": 76,
   "metadata": {},
   "outputs": [
    {
     "name": "stdout",
     "output_type": "stream",
     "text": [
      "55\n"
     ]
    }
   ],
   "source": [
    "# fibonocci using recursion\n",
    "# 1,1,2,3,5,8,13,21\n",
    "# a,b\n",
    "#   a,b\n",
    "# n=1\n",
    "def fibo(n,a=1,b=1):\n",
    "    if n==1:\n",
    "        print(a)\n",
    "    else:\n",
    "        fibo(n-1,b,a+b)\n",
    "               \n",
    "\n",
    "fibo(10)"
   ]
  },
  {
   "cell_type": "code",
   "execution_count": 77,
   "metadata": {},
   "outputs": [],
   "source": [
    "# convert celcius to fahrenheits using lambda functions\n",
    "\n",
    "# create a function print_items() and \n",
    "# Test case:1 - pass argument dictionary as kwargs({'Pencils':5,'Erasers':10,'Sharpners':4})\n",
    "# Test case:2 - pass argument as kewords\n",
    "# output:\n",
    "# Pencils: 5\n",
    "# Erasers: 10\n",
    "# Sharpeners: 4"
   ]
  },
  {
   "cell_type": "code",
   "execution_count": 81,
   "metadata": {},
   "outputs": [
    {
     "name": "stdout",
     "output_type": "stream",
     "text": [
      "1 (2, 3) {'a': 10, 'b': 20, 'c': 30}\n",
      "1 (2, 3) {'a': 10, 'b': 20, 'c': 30}\n"
     ]
    }
   ],
   "source": [
    "def demo_kwargs(f,*args,**kwargs):\n",
    "    print(f,args,kwargs)\n",
    "    \n",
    "demo_kwargs(1,2,3,a=10,b=20,c=30)\n",
    "d = {'a':10,'b':20,'c':30}\n",
    "demo_kwargs(1,2,3,**d)"
   ]
  }
 ],
 "metadata": {
  "kernelspec": {
   "display_name": "Python 3",
   "language": "python",
   "name": "python3"
  },
  "language_info": {
   "codemirror_mode": {
    "name": "ipython",
    "version": 3
   },
   "file_extension": ".py",
   "mimetype": "text/x-python",
   "name": "python",
   "nbconvert_exporter": "python",
   "pygments_lexer": "ipython3",
   "version": "3.7.4"
  }
 },
 "nbformat": 4,
 "nbformat_minor": 2
}
