{
 "cells": [
  {
   "cell_type": "markdown",
   "metadata": {},
   "source": [
    "A python script terminates when it encounters a <b>Syntax error</b> or an <b>Exception</b>"
   ]
  },
  {
   "cell_type": "markdown",
   "metadata": {},
   "source": [
    "<br><strong><i><span style=\"color:#dd2c00;font-size:23px;\">Syntax Errors</span></i></strong><br><br>\n",
    "<span>Python interpreter raises a Syntax error when it encounters an syntactically incorrect statement</span><br>"
   ]
  },
  {
   "cell_type": "code",
   "execution_count": 9,
   "metadata": {},
   "outputs": [
    {
     "ename": "SyntaxError",
     "evalue": "invalid syntax (<ipython-input-9-0b1eec70df36>, line 3)",
     "output_type": "error",
     "traceback": [
      "\u001b[1;36m  File \u001b[1;32m\"<ipython-input-9-0b1eec70df36>\"\u001b[1;36m, line \u001b[1;32m3\u001b[0m\n\u001b[1;33m    if x > y\u001b[0m\n\u001b[1;37m            ^\u001b[0m\n\u001b[1;31mSyntaxError\u001b[0m\u001b[1;31m:\u001b[0m invalid syntax\n"
     ]
    }
   ],
   "source": [
    "x = 10\n",
    "y = 20\n",
    "if x > y\n",
    "    print(\"x is greater\")"
   ]
  },
  {
   "cell_type": "markdown",
   "metadata": {},
   "source": [
    "in the above snippet error occurs becuase semi-colon(<code>:</code>) is missing after condition<br>\n",
    "Python interpreter also displays in which line syntax error occured using carat(<code>^</code>) "
   ]
  },
  {
   "cell_type": "markdown",
   "metadata": {},
   "source": [
    "<br><strong><i><span style=\"color:#dd2c00;font-size:23px;\">Exceptions</span></i></strong><br><br>\n",
    "<span>Exception is also an error occurs when interpreter encounter an unexpected event</span><br>\n"
   ]
  },
  {
   "cell_type": "code",
   "execution_count": 1,
   "metadata": {},
   "outputs": [
    {
     "ename": "ZeroDivisionError",
     "evalue": "division by zero",
     "output_type": "error",
     "traceback": [
      "\u001b[1;31m---------------------------------------------------------------------------\u001b[0m",
      "\u001b[1;31mZeroDivisionError\u001b[0m                         Traceback (most recent call last)",
      "\u001b[1;32m<ipython-input-1-6612ed1ca473>\u001b[0m in \u001b[0;36m<module>\u001b[1;34m\u001b[0m\n\u001b[0;32m      3\u001b[0m \u001b[0ma\u001b[0m \u001b[1;33m=\u001b[0m \u001b[1;36m0\u001b[0m\u001b[1;33m\u001b[0m\u001b[1;33m\u001b[0m\u001b[0m\n\u001b[0;32m      4\u001b[0m \u001b[1;33m\u001b[0m\u001b[0m\n\u001b[1;32m----> 5\u001b[1;33m \u001b[0mprint\u001b[0m\u001b[1;33m(\u001b[0m\u001b[0mf\u001b[0m\u001b[1;33m/\u001b[0m\u001b[0ma\u001b[0m\u001b[1;33m)\u001b[0m\u001b[1;33m\u001b[0m\u001b[1;33m\u001b[0m\u001b[0m\n\u001b[0m",
      "\u001b[1;31mZeroDivisionError\u001b[0m: division by zero"
     ]
    }
   ],
   "source": [
    "# example 1\n",
    "f = 10\n",
    "a = 0\n",
    "\n",
    "print(f/a)"
   ]
  },
  {
   "cell_type": "markdown",
   "metadata": {},
   "source": [
    "In the above example we are trying to divide 10 by 0 which python interpreter cannot handle"
   ]
  },
  {
   "cell_type": "code",
   "execution_count": 7,
   "metadata": {},
   "outputs": [
    {
     "ename": "ValueError",
     "evalue": "invalid literal for int() with base 10: '23c'",
     "output_type": "error",
     "traceback": [
      "\u001b[1;31m---------------------------------------------------------------------------\u001b[0m",
      "\u001b[1;31mValueError\u001b[0m                                Traceback (most recent call last)",
      "\u001b[1;32m<ipython-input-7-a70123a4dd9e>\u001b[0m in \u001b[0;36m<module>\u001b[1;34m\u001b[0m\n\u001b[0;32m      3\u001b[0m \u001b[0mtemp\u001b[0m \u001b[1;33m=\u001b[0m \u001b[1;34m\"23c\"\u001b[0m\u001b[1;33m\u001b[0m\u001b[1;33m\u001b[0m\u001b[0m\n\u001b[0;32m      4\u001b[0m \u001b[1;33m\u001b[0m\u001b[0m\n\u001b[1;32m----> 5\u001b[1;33m \u001b[0mprint\u001b[0m\u001b[1;33m(\u001b[0m\u001b[0mint\u001b[0m\u001b[1;33m(\u001b[0m\u001b[0mtemp\u001b[0m\u001b[1;33m)\u001b[0m\u001b[1;33m+\u001b[0m\u001b[1;36m10\u001b[0m\u001b[1;33m)\u001b[0m\u001b[1;33m\u001b[0m\u001b[1;33m\u001b[0m\u001b[0m\n\u001b[0m",
      "\u001b[1;31mValueError\u001b[0m: invalid literal for int() with base 10: '23c'"
     ]
    }
   ],
   "source": [
    "# example 2\n",
    "\n",
    "temp = \"23c\"\n",
    "\n",
    "print(int(temp)+10)"
   ]
  },
  {
   "cell_type": "code",
   "execution_count": 8,
   "metadata": {
    "scrolled": true
   },
   "outputs": [
    {
     "ename": "NameError",
     "evalue": "name 'k' is not defined",
     "output_type": "error",
     "traceback": [
      "\u001b[1;31m---------------------------------------------------------------------------\u001b[0m",
      "\u001b[1;31mNameError\u001b[0m                                 Traceback (most recent call last)",
      "\u001b[1;32m<ipython-input-8-9961037b4161>\u001b[0m in \u001b[0;36m<module>\u001b[1;34m\u001b[0m\n\u001b[1;32m----> 1\u001b[1;33m \u001b[0mprint\u001b[0m\u001b[1;33m(\u001b[0m\u001b[0mk\u001b[0m\u001b[1;33m*\u001b[0m\u001b[1;36m4\u001b[0m\u001b[1;33m)\u001b[0m\u001b[1;33m\u001b[0m\u001b[1;33m\u001b[0m\u001b[0m\n\u001b[0m",
      "\u001b[1;31mNameError\u001b[0m: name 'k' is not defined"
     ]
    }
   ],
   "source": [
    "print(k*4)"
   ]
  },
  {
   "cell_type": "markdown",
   "metadata": {},
   "source": [
    "The last line of the exception indicates what happened<br>\n",
    "There are different types of exceptions. The types in the examples above are <code>ZeroDivisionError</code>,<code>ValueError</code> and <code>NameError</code> \n",
    "After the exception name, description of what happened will be printed after the colon(<code>:</code>)<br>\n",
    "The preceding part of the error message shows the context where the exception happened, in the form of a stack traceback"
   ]
  },
  {
   "cell_type": "markdown",
   "metadata": {},
   "source": [
    "<br><strong><i><span style=\"color:#dd2c00;font-size:23px;\">Handling Exceptions</span></i></strong><br><br>\n",
    "<span>An Exception can be handled by using <code>try</code> and <code>except</code> statements</span><br>\n"
   ]
  },
  {
   "cell_type": "code",
   "execution_count": null,
   "metadata": {},
   "outputs": [],
   "source": [
    "# guess the number\n",
    "from random import randrange\n",
    "\n",
    "rand_num = randrange(5,10)\n",
    "while True:\n",
    "    try:\n",
    "        num = int(input(\"Enter your guess:\"))\n",
    "        if num == rand_num:\n",
    "            print(\"Guessed right!!\")\n",
    "            break\n",
    "        else:\n",
    "            print(\"Sorry wrong guess.Try again!\")\n",
    "    except ValueError:\n",
    "        print(\"Please enter a valid number!!\")\n"
   ]
  },
  {
   "cell_type": "markdown",
   "metadata": {},
   "source": [
    "<b><br><span style=\"color:#007FDC;font-size:16px\">try...except</span></b><br>\n",
    "<span>the code which is expected to produce exception is placed in the <code>try</code> clause</span><br>\n",
    "code to handle that exception is placed in the <code>except</code> clause<br>\n",
    "\n",
    "<code>try</code> and <code>except</code> statement works as follows: \n",
    "<ul>\n",
    "    <li>if no exception occurs in the <code>try</code> clause, then <code>except</code> clause is skipped</li>\n",
    "    <li>if exception occurs then rest of the <code>try</code> clause is skipped and if raised exception type matches with one of the Exception types specified after <code>except</code> then that <code>except</code> clause is executed</li>\n",
    "    <li>if exception occurs and that does not matches with any <code>except</code> clauses following that <code>try</code> then exception is passed on to outer <code>try</code> statement</li></ul>"
   ]
  },
  {
   "cell_type": "code",
   "execution_count": 24,
   "metadata": {},
   "outputs": [
    {
     "name": "stdout",
     "output_type": "stream",
     "text": [
      "Code before try and catch\n",
      "Some error occured\n",
      "Sorry for the inconvience\n",
      "This code excutes even if error occurs\n"
     ]
    }
   ],
   "source": [
    "\n",
    "print(\"Code before try and catch\")\n",
    "try:\n",
    "    temp = \"23c\"\n",
    "    print(int(temp))\n",
    "    print(\"hello\")\n",
    "except:\n",
    "    print(\"Some error occured\")\n",
    "    print(\"Sorry for the inconvience\")\n",
    "\n",
    "print(\"This code excutes even if error occurs\")"
   ]
  },
  {
   "cell_type": "code",
   "execution_count": null,
   "metadata": {},
   "outputs": [],
   "source": [
    "a,b = 10,2\n",
    "try:\n",
    "    print(a/b)\n",
    "    print(p+\"9\"+9)\n",
    "except ZeroDivisionError:\n",
    "    print(\"b cannot be zero\")"
   ]
  },
  {
   "cell_type": "code",
   "execution_count": null,
   "metadata": {},
   "outputs": [],
   "source": [
    "a,b = 10,2\n",
    "try:\n",
    "    print(a/b)\n",
    "    print(p+\"9\"+9)\n",
    "except ZeroDivisionError:\n",
    "    print(\"b cannot be zero\")\n",
    "except TypeError:\n",
    "    print(\"Only 2 strings or integers can be added\")\n",
    "    "
   ]
  },
  {
   "cell_type": "code",
   "execution_count": null,
   "metadata": {},
   "outputs": [],
   "source": [
    "a,b = 10,2\n",
    "try:\n",
    "    print(a/b)\n",
    "    print(\"9\"+9)\n",
    "except (ZeroDivisionError, TypeError):\n",
    "    print(\"division error or invalid addition operations\")"
   ]
  },
  {
   "cell_type": "code",
   "execution_count": 2,
   "metadata": {},
   "outputs": [
    {
     "name": "stdout",
     "output_type": "stream",
     "text": [
      "Code before try and catch\n",
      "Name error occured: name 'z' is not defined\n"
     ]
    }
   ],
   "source": [
    "print(\"Code before try and catch\")\n",
    "try:\n",
    "    temp = \"23c\"\n",
    "    print(int(z))\n",
    "except NameError as e:\n",
    "    print(\"Name error occured:\",e)"
   ]
  },
  {
   "cell_type": "code",
   "execution_count": 3,
   "metadata": {},
   "outputs": [
    {
     "name": "stdout",
     "output_type": "stream",
     "text": [
      "10.0\n",
      "Some error occured\n"
     ]
    }
   ],
   "source": [
    "a,b = 10,1\n",
    "try:\n",
    "    print(a/b)\n",
    "    print(name)\n",
    "    print(int(\"9d\")+9)\n",
    "except (ZeroDivisionError, TypeError):\n",
    "    print(\"division error or invalid addition operations\")\n",
    "except ValueError:\n",
    "    print(\"ValueError occured\")\n",
    "except:\n",
    "    print(\"Some error occured\")"
   ]
  },
  {
   "cell_type": "code",
   "execution_count": 3,
   "metadata": {},
   "outputs": [
    {
     "ename": "SyntaxError",
     "evalue": "invalid syntax (<ipython-input-3-4ed73be91c6d>, line 8)",
     "output_type": "error",
     "traceback": [
      "\u001b[1;36m  File \u001b[1;32m\"<ipython-input-3-4ed73be91c6d>\"\u001b[1;36m, line \u001b[1;32m8\u001b[0m\n\u001b[1;33m    print(\"This code excutes even if error occurs\")\u001b[0m\n\u001b[1;37m        ^\u001b[0m\n\u001b[1;31mSyntaxError\u001b[0m\u001b[1;31m:\u001b[0m invalid syntax\n"
     ]
    }
   ],
   "source": [
    "\n"
   ]
  },
  {
   "cell_type": "code",
   "execution_count": 31,
   "metadata": {},
   "outputs": [
    {
     "name": "stdout",
     "output_type": "stream",
     "text": [
      "Code before try and catch\n",
      "Name error occured\n",
      "This code excutes even if error occurs\n"
     ]
    }
   ],
   "source": [
    "\n",
    "print(\"Code before try and catch\")\n",
    "try:\n",
    "    temp = \"23c\"\n",
    "    print(int(z))\n",
    "except NameError:\n",
    "    print(\"Name error occured\")\n",
    "except ValueError:\n",
    "    print(\"Value error occured\")\n",
    "\n",
    "\n",
    "    \n",
    "print(\"This code excutes even if error occurs\")"
   ]
  },
  {
   "cell_type": "code",
   "execution_count": 1,
   "metadata": {},
   "outputs": [
    {
     "name": "stdout",
     "output_type": "stream",
     "text": [
      "Code before try and catch\n",
      "Name/Value error occured\n",
      "This code excutes even if error occurs\n"
     ]
    }
   ],
   "source": [
    "print(\"Code before try and catch\")\n",
    "try:\n",
    "    temp = \"23c\"\n",
    "    print(int(temp))\n",
    "except (NameError,ValueError):\n",
    "    print(\"Name/Value error occured\")\n",
    "\n",
    "\n",
    "\n",
    "\n",
    "    \n",
    "print(\"This code excutes even if error occurs\")"
   ]
  },
  {
   "cell_type": "code",
   "execution_count": 29,
   "metadata": {},
   "outputs": [
    {
     "name": "stdout",
     "output_type": "stream",
     "text": [
      "Code before try and catch\n",
      "E division by zero\n",
      "This code excutes even if error occurs\n"
     ]
    }
   ],
   "source": [
    "\n",
    "print(\"Code before try and catch\")\n",
    "try:\n",
    "    d={'a':2}\n",
    "    print(d['b'],int('c'),1/0)\n",
    "    print(int('c'))\n",
    "    print(1/0)\n",
    "except NameError as e:\n",
    "    print(e)\n",
    "except KeyError as e:\n",
    "    print(e)\n",
    "except ZeroDivisionError as e:\n",
    "    print(e)\n",
    "except Exception:\n",
    "    print(\"error\")\n",
    "    \n",
    "print(\"This code excutes even if error occurs\")\n",
    "\n"
   ]
  },
  {
   "cell_type": "code",
   "execution_count": 5,
   "metadata": {},
   "outputs": [
    {
     "name": "stdout",
     "output_type": "stream",
     "text": [
      "My message\n",
      "True\n"
     ]
    }
   ],
   "source": [
    "e=NameError(\"My message\")\n",
    "print(e)\n",
    "print(isinstance(e,NameError))"
   ]
  },
  {
   "cell_type": "code",
   "execution_count": 17,
   "metadata": {},
   "outputs": [
    {
     "name": "stdout",
     "output_type": "stream",
     "text": [
      "Python 3.7.3 (v3.7.3:ef4ec6ed12, Mar 25 2019, 21:26:53) [MSC v.1916 32 bit (Intel)] on win32\n",
      "Type \"help\", \"copyright\", \"credits\" or \"license()\" for more information.\n",
      ">>> print(\"hello\")\n",
      "hello\n",
      ">>> print(\"Hello world\")\n",
      "Hello world\n",
      ">>> print(1+2)\n",
      "3\n",
      ">>> print(10+2000)\n",
      "2010\n",
      ">>> print(20-10)\n",
      "10\n",
      ">>> print(20*30)\n",
      "600\n",
      ">>> print(5/2)\n",
      "2.5\n",
      ">>> print(10800000/650)\n",
      "16615.384615384617\n",
      ">>> print(1.8*33+32)\n",
      "91.4\n",
      ">>> print(int(1.8*33+32))\n",
      "91\n",
      ">>> print(int(1.8*38+32))\n",
      "100\n",
      ">>> print(int(1.8*37+32))\n",
      "98\n",
      ">>> c=37\n",
      ">>> print(int(1.8*c+32))\n",
      "98\n",
      ">>> c=20\n",
      ">>> print(int(1.8*c+32))\n",
      "68\n",
      ">>> c=40\n",
      ">>> print(int(1.8*c+32))\n",
      "104\n",
      ">>> \n",
      "\n",
      "This code will execute even if the error occurs or even if error is handled\n",
      "This code executed all the time\n"
     ]
    },
    {
     "ename": "IndexError",
     "evalue": "list index out of range",
     "output_type": "error",
     "traceback": [
      "\u001b[1;31m---------------------------------------------------------------------------\u001b[0m",
      "\u001b[1;31mIndexError\u001b[0m                                Traceback (most recent call last)",
      "\u001b[1;32m<ipython-input-17-78aa480c343d>\u001b[0m in \u001b[0;36m<module>\u001b[1;34m\u001b[0m\n\u001b[0;32m      3\u001b[0m     \u001b[0ml\u001b[0m\u001b[1;33m=\u001b[0m\u001b[1;33m[\u001b[0m\u001b[1;36m1\u001b[0m\u001b[1;33m,\u001b[0m\u001b[1;36m2\u001b[0m\u001b[1;33m]\u001b[0m\u001b[1;33m\u001b[0m\u001b[1;33m\u001b[0m\u001b[0m\n\u001b[0;32m      4\u001b[0m     \u001b[0mprint\u001b[0m\u001b[1;33m(\u001b[0m\u001b[0mf\u001b[0m\u001b[1;33m.\u001b[0m\u001b[0mread\u001b[0m\u001b[1;33m(\u001b[0m\u001b[1;33m)\u001b[0m\u001b[1;33m)\u001b[0m\u001b[1;33m\u001b[0m\u001b[1;33m\u001b[0m\u001b[0m\n\u001b[1;32m----> 5\u001b[1;33m     \u001b[0mprint\u001b[0m\u001b[1;33m(\u001b[0m\u001b[0ml\u001b[0m\u001b[1;33m[\u001b[0m\u001b[1;36m2\u001b[0m\u001b[1;33m]\u001b[0m\u001b[1;33m)\u001b[0m\u001b[1;33m\u001b[0m\u001b[1;33m\u001b[0m\u001b[0m\n\u001b[0m\u001b[0;32m      6\u001b[0m \u001b[1;33m\u001b[0m\u001b[0m\n\u001b[0;32m      7\u001b[0m \u001b[1;32mexcept\u001b[0m \u001b[0mNameError\u001b[0m\u001b[1;33m:\u001b[0m\u001b[1;33m\u001b[0m\u001b[1;33m\u001b[0m\u001b[0m\n",
      "\u001b[1;31mIndexError\u001b[0m: list index out of range"
     ]
    }
   ],
   "source": [
    "f=open(\"idleoutput.py\")\n",
    "try:\n",
    "    l=[1,2]\n",
    "    print(f.read())\n",
    "    print(l[2])\n",
    "\n",
    "except NameError:\n",
    "    print(\"Error occured\")\n",
    "finally:\n",
    "    f.close()\n",
    "    print(\"This code will execute even if the error occurs or even if error is handled\")\n",
    "    print(\"This code executed all the time\")\n",
    "\n",
    "print(\"This line will not execute if any error occurs and it is not handled\")\n",
    "# f=open(\"filename\")\n",
    "\n",
    "# f.close()"
   ]
  },
  {
   "cell_type": "code",
   "execution_count": 25,
   "metadata": {},
   "outputs": [
    {
     "name": "stdout",
     "output_type": "stream",
     "text": [
      "Code before try and catch\n",
      "Some error occured\n",
      "Sorry for the inconvience\n",
      "This code excutes even if error occurs\n"
     ]
    }
   ],
   "source": [
    "print(\"Code before try and catch\")\n",
    "try:\n",
    "    temp = \"23c\"\n",
    "    print(int(temp))\n",
    "    print(\"hello\")\n",
    "except Exception:\n",
    "    print(\"Some error occured\")\n",
    "    print(\"Sorry for the inconvience\")\n",
    "\n",
    "print(\"This code excutes even if error occurs\")"
   ]
  },
  {
   "cell_type": "code",
   "execution_count": null,
   "metadata": {},
   "outputs": [],
   "source": [
    "# SUPER CLASS EXCPETION SHOULD NOT BE AT THE BEGINNING OF THE TRY EXCEPT CHAIN\n",
    "# BELOW CODE IS FAULTY \n",
    "print(\"Code before try and catch\")\n",
    "try:\n",
    "    d={'a':2}\n",
    "    print(d['b'],int('c'),1/0)\n",
    "    print(int('c'))\n",
    "    print(1/0)\n",
    "except Exception as e:\n",
    "    print(e)\n",
    "except KeyError as e:\n",
    "    print(e)\n",
    "except ZeroDivisionError as e:\n",
    "    print(e)\n",
    "    \n",
    "print(\"This code excutes even if error occurs\")"
   ]
  },
  {
   "cell_type": "code",
   "execution_count": 20,
   "metadata": {
    "collapsed": true
   },
   "outputs": [
    {
     "name": "stdout",
     "output_type": "stream",
     "text": [
      "Help on class LookupError in module builtins:\n",
      "\n",
      "class LookupError(Exception)\n",
      " |  Base class for lookup errors.\n",
      " |  \n",
      " |  Method resolution order:\n",
      " |      LookupError\n",
      " |      Exception\n",
      " |      BaseException\n",
      " |      object\n",
      " |  \n",
      " |  Methods defined here:\n",
      " |  \n",
      " |  __init__(self, /, *args, **kwargs)\n",
      " |      Initialize self.  See help(type(self)) for accurate signature.\n",
      " |  \n",
      " |  ----------------------------------------------------------------------\n",
      " |  Static methods defined here:\n",
      " |  \n",
      " |  __new__(*args, **kwargs) from builtins.type\n",
      " |      Create and return a new object.  See help(type) for accurate signature.\n",
      " |  \n",
      " |  ----------------------------------------------------------------------\n",
      " |  Methods inherited from BaseException:\n",
      " |  \n",
      " |  __delattr__(self, name, /)\n",
      " |      Implement delattr(self, name).\n",
      " |  \n",
      " |  __getattribute__(self, name, /)\n",
      " |      Return getattr(self, name).\n",
      " |  \n",
      " |  __reduce__(...)\n",
      " |      Helper for pickle.\n",
      " |  \n",
      " |  __repr__(self, /)\n",
      " |      Return repr(self).\n",
      " |  \n",
      " |  __setattr__(self, name, value, /)\n",
      " |      Implement setattr(self, name, value).\n",
      " |  \n",
      " |  __setstate__(...)\n",
      " |  \n",
      " |  __str__(self, /)\n",
      " |      Return str(self).\n",
      " |  \n",
      " |  with_traceback(...)\n",
      " |      Exception.with_traceback(tb) --\n",
      " |      set self.__traceback__ to tb and return self.\n",
      " |  \n",
      " |  ----------------------------------------------------------------------\n",
      " |  Data descriptors inherited from BaseException:\n",
      " |  \n",
      " |  __cause__\n",
      " |      exception cause\n",
      " |  \n",
      " |  __context__\n",
      " |      exception context\n",
      " |  \n",
      " |  __dict__\n",
      " |  \n",
      " |  __suppress_context__\n",
      " |  \n",
      " |  __traceback__\n",
      " |  \n",
      " |  args\n",
      "\n"
     ]
    }
   ],
   "source": [
    "\n",
    "\n",
    "help(LookupError)"
   ]
  },
  {
   "cell_type": "code",
   "execution_count": 40,
   "metadata": {},
   "outputs": [
    {
     "name": "stdout",
     "output_type": "stream",
     "text": [
      "Error handled\n"
     ]
    }
   ],
   "source": [
    "# raising an exception\n",
    "\n",
    "try:\n",
    "    ob1=IndexError(\"Custom error raised\")\n",
    "    raise ob1\n",
    "    print(ob1)\n",
    "except:\n",
    "    print(\"Error handled\")\n"
   ]
  },
  {
   "cell_type": "code",
   "execution_count": 43,
   "metadata": {},
   "outputs": [
    {
     "ename": "A",
     "evalue": "",
     "output_type": "error",
     "traceback": [
      "\u001b[1;31m---------------------------------------------------------------------------\u001b[0m",
      "\u001b[1;31mA\u001b[0m                                         Traceback (most recent call last)",
      "\u001b[1;32m<ipython-input-43-57386861ff32>\u001b[0m in \u001b[0;36m<module>\u001b[1;34m\u001b[0m\n\u001b[0;32m      4\u001b[0m \u001b[1;33m\u001b[0m\u001b[0m\n\u001b[0;32m      5\u001b[0m \u001b[0mob1\u001b[0m\u001b[1;33m=\u001b[0m\u001b[0mA\u001b[0m\u001b[1;33m(\u001b[0m\u001b[1;33m)\u001b[0m\u001b[1;33m\u001b[0m\u001b[1;33m\u001b[0m\u001b[0m\n\u001b[1;32m----> 6\u001b[1;33m \u001b[1;32mraise\u001b[0m \u001b[0mob1\u001b[0m\u001b[1;33m\u001b[0m\u001b[1;33m\u001b[0m\u001b[0m\n\u001b[0m\u001b[0;32m      7\u001b[0m \u001b[0mprint\u001b[0m\u001b[1;33m(\u001b[0m\u001b[0mob1\u001b[0m\u001b[1;33m)\u001b[0m\u001b[1;33m\u001b[0m\u001b[1;33m\u001b[0m\u001b[0m\n",
      "\u001b[1;31mA\u001b[0m: "
     ]
    }
   ],
   "source": [
    "# raising an exception\n",
    "class A:\n",
    "    pass\n",
    "\n",
    "ob1=A()\n",
    "raise ob1\n",
    "print(ob1)"
   ]
  },
  {
   "cell_type": "code",
   "execution_count": null,
   "metadata": {},
   "outputs": [],
   "source": [
    "\n",
    "class A(Exception):\n",
    "    pass\n",
    "\n",
    "ob1=A()\n",
    "raise ob1\n",
    "print(ob1)"
   ]
  },
  {
   "cell_type": "markdown",
   "metadata": {},
   "source": [
    "<br><strong><i><span style=\"color:#dd2c00;font-size:23px;\">Raising Exceptions</span></i></strong><br><br>\n",
    "<span><code>raise</code> keyword is used to raise an exception explicitly</span></i>"
   ]
  },
  {
   "cell_type": "code",
   "execution_count": null,
   "metadata": {},
   "outputs": [],
   "source": []
  },
  {
   "cell_type": "code",
   "execution_count": null,
   "metadata": {},
   "outputs": [],
   "source": [
    "try:\n",
    "    num = int(input(\"Enter the number greater than 10:\"))\n",
    "    if num <= 10:\n",
    "        raise Exception(\"Invalid number!!\")\n",
    "    print(\"10\")\n",
    "except Exception as e:\n",
    "    print(e)"
   ]
  },
  {
   "cell_type": "code",
   "execution_count": null,
   "metadata": {},
   "outputs": [],
   "source": [
    "def get_input():\n",
    "    try:\n",
    "        num = int(input(\"Enter the number greater than 10:\"))\n",
    "        if num <= 10:\n",
    "            raise Exception(\"Invalid number!!\")\n",
    "        print(\"10\")\n",
    "    except Exception as e:\n",
    "        raise e\n",
    "\n",
    "# # case 1\n",
    "get_input()\n",
    "\n",
    "\n",
    "# # case 2\n",
    "# try:\n",
    "#     get_input()\n",
    "# except Exception as e:\n",
    "#     print(e)\n",
    "\n"
   ]
  },
  {
   "cell_type": "markdown",
   "metadata": {},
   "source": [
    "<br><strong><i><span style=\"color:#dd2c00;font-size:23px;\">User-defined Exceptions</span></i></strong><br><br>\n",
    "<i><span> </span></i><br>\n"
   ]
  },
  {
   "cell_type": "code",
   "execution_count": null,
   "metadata": {},
   "outputs": [],
   "source": [
    "class MyException(Exception):\n",
    "    def __init__(self,message):\n",
    "        self.message = message\n",
    "\n",
    "try:\n",
    "    num = int(input(\"Enter the number greater than 10:\"))\n",
    "    if num <= 10:\n",
    "        raise MyException(\"Invalid number!!\")\n",
    "    print(\"10\")\n",
    "except Exception as e:\n",
    "    print(e)"
   ]
  },
  {
   "cell_type": "markdown",
   "metadata": {},
   "source": [
    "<b><br><span style=\"color:#007FDC;font-size:16px\">Best practices</span></b><br>\n",
    "<span>When you are handling more than one type of exception in different <code>except</code> statements always put base class exceptions after the derived class exceptions</span><br>\n",
    "\n"
   ]
  },
  {
   "cell_type": "code",
   "execution_count": null,
   "metadata": {},
   "outputs": [],
   "source": [
    "class A(Exception):\n",
    "    pass\n",
    "class B(A):\n",
    "    pass\n",
    "class C(B):\n",
    "    pass\n",
    "\n",
    "try:\n",
    "    raise C()\n",
    "    raise B()\n",
    "    raise A()\n",
    "except A:\n",
    "    print(\"A\")\n",
    "except B:\n",
    "    print(\"B\")\n",
    "except C:\n",
    "    print(\"C\")\n"
   ]
  }
 ],
 "metadata": {
  "kernelspec": {
   "display_name": "Python 3",
   "language": "python",
   "name": "python3"
  },
  "language_info": {
   "codemirror_mode": {
    "name": "ipython",
    "version": 3
   },
   "file_extension": ".py",
   "mimetype": "text/x-python",
   "name": "python",
   "nbconvert_exporter": "python",
   "pygments_lexer": "ipython3",
   "version": "3.7.4"
  }
 },
 "nbformat": 4,
 "nbformat_minor": 2
}
