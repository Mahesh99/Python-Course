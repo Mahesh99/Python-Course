{
 "cells": [
  {
   "cell_type": "code",
   "execution_count": null,
   "metadata": {},
   "outputs": [],
   "source": [
    "# class and object"
   ]
  },
  {
   "cell_type": "markdown",
   "metadata": {},
   "source": [
    "Animal -> criteria -> template -> blueprint"
   ]
  },
  {
   "cell_type": "markdown",
   "metadata": {},
   "source": [
    "Fruits\n",
    "- orange\n",
    "- pineapple\n",
    "- apple\n",
    "- water melon\n"
   ]
  },
  {
   "cell_type": "markdown",
   "metadata": {},
   "source": [
    "class - template - blueprint - eg: building plam\n",
    "object - the actual building\n",
    "\n",
    "class - fruit\n",
    "object - mango,apple\n",
    "\n",
    "class - animal\n",
    "object - cat,dog,lion\n",
    "\n",
    "class - cat\n",
    "object - tom, bishi..etc"
   ]
  },
  {
   "cell_type": "code",
   "execution_count": null,
   "metadata": {},
   "outputs": [],
   "source": [
    "cat1 = {\n",
    "    \"name\":\"Tom\",\n",
    "    \"breed\" : \"ragdoll\",\n",
    "    \"age\" : 4,\n",
    "    \"color\" : \"White\",\n",
    "    \"weigth\" : 5\n",
    "}\n",
    "\n",
    "cat2 = {\n",
    "    \"name\":\"Tom2\",\n",
    "    \"breed\" : \"ragdoll\",\n",
    "    \"age\" : 3,\n",
    "    \"color\" : \"orange\",\n",
    "    \"weight\" : 6\n",
    "}\n",
    "\n",
    "def meow():\n",
    "    pass\n",
    "    \n",
    "\n"
   ]
  },
  {
   "cell_type": "code",
   "execution_count": null,
   "metadata": {},
   "outputs": [],
   "source": [
    "# object - properties and behaviour\n",
    "# Pencil - properties :color, company, height, weight, Behaviour: writes\n",
    "# cat - Properties: name, breed,..etc Behaviour(verb): meow, walk, run, play\n",
    "class Cat:\n",
    "    def __init__(self,name,breed,age,color,weight):\n",
    "        self.name = name\n",
    "        self.breed = breed\n",
    "        self.age = age\n",
    "        self.color = color\n",
    "        self.weight = weight\n",
    "    def meow(self):\n",
    "        print(\"Meow..Meow..\")\n",
    "\n",
    "# an object will be created and passed as a first argument to the __init__\n",
    "# and after execution of the __init__ it will be returned\n",
    "c1 = Cat(\"Tom\",\"ragdoll\",4,\"white\",5)\n",
    "\n",
    "# print(c1.name)\n",
    "# print(c1.breed)\n",
    "# print(c1.age)\n",
    "c1.meow()"
   ]
  },
  {
   "cell_type": "code",
   "execution_count": null,
   "metadata": {},
   "outputs": [],
   "source": [
    "class Cat:\n",
    "    pass\n",
    "\n",
    "c1 = Cat()\n",
    "c1.name = \"Tom\"\n",
    "c1.age = 7\n",
    "c1.breed = \"ragdoll\"\n",
    "print(c1.name)\n",
    "print(c1.age)\n",
    "print(c1.breed)\n",
    "\n"
   ]
  },
  {
   "cell_type": "code",
   "execution_count": null,
   "metadata": {},
   "outputs": [],
   "source": [
    "print('hello')"
   ]
  },
  {
   "cell_type": "code",
   "execution_count": null,
   "metadata": {},
   "outputs": [],
   "source": [
    "s1 = {\n",
    "    \"name\" : \"Ravi\",\n",
    "    \"marks\" : [40,50,60,80]\n",
    "}\n",
    "\n",
    "s2 = {\n",
    "    \"name\" : \"Ravi\",\n",
    "    \"marks\" : [40,50,60,80]\n",
    "}\n",
    "\n",
    "def percentage(marks):\n",
    "    return sum(marks)/len(marks)\n",
    "\n",
    "def update_marks(marks):\n",
    "    pass\n",
    "\n",
    "\n",
    "p = percentage(s1['marks'])\n",
    "print(p)\n"
   ]
  },
  {
   "cell_type": "code",
   "execution_count": null,
   "metadata": {},
   "outputs": [],
   "source": [
    "# Encapsulation\n",
    "# Binding properties and behaviour togethor\n",
    "class Student:\n",
    "    def __init__(self,name,marks):\n",
    "        self.name = name\n",
    "        self.marks = marks\n",
    "    def calculate_percentage(self):\n",
    "        return sum(self.marks)/len(self.marks)\n",
    "    \n",
    "s1 = Student(\"Ravi\",[40,50,60,80])\n",
    "p1 = s1.calculate_percentage()\n",
    "print(p1)\n",
    "\n",
    "s2 = Student(\"Tej\",[70,90,60,80])\n",
    "p2 = s2.calculate_percentage()\n",
    "print(p2)\n"
   ]
  },
  {
   "cell_type": "code",
   "execution_count": null,
   "metadata": {},
   "outputs": [],
   "source": [
    "# instance - For instance - For example\n",
    "# instance variables - which are different for each and every object - they are associated with object\n",
    "# class variables - is unique for all the objects - are associated with class\n",
    "class Emp:\n",
    "    def __init__(self, name, age, salary):\n",
    "        self.name = name\n",
    "        self.age = age\n",
    "        self.salary = salary\n",
    "    def raise_salary(self):\n",
    "        self.salary += self.salary*.25\n",
    "\n",
    "# e1 - object, instance\n",
    "e1 = Emp(\"Kiran\", 30, 40000)\n",
    "e1.raise_salary()\n",
    "print(e1.salary)"
   ]
  },
  {
   "cell_type": "code",
   "execution_count": null,
   "metadata": {},
   "outputs": [],
   "source": [
    "# class variables - is unique for all the objects - thery are associated with class\n",
    "class Emp:\n",
    "    raise_per = .25\n",
    "    def __init__(self, name, age, salary):\n",
    "        self.name = name\n",
    "        self.age = age\n",
    "        self.salary = salary\n",
    "    def raise_salary(self):\n",
    "        self.salary += self.salary * Emp.raise_per\n",
    "\n",
    "# e1 - object, instance\n",
    "# e1 = Emp(\"Kiran\", 30, 40000)\n",
    "# e1.raise_salary()\n",
    "# print(e1.salary)\n",
    "\n",
    "# e2 = Emp(\"Sam\", 27, 35000)\n",
    "# e2.raise_salary()\n",
    "# print(e2.salary)\n",
    "\n",
    "# print(Emp.raise_per)\n",
    "Emp.raise_per = .3\n",
    "# print(e1.raise_per)\n",
    "# print(e2.raise_per)\n",
    "print(Emp.raise_per)\n"
   ]
  },
  {
   "cell_type": "code",
   "execution_count": null,
   "metadata": {},
   "outputs": [],
   "source": [
    "class Circle:\n",
    "    pi = 3.14\n",
    "    def __init__(self, radius):\n",
    "        self.radius = radius\n",
    "#         self.pi = 3.14\n",
    "    def calculate_area(self):\n",
    "        return Circle.pi * self.radius ** 2\n",
    "    def calculate_circumference(self):\n",
    "        return 2 * Circle.pi * self.radius\n",
    "\n",
    "c1 = Circle(10)\n",
    "print(c1.calculate_area())\n",
    "print(c1.calculate_circumference())\n",
    "\n",
    "c2 = Circle(20)\n",
    "print(c2.calculate_area())\n",
    "print(c2.calculate_circumference())\n",
    "\n",
    "# if I create 100 circle \n",
    "# 100 pi variables 1 for each object will also be created\n",
    "\n",
    "# now 100 circles will have only 1 pi variable \n"
   ]
  },
  {
   "cell_type": "markdown",
   "metadata": {},
   "source": [
    "### private variables\n",
    "### static methods\n",
    "### inheritance\n",
    "\n"
   ]
  },
  {
   "cell_type": "code",
   "execution_count": null,
   "metadata": {},
   "outputs": [],
   "source": [
    "class Person:\n",
    "    def __init__(self, first_name, last_name):\n",
    "        self.first_name = first_name\n",
    "        self.last_name = last_name\n",
    "        # private \n",
    "        # it can only be accessed inside class\n",
    "        self.__full_name = first_name + \" \" + last_name \n",
    "    def get_full_name(self):\n",
    "        return self.__full_name\n",
    "p1 = Person(\"Ravi\", \"kumar\")\n",
    "print(p1.get_full_name())#\n",
    "# this is a new instance variable but not the one private var defined inside class\n",
    "p1.__full_name = \"teja Ravi S\"\n",
    "print(p1.get_full_name())\n",
    "print(p1.first_name, p1.last_name)\n",
    "print(p1.__full_name)\n",
    "print(p1.__dict__)"
   ]
  },
  {
   "cell_type": "code",
   "execution_count": null,
   "metadata": {},
   "outputs": [],
   "source": [
    "# static methods\n",
    "# Utility classes\n",
    "class TempConverter:\n",
    "    def convert_c2f(c):\n",
    "        return 1.8*c+32\n",
    "    def convert_f2c(f):\n",
    "        return (f-32)/1.8\n",
    "# tc = TempConverter()\n",
    "# c = tc.convert_f2c(98.4)\n",
    "c = TempConverter.convert_f2c(98.4)\n",
    "print(c)\n",
    "# f = tc.convert_c2f(c)\n",
    "f = TempConverter.convert_c2f(c)\n",
    "print(f)"
   ]
  },
  {
   "cell_type": "code",
   "execution_count": null,
   "metadata": {},
   "outputs": [],
   "source": [
    "class Calci:\n",
    "    name = \"Calci\"\n",
    "    def add(a,b):\n",
    "        return a+b\n",
    "    def sub(a,b):\n",
    "        return a-b\n",
    "    def mul(a,b):\n",
    "        return a*b\n",
    "    def div(a,b):\n",
    "        return a/b\n",
    "    \n",
    "# c = Calci()\n",
    "print(Calci.add(1,2))\n",
    "print(Calci.div(1,2))\n",
    "print(Calci.name)\n"
   ]
  },
  {
   "cell_type": "code",
   "execution_count": null,
   "metadata": {},
   "outputs": [],
   "source": [
    "# Inheritance\n",
    "# By which one class obtains properties of other\n",
    "# The class from which properties has been obtained -  Super class, Base class or Parent class - Calci\n",
    "# Class which has obtained properties - Sub class, derived class or child class - SciCalci\n",
    "class SciCalci(Calci):\n",
    "    name = \"Scientific Calci\"\n",
    "    def fact(n):\n",
    "        p = 1\n",
    "        for i in range(1,n+1):\n",
    "            p *= i\n",
    "        return p\n",
    "print(SciCalci.add(2,3))\n",
    "print(SciCalci.name)\n",
    "print(SciCalci.fact(5))\n",
    "\n",
    "\n",
    "class AdvanceCalci(SciCalci):\n",
    "    name = \"Advance calci\"\n",
    "    def sin():\n",
    "        pass\n",
    "    \n",
    "\n"
   ]
  },
  {
   "cell_type": "code",
   "execution_count": null,
   "metadata": {},
   "outputs": [],
   "source": [
    "# inheritance types\n",
    "# 1. Single\n",
    "# 2. Multi level \n",
    "# 3. Multiple\n",
    "# 4. Hierarchial"
   ]
  },
  {
   "cell_type": "code",
   "execution_count": null,
   "metadata": {},
   "outputs": [],
   "source": [
    "# Multiple inheritance\n",
    "class A:\n",
    "    def meth1(self):\n",
    "        print(\"method in A\")\n",
    "class B:\n",
    "    def meth2(self):\n",
    "        print(\"method in B\")\n",
    "\n",
    "class C(A,B): # now Object of C will also can access methods of classes A and B\n",
    "    def meth3(self):\n",
    "        print(\"method in C\")\n",
    "\n",
    "obj = C()\n",
    "obj.meth1()\n",
    "obj.meth2()\n",
    "obj.meth3()\n"
   ]
  },
  {
   "cell_type": "code",
   "execution_count": null,
   "metadata": {},
   "outputs": [],
   "source": [
    "# Hierarchial Inheritance\n",
    "# Shape - super class\n",
    "# Ractangle, Triangle and Circle - sub class\n",
    "\n",
    "class Shape:\n",
    "    pass\n",
    "\n",
    "class Rectangle(Shape):\n",
    "    pass\n",
    "class Triangle(Shape):\n",
    "    pass\n",
    "class Circle(Shape):\n",
    "    pass\n",
    "\n"
   ]
  },
  {
   "cell_type": "code",
   "execution_count": null,
   "metadata": {},
   "outputs": [],
   "source": [
    "# multiple inheritance - case\n",
    "class A:\n",
    "    def meth1(self):\n",
    "        print(\"method in A\")\n",
    "\n",
    "class B:\n",
    "    def meth1(self):\n",
    "        print(\"method in B\")\n",
    "\n",
    "class C(A, B): # Object of C will also can access methods of classes A and B\n",
    "    def meth2(self):\n",
    "        print(\"method in C\")\n",
    "        \n",
    "obj = C()\n",
    "obj.meth1()\n",
    "obj.meth2()"
   ]
  },
  {
   "cell_type": "code",
   "execution_count": null,
   "metadata": {},
   "outputs": [],
   "source": [
    "# has a - relationship\n",
    "# Emp has a Address\n",
    "\n",
    "class Address:\n",
    "    def __init__(self, street_name, state, pincode):\n",
    "        self.street_name = street_name\n",
    "        self.state = state\n",
    "        self.pincode = pincode\n",
    "    def display_address(self):\n",
    "        print(f\"Street: {self.street_name}\\nState: {self.state}\\nPincode: {self.pincode}\")\n",
    "    \n",
    "class Emp:\n",
    "    raise_per = .25\n",
    "    def __init__(self, name, age, salary, address):\n",
    "        self.name = name\n",
    "        self.age = age\n",
    "        self.salary = salary\n",
    "        self.address = address\n",
    "    def raise_salary(self):\n",
    "        self.salary += self.salary * Emp.raise_per\n",
    "        \n",
    "a1 = Address(\"Rtc colony\", \"Telangana\", 500013)\n",
    "# a1.display_address()\n",
    "\n",
    "e1 = Emp(\"Kiran\", 30, 40000, a1)\n",
    "# e1.raise_salary()\n",
    "e1.address.display_address()\n",
    "print(e1.address.street_name)\n",
    "print(e1.address.pincode)\n",
    "\n"
   ]
  },
  {
   "cell_type": "code",
   "execution_count": null,
   "metadata": {},
   "outputs": [],
   "source": [
    "# SubClass IS A SuperClass\n",
    "# SciCali is a Calci\n",
    "# American is a HumanBeing\n",
    "# Indian is a HumanBeing\n",
    "# Telanganite is an Indian\n",
    "HumanBeing\n",
    "\n",
    "American\n",
    "Indian\n",
    "\n",
    "Telanganite"
   ]
  },
  {
   "cell_type": "code",
   "execution_count": null,
   "metadata": {},
   "outputs": [],
   "source": []
  },
  {
   "cell_type": "code",
   "execution_count": null,
   "metadata": {},
   "outputs": [],
   "source": [
    "class A:\n",
    "    def __init__(self,a,b):\n",
    "        self.a = a\n",
    "        self.b = b\n",
    "    def print_a(self):\n",
    "        print(f\"a:{self.a} \\nb:{self.b}\")\n",
    "class B(A):\n",
    "    def __init__(self,a,b,c,d):\n",
    "        # to initialize instance variables in super class\n",
    "#         print(super())\n",
    "        super().__init__(a,b)\n",
    "        self.c = c\n",
    "        self.d = d\n",
    "    def print_b(self):\n",
    "        print(f\"c:{self.c} \\nd:{self.d}\")\n",
    "\n",
    "b1 = B(1,2,3,4)\n",
    "print(b1.a, b1.b, b1.c, b1.d)\n",
    "b1.print_a()\n",
    "b1.print_b()\n",
    "\n"
   ]
  },
  {
   "cell_type": "markdown",
   "metadata": {},
   "source": [
    "### iterators\n",
    "### generators"
   ]
  },
  {
   "cell_type": "code",
   "execution_count": null,
   "metadata": {},
   "outputs": [],
   "source": [
    "A iterator is an object which can be itereated over its contents\n",
    "\n",
    "iterator can be created using iter() method by passing it a list,tuple,set or dictionary\n",
    "Or by defining __iter__() and __next__() in a class"
   ]
  },
  {
   "cell_type": "code",
   "execution_count": 17,
   "metadata": {},
   "outputs": [
    {
     "name": "stdout",
     "output_type": "stream",
     "text": [
      "1\n",
      "2\n",
      "3\n",
      "4\n"
     ]
    }
   ],
   "source": [
    "nums = [1,2,3,4]\n",
    "for i in nums:\n",
    "    print(i)"
   ]
  },
  {
   "cell_type": "code",
   "execution_count": 22,
   "metadata": {},
   "outputs": [
    {
     "name": "stdout",
     "output_type": "stream",
     "text": [
      "1\n",
      "2\n",
      "3\n",
      "4\n"
     ]
    },
    {
     "ename": "StopIteration",
     "evalue": "",
     "output_type": "error",
     "traceback": [
      "\u001b[1;31m---------------------------------------------------------------------------\u001b[0m",
      "\u001b[1;31mStopIteration\u001b[0m                             Traceback (most recent call last)",
      "\u001b[1;32m<ipython-input-22-20fbd0a59512>\u001b[0m in \u001b[0;36m<module>\u001b[1;34m\u001b[0m\n\u001b[0;32m      4\u001b[0m \u001b[0mprint\u001b[0m\u001b[1;33m(\u001b[0m\u001b[0mnext\u001b[0m\u001b[1;33m(\u001b[0m\u001b[0mniter\u001b[0m\u001b[1;33m)\u001b[0m\u001b[1;33m)\u001b[0m\u001b[1;33m\u001b[0m\u001b[1;33m\u001b[0m\u001b[0m\n\u001b[0;32m      5\u001b[0m \u001b[0mprint\u001b[0m\u001b[1;33m(\u001b[0m\u001b[0mnext\u001b[0m\u001b[1;33m(\u001b[0m\u001b[0mniter\u001b[0m\u001b[1;33m)\u001b[0m\u001b[1;33m)\u001b[0m\u001b[1;33m\u001b[0m\u001b[1;33m\u001b[0m\u001b[0m\n\u001b[1;32m----> 6\u001b[1;33m \u001b[0mprint\u001b[0m\u001b[1;33m(\u001b[0m\u001b[0mnext\u001b[0m\u001b[1;33m(\u001b[0m\u001b[0mniter\u001b[0m\u001b[1;33m)\u001b[0m\u001b[1;33m)\u001b[0m\u001b[1;33m\u001b[0m\u001b[1;33m\u001b[0m\u001b[0m\n\u001b[0m",
      "\u001b[1;31mStopIteration\u001b[0m: "
     ]
    }
   ],
   "source": [
    "niter = iter(nums)\n",
    "print(next(niter))\n",
    "print(next(niter))\n",
    "print(next(niter))\n",
    "print(next(niter))\n",
    "print(next(niter))\n"
   ]
  },
  {
   "cell_type": "code",
   "execution_count": 32,
   "metadata": {},
   "outputs": [
    {
     "name": "stdout",
     "output_type": "stream",
     "text": [
      "b\n"
     ]
    }
   ],
   "source": [
    "siter = iter({'a','b','c'})\n",
    "r = next(siter)\n",
    "print(r)"
   ]
  },
  {
   "cell_type": "code",
   "execution_count": 33,
   "metadata": {},
   "outputs": [
    {
     "name": "stdout",
     "output_type": "stream",
     "text": [
      "c\n"
     ]
    }
   ],
   "source": [
    "r = next(siter)\n",
    "print(r)"
   ]
  },
  {
   "cell_type": "code",
   "execution_count": 34,
   "metadata": {},
   "outputs": [
    {
     "name": "stdout",
     "output_type": "stream",
     "text": [
      "a\n"
     ]
    }
   ],
   "source": [
    "r = next(siter)\n",
    "print(r)"
   ]
  },
  {
   "cell_type": "code",
   "execution_count": 35,
   "metadata": {},
   "outputs": [
    {
     "ename": "StopIteration",
     "evalue": "",
     "output_type": "error",
     "traceback": [
      "\u001b[1;31m---------------------------------------------------------------------------\u001b[0m",
      "\u001b[1;31mStopIteration\u001b[0m                             Traceback (most recent call last)",
      "\u001b[1;32m<ipython-input-35-2367726b7cbd>\u001b[0m in \u001b[0;36m<module>\u001b[1;34m\u001b[0m\n\u001b[1;32m----> 1\u001b[1;33m \u001b[0mr\u001b[0m \u001b[1;33m=\u001b[0m \u001b[0mnext\u001b[0m\u001b[1;33m(\u001b[0m\u001b[0msiter\u001b[0m\u001b[1;33m)\u001b[0m\u001b[1;33m\u001b[0m\u001b[1;33m\u001b[0m\u001b[0m\n\u001b[0m",
      "\u001b[1;31mStopIteration\u001b[0m: "
     ]
    }
   ],
   "source": [
    "r = next(siter)"
   ]
  },
  {
   "cell_type": "code",
   "execution_count": 37,
   "metadata": {},
   "outputs": [
    {
     "name": "stdout",
     "output_type": "stream",
     "text": [
      "1\n",
      "2\n",
      "3\n",
      "4\n"
     ]
    }
   ],
   "source": [
    "niter = iter(nums)\n",
    "siter = iter({'a','b','c'})\n",
    "for i in niter:\n",
    "    print(i)"
   ]
  },
  {
   "cell_type": "code",
   "execution_count": 39,
   "metadata": {},
   "outputs": [
    {
     "name": "stdout",
     "output_type": "stream",
     "text": [
      "b\n",
      "c\n",
      "a\n"
     ]
    }
   ],
   "source": [
    "siter = iter({'a','b','c'})\n",
    "for i in siter:\n",
    "    print(i)"
   ]
  },
  {
   "cell_type": "code",
   "execution_count": 53,
   "metadata": {},
   "outputs": [
    {
     "name": "stdout",
     "output_type": "stream",
     "text": [
      "<__main__.MyIterator object at 0x000001F811B21448>\n",
      "5\n",
      "4\n",
      "3\n",
      "2\n",
      "1\n"
     ]
    },
    {
     "ename": "StopIteration",
     "evalue": "",
     "output_type": "error",
     "traceback": [
      "\u001b[1;31m---------------------------------------------------------------------------\u001b[0m",
      "\u001b[1;31mStopIteration\u001b[0m                             Traceback (most recent call last)",
      "\u001b[1;32m<ipython-input-53-5cd4a4b01e0b>\u001b[0m in \u001b[0;36m<module>\u001b[1;34m\u001b[0m\n\u001b[0;32m     19\u001b[0m \u001b[0mprint\u001b[0m\u001b[1;33m(\u001b[0m\u001b[0mnext\u001b[0m\u001b[1;33m(\u001b[0m\u001b[0mi\u001b[0m\u001b[1;33m)\u001b[0m\u001b[1;33m)\u001b[0m\u001b[1;33m\u001b[0m\u001b[1;33m\u001b[0m\u001b[0m\n\u001b[0;32m     20\u001b[0m \u001b[0mprint\u001b[0m\u001b[1;33m(\u001b[0m\u001b[0mnext\u001b[0m\u001b[1;33m(\u001b[0m\u001b[0mi\u001b[0m\u001b[1;33m)\u001b[0m\u001b[1;33m)\u001b[0m\u001b[1;33m\u001b[0m\u001b[1;33m\u001b[0m\u001b[0m\n\u001b[1;32m---> 21\u001b[1;33m \u001b[0mprint\u001b[0m\u001b[1;33m(\u001b[0m\u001b[0mnext\u001b[0m\u001b[1;33m(\u001b[0m\u001b[0mi\u001b[0m\u001b[1;33m)\u001b[0m\u001b[1;33m)\u001b[0m\u001b[1;33m\u001b[0m\u001b[1;33m\u001b[0m\u001b[0m\n\u001b[0m",
      "\u001b[1;32m<ipython-input-53-5cd4a4b01e0b>\u001b[0m in \u001b[0;36m__next__\u001b[1;34m(self)\u001b[0m\n\u001b[0;32m      8\u001b[0m     \u001b[1;32mdef\u001b[0m \u001b[0m__next__\u001b[0m\u001b[1;33m(\u001b[0m\u001b[0mself\u001b[0m\u001b[1;33m)\u001b[0m\u001b[1;33m:\u001b[0m\u001b[1;33m\u001b[0m\u001b[1;33m\u001b[0m\u001b[0m\n\u001b[0;32m      9\u001b[0m         \u001b[1;32mif\u001b[0m \u001b[0mself\u001b[0m\u001b[1;33m.\u001b[0m\u001b[0mn\u001b[0m \u001b[1;33m==\u001b[0m \u001b[1;36m0\u001b[0m\u001b[1;33m:\u001b[0m\u001b[1;33m\u001b[0m\u001b[1;33m\u001b[0m\u001b[0m\n\u001b[1;32m---> 10\u001b[1;33m             \u001b[1;32mraise\u001b[0m \u001b[0mStopIteration\u001b[0m\u001b[1;33m\u001b[0m\u001b[1;33m\u001b[0m\u001b[0m\n\u001b[0m\u001b[0;32m     11\u001b[0m         \u001b[0mt\u001b[0m \u001b[1;33m=\u001b[0m \u001b[0mself\u001b[0m\u001b[1;33m.\u001b[0m\u001b[0mn\u001b[0m\u001b[1;33m\u001b[0m\u001b[1;33m\u001b[0m\u001b[0m\n\u001b[0;32m     12\u001b[0m         \u001b[0mself\u001b[0m\u001b[1;33m.\u001b[0m\u001b[0mn\u001b[0m \u001b[1;33m-=\u001b[0m \u001b[1;36m1\u001b[0m\u001b[1;33m\u001b[0m\u001b[1;33m\u001b[0m\u001b[0m\n",
      "\u001b[1;31mStopIteration\u001b[0m: "
     ]
    }
   ],
   "source": [
    "# dunders, magic functions\n",
    "# range\n",
    "class MyIterator:\n",
    "    def __init__(self,n):\n",
    "        self.n = n\n",
    "    def __iter__(self):\n",
    "        return self\n",
    "    def __next__(self):\n",
    "        if self.n == 0:\n",
    "            raise StopIteration\n",
    "        t = self.n\n",
    "        self.n -= 1\n",
    "        return t\n",
    "i = MyIterator(5)\n",
    "print(iter(i)) #__iter__ is called\n",
    "print(next(i)) # __next__ is called\n",
    "print(next(i))\n",
    "print(next(i))\n",
    "print(next(i))\n",
    "print(next(i))\n",
    "print(next(i))"
   ]
  },
  {
   "cell_type": "code",
   "execution_count": 57,
   "metadata": {},
   "outputs": [
    {
     "name": "stdout",
     "output_type": "stream",
     "text": [
      "6\n",
      "5\n",
      "4\n",
      "3\n",
      "2\n",
      "1\n"
     ]
    }
   ],
   "source": [
    "for i in MyIterator(6):\n",
    "    print(i)"
   ]
  },
  {
   "cell_type": "code",
   "execution_count": 63,
   "metadata": {},
   "outputs": [
    {
     "name": "stdout",
     "output_type": "stream",
     "text": [
      "5\n",
      "4\n",
      "3\n",
      "2\n",
      "1\n"
     ]
    },
    {
     "ename": "StopIteration",
     "evalue": "",
     "output_type": "error",
     "traceback": [
      "\u001b[1;31m---------------------------------------------------------------------------\u001b[0m",
      "\u001b[1;31mStopIteration\u001b[0m                             Traceback (most recent call last)",
      "\u001b[1;32m<ipython-input-63-0769ffdb9289>\u001b[0m in \u001b[0;36m<module>\u001b[1;34m\u001b[0m\n\u001b[0;32m     11\u001b[0m \u001b[0mprint\u001b[0m\u001b[1;33m(\u001b[0m\u001b[0mnext\u001b[0m\u001b[1;33m(\u001b[0m\u001b[0mg\u001b[0m\u001b[1;33m)\u001b[0m\u001b[1;33m)\u001b[0m\u001b[1;33m\u001b[0m\u001b[1;33m\u001b[0m\u001b[0m\n\u001b[0;32m     12\u001b[0m \u001b[0mprint\u001b[0m\u001b[1;33m(\u001b[0m\u001b[0mnext\u001b[0m\u001b[1;33m(\u001b[0m\u001b[0mg\u001b[0m\u001b[1;33m)\u001b[0m\u001b[1;33m)\u001b[0m\u001b[1;33m\u001b[0m\u001b[1;33m\u001b[0m\u001b[0m\n\u001b[1;32m---> 13\u001b[1;33m \u001b[0mprint\u001b[0m\u001b[1;33m(\u001b[0m\u001b[0mnext\u001b[0m\u001b[1;33m(\u001b[0m\u001b[0mg\u001b[0m\u001b[1;33m)\u001b[0m\u001b[1;33m)\u001b[0m\u001b[1;33m\u001b[0m\u001b[1;33m\u001b[0m\u001b[0m\n\u001b[0m",
      "\u001b[1;31mStopIteration\u001b[0m: "
     ]
    }
   ],
   "source": [
    "# Generator\n",
    "def my_range(n):\n",
    "    count = n\n",
    "    while count > 0:\n",
    "        yield count # when next is called count value is returned and it's state is stored\n",
    "        count -= 1\n",
    "g = my_range(5)\n",
    "print(next(g))\n",
    "print(next(g))\n",
    "print(next(g))\n",
    "print(next(g))\n",
    "print(next(g))\n",
    "print(next(g))"
   ]
  },
  {
   "cell_type": "code",
   "execution_count": 65,
   "metadata": {},
   "outputs": [
    {
     "data": {
      "text/plain": [
       "generator"
      ]
     },
     "execution_count": 65,
     "metadata": {},
     "output_type": "execute_result"
    }
   ],
   "source": [
    "type(g)"
   ]
  },
  {
   "cell_type": "code",
   "execution_count": 69,
   "metadata": {},
   "outputs": [
    {
     "name": "stdout",
     "output_type": "stream",
     "text": [
      "<generator object <genexpr> at 0x000001F811B37648>\n",
      "0\n",
      "1\n",
      "2\n",
      "3\n",
      "4\n"
     ]
    },
    {
     "ename": "StopIteration",
     "evalue": "",
     "output_type": "error",
     "traceback": [
      "\u001b[1;31m---------------------------------------------------------------------------\u001b[0m",
      "\u001b[1;31mStopIteration\u001b[0m                             Traceback (most recent call last)",
      "\u001b[1;32m<ipython-input-69-20682318038f>\u001b[0m in \u001b[0;36m<module>\u001b[1;34m\u001b[0m\n\u001b[0;32m      6\u001b[0m \u001b[0mprint\u001b[0m\u001b[1;33m(\u001b[0m\u001b[0mnext\u001b[0m\u001b[1;33m(\u001b[0m\u001b[0ml\u001b[0m\u001b[1;33m)\u001b[0m\u001b[1;33m)\u001b[0m\u001b[1;33m\u001b[0m\u001b[1;33m\u001b[0m\u001b[0m\n\u001b[0;32m      7\u001b[0m \u001b[0mprint\u001b[0m\u001b[1;33m(\u001b[0m\u001b[0mnext\u001b[0m\u001b[1;33m(\u001b[0m\u001b[0ml\u001b[0m\u001b[1;33m)\u001b[0m\u001b[1;33m)\u001b[0m\u001b[1;33m\u001b[0m\u001b[1;33m\u001b[0m\u001b[0m\n\u001b[1;32m----> 8\u001b[1;33m \u001b[0mprint\u001b[0m\u001b[1;33m(\u001b[0m\u001b[0mnext\u001b[0m\u001b[1;33m(\u001b[0m\u001b[0ml\u001b[0m\u001b[1;33m)\u001b[0m\u001b[1;33m)\u001b[0m\u001b[1;33m\u001b[0m\u001b[1;33m\u001b[0m\u001b[0m\n\u001b[0m\u001b[0;32m      9\u001b[0m \u001b[0mprint\u001b[0m\u001b[1;33m(\u001b[0m\u001b[0mnext\u001b[0m\u001b[1;33m(\u001b[0m\u001b[0ml\u001b[0m\u001b[1;33m)\u001b[0m\u001b[1;33m)\u001b[0m\u001b[1;33m\u001b[0m\u001b[1;33m\u001b[0m\u001b[0m\n\u001b[0;32m     10\u001b[0m \u001b[0mprint\u001b[0m\u001b[1;33m(\u001b[0m\u001b[0mnext\u001b[0m\u001b[1;33m(\u001b[0m\u001b[0ml\u001b[0m\u001b[1;33m)\u001b[0m\u001b[1;33m)\u001b[0m\u001b[1;33m\u001b[0m\u001b[1;33m\u001b[0m\u001b[0m\n",
      "\u001b[1;31mStopIteration\u001b[0m: "
     ]
    }
   ],
   "source": [
    "l = (i for i in range(5))\n",
    "print(l)\n",
    "print(next(l))\n",
    "print(next(l))\n",
    "print(next(l))\n",
    "print(next(l))\n",
    "print(next(l))\n",
    "print(next(l))\n",
    "print(next(l))\n",
    "print(next(l))\n"
   ]
  },
  {
   "cell_type": "code",
   "execution_count": null,
   "metadata": {},
   "outputs": [],
   "source": []
  }
 ],
 "metadata": {
  "kernelspec": {
   "display_name": "Python 3",
   "language": "python",
   "name": "python3"
  },
  "language_info": {
   "codemirror_mode": {
    "name": "ipython",
    "version": 3
   },
   "file_extension": ".py",
   "mimetype": "text/x-python",
   "name": "python",
   "nbconvert_exporter": "python",
   "pygments_lexer": "ipython3",
   "version": "3.7.4"
  }
 },
 "nbformat": 4,
 "nbformat_minor": 2
}
