{
 "cells": [
  {
   "cell_type": "markdown",
   "metadata": {},
   "source": [
    "<b><br><span style=\"color:#ff8f00;font-size:16px\">What if we want to execute some code when a condition is met?</span></b>"
   ]
  },
  {
   "cell_type": "markdown",
   "metadata": {},
   "source": [
    "<span>what if we want to execute</span>"
   ]
  },
  {
   "cell_type": "raw",
   "metadata": {},
   "source": [
    "#if a number is multiple of 5 then print that number\n",
    "\n",
    "number = 24\n",
    "is_five_multiple = number%5 == 0\n",
    "# some condition\n",
    "print(str(number) + \" is a multiple of 5\")\n",
    "\n"
   ]
  },
  {
   "cell_type": "markdown",
   "metadata": {},
   "source": [
    "<br><strong><span style=\"color:#dd2c00;font-size:23px;\">Conditional Statements</span></strong><br><br>\n",
    "<b><br><span style=\"color:#000;font-size:16px\">if</span></b>\n",
    "<b><br><span style=\"color:#000;font-size:16px\">if, elif, else</span></b>\n",
    "\n",
    "<!-- <span>if keyword runs a block of code only when a condition is met</span><br> -->"
   ]
  },
  {
   "cell_type": "markdown",
   "metadata": {},
   "source": [
    "if,elif and else are keywords<br>\n",
    "An if statement starts with 'if' followed by a condition which when evaluated to True will execute the indented code following the statement."
   ]
  },
  {
   "cell_type": "code",
   "execution_count": 4,
   "metadata": {},
   "outputs": [
    {
     "name": "stdout",
     "output_type": "stream",
     "text": [
      "Battery is low. Please connect the charger\n",
      "Please connect the charger\n",
      "This line is executed always\n"
     ]
    }
   ],
   "source": [
    "# if\n",
    "# if battery is on low, notify user to charge\n",
    "\n",
    "battery = 9\n",
    "\n",
    "if battery <= 20:\n",
    "    print(\"Battery is low. Please connect the charger\")\n",
    "    print(\"Please connect the charger\")\n",
    "\n",
    "print(\"This line is executed always\")"
   ]
  },
  {
   "cell_type": "code",
   "execution_count": 12,
   "metadata": {},
   "outputs": [
    {
     "name": "stdout",
     "output_type": "stream",
     "text": [
      "32 is even\n",
      "This line always executes\n"
     ]
    }
   ],
   "source": [
    "# if else\n",
    "# print if n number is even or odd\n",
    "\n",
    "n = 32\n",
    "\n",
    "if n%2 == 0:\n",
    "    print(str(n) + \" is even\")\n",
    "else:\n",
    "    print(str(n) + \" is odd\")\n",
    "\n",
    "print(\"This line always executes\")"
   ]
  },
  {
   "cell_type": "markdown",
   "metadata": {},
   "source": [
    "<br>elif short for \"else if\". elif should also be followed by a condition to be checked."
   ]
  },
  {
   "cell_type": "code",
   "execution_count": 17,
   "metadata": {},
   "outputs": [
    {
     "name": "stdout",
     "output_type": "stream",
     "text": [
      "Your updated points: 15!\n"
     ]
    }
   ],
   "source": [
    "# if elif else\n",
    "# rating interpretation\n",
    "\n",
    "rating = \"Excellent\"\n",
    "points = 10\n",
    "\n",
    "if rating == \"Excellent\":\n",
    "    points += 5\n",
    "elif rating == \"Good\":\n",
    "    points += 4\n",
    "elif rating == \"Average\":\n",
    "    points += 3\n",
    "elif rating == \"Fair\":\n",
    "    points += 2\n",
    "else:\n",
    "    points += 1\n",
    "print(\"Your updated points: {}!\".format(points))\n"
   ]
  },
  {
   "cell_type": "markdown",
   "metadata": {},
   "source": [
    "<b><span>Following objects considered false</span><br><br></b>\n",
    "constants defined to be false: <code>None and False</code><br>\n",
    "\n",
    "zero of any numeric type: <code>0, 0.0, 0j, Decimal(0), Fraction(0, 1)</code><br>\n",
    "\n",
    "empty sequences and collections: <code>'', (), [], {}, set(), range(0)</code><br>"
   ]
  },
  {
   "cell_type": "code",
   "execution_count": 2,
   "metadata": {},
   "outputs": [],
   "source": [
    "if ():\n",
    "    print(\"executed\")"
   ]
  },
  {
   "cell_type": "markdown",
   "metadata": {},
   "source": [
    "<b><br><span style=\"color:#007FDC;font-size:16px\">Nested if</span></b>"
   ]
  },
  {
   "cell_type": "code",
   "execution_count": 13,
   "metadata": {},
   "outputs": [
    {
     "name": "stdout",
     "output_type": "stream",
     "text": [
      "15 is a multiple of 3 and 5\n"
     ]
    }
   ],
   "source": [
    "a = 15\n",
    "if a%3 == 0:\n",
    "    if a%5 == 0:\n",
    "        print(str(a),\"is a multiple of 3 and 5\")\n",
    "else:\n",
    "    print(\"Not a multiple of 3 and 5\")"
   ]
  },
  {
   "cell_type": "code",
   "execution_count": 44,
   "metadata": {},
   "outputs": [
    {
     "name": "stdout",
     "output_type": "stream",
     "text": [
      "15 is a multiple of 3 and 5\n"
     ]
    }
   ],
   "source": [
    "a = 15\n",
    "if a%3 == 0 and a%5 == 0:\n",
    "    print(str(a),\"is a multiple of 3 and 5\")\n",
    "else:\n",
    "    print(\"Not a multiple of 3 and 5\")"
   ]
  },
  {
   "cell_type": "markdown",
   "metadata": {},
   "source": [
    "<br><strong><span style=\"color:#dd2c00;font-size:23px;\">Loops</span></strong><br><br>\n",
    "<span>Using loops concept we can execute same code more than once. Following are the 2 types of loops avaiable in python </span><br>\n",
    "<b><code>for</code><br></b>\n",
    "<b><code>while</code><br></b>"
   ]
  },
  {
   "cell_type": "markdown",
   "metadata": {},
   "source": [
    "<b><br><span style=\"color:#007FDC;font-size:16px\">for loop</span></b>"
   ]
  },
  {
   "cell_type": "markdown",
   "metadata": {},
   "source": [
    "<br><b><span><code>for</code> loop can be used to iterate over iterable </span></b><br>\n",
    "<code>iterable</code> - an iterable returns one element at a time.<br> Iterables can be a sequence type like strings,lists or tuples or non-sequence types like dictionaries or files"
   ]
  },
  {
   "cell_type": "code",
   "execution_count": 2,
   "metadata": {},
   "outputs": [
    {
     "name": "stdout",
     "output_type": "stream",
     "text": [
      "1 1\n",
      "4 8\n",
      "9 27\n",
      "25 125\n",
      "49 343\n",
      "64 512\n"
     ]
    }
   ],
   "source": [
    "# for loop\n",
    "\n",
    "numbers = [1,2,3,5,7,8]2\n",
    "# example 1\n",
    "for n in numbers:\n",
    "    print(n**2,n**3)\n"
   ]
  },
  {
   "cell_type": "code",
   "execution_count": 8,
   "metadata": {},
   "outputs": [
    {
     "name": "stdout",
     "output_type": "stream",
     "text": [
      "H\n",
      "E\n",
      "L\n",
      "L\n",
      "O\n",
      " \n",
      "W\n",
      "O\n",
      "R\n",
      "L\n",
      "D\n"
     ]
    }
   ],
   "source": [
    "\n",
    "# example 2\n",
    "for char in \"Hello World\":\n",
    "    print(char.upper())\n",
    "# help(print)"
   ]
  },
  {
   "cell_type": "code",
   "execution_count": 12,
   "metadata": {},
   "outputs": [
    {
     "name": "stdout",
     "output_type": "stream",
     "text": [
      "['Ravi', 'Mahesh', 'Prasanna']\n"
     ]
    }
   ],
   "source": [
    "#example 3\n",
    "\n",
    "names = [\"Ravi kumar\",\"Mahesh Arya\",\"Prasanna R\"]\n",
    "\n",
    "first_names = []\n",
    "\n",
    "for name in names:\n",
    "    first_name = name.split(\" \")[0]\n",
    "    first_names.append(first_name)\n",
    "print(first_names)"
   ]
  },
  {
   "cell_type": "markdown",
   "metadata": {},
   "source": [
    "<b><br><span style=\"color:#007FDC;font-size:16px\">Using <code>range()</code> function with for loop</span></b>"
   ]
  },
  {
   "cell_type": "markdown",
   "metadata": {},
   "source": [
    "<span><code>range()</code> is a built-in function used to create an iterable sequence of numbers</span>"
   ]
  },
  {
   "cell_type": "markdown",
   "metadata": {},
   "source": [
    "<span><code>range(start,stop,step)</code> can accept 1 to 3 arguments. All 3 should be integers</span><br>\n",
    "<span><code>start</code> is the first number of the sequence</span><br>\n",
    "<span><code>stop</code> is the one above the last number of the sequence</span><br>\n",
    "<span><code>step</code> is the difference between the numbers in the sequence</span><br>"
   ]
  },
  {
   "cell_type": "code",
   "execution_count": 13,
   "metadata": {},
   "outputs": [
    {
     "name": "stdout",
     "output_type": "stream",
     "text": [
      "0\n",
      "1\n",
      "2\n",
      "3\n"
     ]
    }
   ],
   "source": [
    "# range() with 1 argument defaults to stop\n",
    "# range(4) returns sequence of numbers from 0 to 3(4-1)\n",
    "for n in range(4):\n",
    "    print(n)"
   ]
  },
  {
   "cell_type": "code",
   "execution_count": 14,
   "metadata": {},
   "outputs": [
    {
     "name": "stdout",
     "output_type": "stream",
     "text": [
      "1\n",
      "2\n",
      "3\n",
      "4\n"
     ]
    }
   ],
   "source": [
    "# range() with 2 arguments default to start and stop\n",
    "# range(1,5) returns sequence of numbers from 1 to 4(5-1)\n",
    "for n in range(1,5):\n",
    "    print(n)"
   ]
  },
  {
   "cell_type": "code",
   "execution_count": 55,
   "metadata": {},
   "outputs": [
    {
     "name": "stdout",
     "output_type": "stream",
     "text": [
      "1\n",
      "3\n",
      "5\n",
      "7\n",
      "9\n"
     ]
    }
   ],
   "source": [
    "# range() with 3 arguments\n",
    "# range(1,9,2) returns sequence of numbers from 1 to 8(9-1) seperated by 2\n",
    "\n",
    "for n in range(1,10,2):\n",
    "    print(n)"
   ]
  },
  {
   "cell_type": "markdown",
   "metadata": {},
   "source": [
    "<span><code>range()</code> can be used in creating or modifying a list</span><br>"
   ]
  },
  {
   "cell_type": "code",
   "execution_count": 15,
   "metadata": {},
   "outputs": [
    {
     "name": "stdout",
     "output_type": "stream",
     "text": [
      "['HYDERABAD', 'bangalore', 'mysore', 'ajmer']\n",
      "['HYDERABAD', 'BANGALORE', 'mysore', 'ajmer']\n",
      "['HYDERABAD', 'BANGALORE', 'MYSORE', 'ajmer']\n",
      "['HYDERABAD', 'BANGALORE', 'MYSORE', 'AJMER']\n"
     ]
    }
   ],
   "source": [
    "cities = [\"hyderabad\",\"bangalore\",\"mysore\",\"ajmer\"]\n",
    "for index in range(len(cities)):\n",
    "    cities[index] = cities[index].upper()\n",
    "    print(cities)"
   ]
  },
  {
   "cell_type": "markdown",
   "metadata": {},
   "source": [
    "<b><span>Dictionaries and for loop</span></b><br>"
   ]
  },
  {
   "cell_type": "code",
   "execution_count": 3,
   "metadata": {},
   "outputs": [
    {
     "name": "stdout",
     "output_type": "stream",
     "text": [
      "7th june,1996\n",
      "23 March,2000\n",
      "04 May 1994\n",
      "21 November, 2001\n"
     ]
    }
   ],
   "source": [
    "birthdays = {\n",
    "             \"Rani\":\"7th june,1996\",\n",
    "             \"Mukesh\":\"23 March,2000\",\n",
    "             \"Archana\":\"04 May 1994\",\n",
    "             \"Navya\":\"21 November, 2001\"\n",
    "            }\n",
    "\n",
    "# for name in birthdays:\n",
    "#     print(name)\n",
    "\n",
    "for bday in birthdays.values():\n",
    "    print(bday)"
   ]
  },
  {
   "cell_type": "code",
   "execution_count": 11,
   "metadata": {},
   "outputs": [
    {
     "name": "stdout",
     "output_type": "stream",
     "text": [
      "False\n"
     ]
    }
   ],
   "source": [
    "print('7th june,1996' in birthdays)\n"
   ]
  },
  {
   "cell_type": "code",
   "execution_count": 13,
   "metadata": {},
   "outputs": [
    {
     "name": "stdout",
     "output_type": "stream",
     "text": [
      "Friend : Rani    birthday : 7th june,1996\n",
      "Friend : Mukesh    birthday : 23 March,2000\n",
      "Friend : Archana    birthday : 04 May 1994\n",
      "Friend : Navya    birthday : 21 November, 2001\n"
     ]
    }
   ],
   "source": [
    "for name,birthday in birthdays.items():\n",
    "    print(\"Friend : {}    birthday : {}\".format(name,birthday))"
   ]
  },
  {
   "cell_type": "code",
   "execution_count": 6,
   "metadata": {},
   "outputs": [
    {
     "name": "stdout",
     "output_type": "stream",
     "text": [
      "dict_items([('Rani', '7th june,1996'), ('Mukesh', '23 March,2000'), ('Archana', '04 May 1994'), ('Navya', '21 November, 2001')])\n"
     ]
    }
   ],
   "source": [
    "print(birthdays.items())"
   ]
  },
  {
   "cell_type": "markdown",
   "metadata": {},
   "source": [
    "<b><br><span style=\"color:#007FDC;font-size:16px\">while loop</span></b>"
   ]
  },
  {
   "cell_type": "markdown",
   "metadata": {},
   "source": [
    "<br><b><span><code>while</code> loop is used when number of iterations are indefinite </span></b><br>"
   ]
  },
  {
   "cell_type": "code",
   "execution_count": 53,
   "metadata": {},
   "outputs": [
    {
     "name": "stdout",
     "output_type": "stream",
     "text": [
      "nums: {2, 4, 5, 6, 8, 9, 10, 11}\n",
      "my_nums: [1]\n",
      "\n",
      "nums: {4, 5, 6, 8, 9, 10, 11}\n",
      "my_nums: [1, 2]\n",
      "\n",
      "nums: {5, 6, 8, 9, 10, 11}\n",
      "my_nums: [1, 2, 4]\n",
      "\n",
      "nums: {6, 8, 9, 10, 11}\n",
      "my_nums: [1, 2, 4, 5]\n",
      "\n",
      "nums: {8, 9, 10, 11}\n",
      "my_nums: [1, 2, 4, 5, 6]\n",
      "\n",
      "nums: {9, 10, 11}\n",
      "my_nums: [1, 2, 4, 5, 6, 8]\n",
      "\n",
      "\n",
      "{9, 10, 11}\n",
      "[1, 2, 4, 5, 6, 8]\n"
     ]
    }
   ],
   "source": [
    "#while loops\n",
    "\n",
    "\n",
    "nums = {2,6,8,1,4,9,11,10,5}\n",
    "\n",
    "my_nums = []\n",
    "\n",
    "while sum(my_nums) <= 21:\n",
    "    my_nums.append(nums.pop())\n",
    "    print(\"nums:\",nums)\n",
    "    print(\"my_nums:\",my_nums)\n",
    "    print()\n",
    "print()\n",
    "print(nums)\n",
    "print(my_nums)\n"
   ]
  },
  {
   "cell_type": "code",
   "execution_count": 55,
   "metadata": {},
   "outputs": [
    {
     "name": "stdout",
     "output_type": "stream",
     "text": [
      "0\n",
      "1\n",
      "2\n",
      "3\n",
      "i:4\n"
     ]
    }
   ],
   "source": [
    "n = 3\n",
    "i = 0\n",
    "while i <= n:\n",
    "    print(i)\n",
    "    i += 1\n",
    "print(\"i:\"+str(i))"
   ]
  },
  {
   "cell_type": "markdown",
   "metadata": {},
   "source": [
    "<br><strong><span style=\"color:#dd2c00;font-size:23px;\">Break and Continue</span></strong><br><br>\n",
    "<span>Sometimes we want more control over the loops like to skip an iteration or completely end the loop when a certain condition met</span><br>"
   ]
  },
  {
   "cell_type": "markdown",
   "metadata": {},
   "source": [
    "<span><code>break</code> terminates the loop</span><br>\n",
    "<span><code>continue</code> skip the current iteration of the loop</span><br>\n"
   ]
  },
  {
   "cell_type": "code",
   "execution_count": 22,
   "metadata": {},
   "outputs": [
    {
     "name": "stdout",
     "output_type": "stream",
     "text": [
      "[5, 3, 10, 11]\n"
     ]
    }
   ],
   "source": [
    "# break\n",
    "\n",
    "# sum(hand) should be atleast 25 or should have 1 in hand\n",
    "\n",
    "cards_deck = [3,4,5,2,1,7,11,12,8,11,10]\n",
    "hand = [5,3]\n",
    "\n",
    "while sum(hand) <= 25:\n",
    "    card = cards_deck.pop()\n",
    "    if card == 1:\n",
    "        hand.append(card)\n",
    "        break\n",
    "    else:\n",
    "        hand.append(card)\n",
    "\n",
    "print(hand)\n"
   ]
  },
  {
   "cell_type": "code",
   "execution_count": null,
   "metadata": {},
   "outputs": [],
   "source": [
    "# continue\n",
    "\n",
    "foods = [\"carrot\",\"apple\",\"banana\",\"cabbage\",\"brinjal\",\"spinach\",\"tomato\"]\n",
    "fruits = [\"apple\",\"banana\",\"blueberries\",\"tomato\"]\n",
    "\n",
    "# fruits_found = 0\n",
    "\n",
    "# for food in foods:\n",
    "#     if food in fruits:\n",
    "#         fruits_found += 1\n",
    "#     else:\n",
    "#         continue\n",
    "\n",
    "# print(\"Total fruits found:\" + str(fruits_found))\n",
    "\n",
    "fruits_found = 0\n",
    "i = 0\n",
    "while i < len(foods):\n",
    "    if foods[i] in fruits:\n",
    "        fruits_found += 1\n",
    "        i += 1\n",
    "    \n",
    "print(fruits_found)\n",
    "    "
   ]
  },
  {
   "cell_type": "markdown",
   "metadata": {},
   "source": [
    "<br><strong><span style=\"color:#dd2c00;font-size:23px;\">List Comprehensions</span></strong><br><br>\n",
    "<span>List comprehension prvoides a precise way to create lists</span><br>\n"
   ]
  },
  {
   "cell_type": "code",
   "execution_count": 107,
   "metadata": {},
   "outputs": [
    {
     "name": "stdout",
     "output_type": "stream",
     "text": [
      "[1, 8, 27, 64, 125]\n"
     ]
    }
   ],
   "source": [
    "# example 1\n",
    "# create list of cubes of number 1 to 5\n",
    "\n",
    "cubes = [x**3 for x in range(1,6)]\n",
    "print(cubes)"
   ]
  },
  {
   "cell_type": "code",
   "execution_count": 109,
   "metadata": {},
   "outputs": [
    {
     "name": "stdout",
     "output_type": "stream",
     "text": [
      "['Sony', 'Ford', 'Audi', 'Apple', 'Google']\n"
     ]
    }
   ],
   "source": [
    "# example 2\n",
    "brands = [\"sony\",\"ford\",\"audi\",\"apple\",\"google\"]\n",
    "brands_cap = [brand.title() for brand in brands]\n",
    "print(brands_cap)"
   ]
  },
  {
   "cell_type": "markdown",
   "metadata": {},
   "source": [
    "<b><br><span style=\"color:#007FDC;font-size:16px\">Conditional in List comprehensions</span></b>"
   ]
  },
  {
   "cell_type": "markdown",
   "metadata": {},
   "source": [
    "<b><span>if in list comprehensions </span></b><br>"
   ]
  },
  {
   "cell_type": "code",
   "execution_count": 114,
   "metadata": {},
   "outputs": [
    {
     "name": "stdout",
     "output_type": "stream",
     "text": [
      "[1, 9, 25, 49]\n"
     ]
    }
   ],
   "source": [
    "# example 1\n",
    "\n",
    "odd_squares = [x**2 for x in range(8) if x%2 != 0]\n",
    "print(odd_squares)"
   ]
  },
  {
   "cell_type": "code",
   "execution_count": 117,
   "metadata": {},
   "outputs": [
    {
     "name": "stdout",
     "output_type": "stream",
     "text": [
      "['Hockey', 'Carrom']\n"
     ]
    }
   ],
   "source": [
    "# example 2\n",
    "\n",
    "games = [\"chess\",\"Cricket\",\"volleyball\",\"Hockey\",\"Football\",\"Carrom\",\"Kabaddi\"]\n",
    "\n",
    "my_games = [game for game in games if game.istitle() and len(game) <= 6]\n",
    "print(my_games)\n"
   ]
  },
  {
   "cell_type": "markdown",
   "metadata": {},
   "source": [
    "<b><span>if..else in list comprehensions </span></b><br>"
   ]
  },
  {
   "cell_type": "code",
   "execution_count": 2,
   "metadata": {},
   "outputs": [
    {
     "name": "stdout",
     "output_type": "stream",
     "text": [
      "[4, 4, 16, 16, 36, 36, 64, 64, 100]\n"
     ]
    },
    {
     "data": {
      "text/plain": [
       "['__add__',\n",
       " '__class__',\n",
       " '__contains__',\n",
       " '__delattr__',\n",
       " '__dir__',\n",
       " '__doc__',\n",
       " '__eq__',\n",
       " '__format__',\n",
       " '__ge__',\n",
       " '__getattribute__',\n",
       " '__getitem__',\n",
       " '__getnewargs__',\n",
       " '__gt__',\n",
       " '__hash__',\n",
       " '__init__',\n",
       " '__init_subclass__',\n",
       " '__iter__',\n",
       " '__le__',\n",
       " '__len__',\n",
       " '__lt__',\n",
       " '__mod__',\n",
       " '__mul__',\n",
       " '__ne__',\n",
       " '__new__',\n",
       " '__reduce__',\n",
       " '__reduce_ex__',\n",
       " '__repr__',\n",
       " '__rmod__',\n",
       " '__rmul__',\n",
       " '__setattr__',\n",
       " '__sizeof__',\n",
       " '__str__',\n",
       " '__subclasshook__',\n",
       " 'capitalize',\n",
       " 'casefold',\n",
       " 'center',\n",
       " 'count',\n",
       " 'encode',\n",
       " 'endswith',\n",
       " 'expandtabs',\n",
       " 'find',\n",
       " 'format',\n",
       " 'format_map',\n",
       " 'index',\n",
       " 'isalnum',\n",
       " 'isalpha',\n",
       " 'isascii',\n",
       " 'isdecimal',\n",
       " 'isdigit',\n",
       " 'isidentifier',\n",
       " 'islower',\n",
       " 'isnumeric',\n",
       " 'isprintable',\n",
       " 'isspace',\n",
       " 'istitle',\n",
       " 'isupper',\n",
       " 'join',\n",
       " 'ljust',\n",
       " 'lower',\n",
       " 'lstrip',\n",
       " 'maketrans',\n",
       " 'partition',\n",
       " 'replace',\n",
       " 'rfind',\n",
       " 'rindex',\n",
       " 'rjust',\n",
       " 'rpartition',\n",
       " 'rsplit',\n",
       " 'rstrip',\n",
       " 'split',\n",
       " 'splitlines',\n",
       " 'startswith',\n",
       " 'strip',\n",
       " 'swapcase',\n",
       " 'title',\n",
       " 'translate',\n",
       " 'upper',\n",
       " 'zfill']"
      ]
     },
     "execution_count": 2,
     "metadata": {},
     "output_type": "execute_result"
    }
   ],
   "source": [
    "# example 1\n",
    "\n",
    "even_squares = [x**2 if x%2 == 0 else (x+1)**2 for x in range(1,10)]\n",
    "print(even_squares)\n",
    "dir(str)"
   ]
  }
 ],
 "metadata": {
  "kernelspec": {
   "display_name": "Python 3",
   "language": "python",
   "name": "python3"
  },
  "language_info": {
   "codemirror_mode": {
    "name": "ipython",
    "version": 3
   },
   "file_extension": ".py",
   "mimetype": "text/x-python",
   "name": "python",
   "nbconvert_exporter": "python",
   "pygments_lexer": "ipython3",
   "version": "3.7.4"
  }
 },
 "nbformat": 4,
 "nbformat_minor": 2
}
