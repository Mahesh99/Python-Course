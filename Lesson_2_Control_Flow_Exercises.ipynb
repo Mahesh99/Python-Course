{
 "cells": [
  {
   "cell_type": "code",
   "execution_count": 22,
   "metadata": {},
   "outputs": [
    {
     "name": "stdout",
     "output_type": "stream",
     "text": [
      "There is 'z'.\n"
     ]
    }
   ],
   "source": [
    "# exercise 1\n",
    "\n",
    "# complete if statement to\n",
    "# let the print statement execute when there is \"z\" in the my_string\n",
    "\n",
    "my_string = \"Phonez\"\n",
    "print(\"There is 'z'.\")\n"
   ]
  },
  {
   "cell_type": "code",
   "execution_count": 5,
   "metadata": {},
   "outputs": [],
   "source": [
    "# exercise 2\n",
    "\n",
    "# using if statement to print True if num is odd\n",
    "\n",
    "num = 23\n",
    "\n",
    "# your code here\n",
    "\n",
    "\n"
   ]
  },
  {
   "cell_type": "code",
   "execution_count": 11,
   "metadata": {},
   "outputs": [],
   "source": [
    "# exercise 3 \n",
    "\n",
    "# USERNAME VALIDATION\n",
    "\n",
    "# if the username contains special characters others than alphabets and numbers\n",
    "# print \"Shoudn't contain special characters\"\n",
    "# also test by changing the username to 'surya234_'\n",
    "\n",
    "username = \"surya2342_\"\n",
    "if not username.isalnum():\n",
    "    print(\"Shoudn't contain special characters\")\n",
    "# dir(str)\n"
   ]
  },
  {
   "cell_type": "code",
   "execution_count": null,
   "metadata": {},
   "outputs": [],
   "source": [
    "# exercise 4\n",
    "\n",
    "# GUESSS THE NUMBER\n",
    "\n",
    "# there is a given_num variable with some random integer value\n",
    "# Take a number as input from the user \n",
    "# print \"You guessed right!!\" if he enters the same number\n",
    "# else print \"You guessed wrong. Try again!!\"\n",
    "import random\n",
    "\n",
    "given_num = random.randrange(20)\n",
    "print(given_num)\n",
    "\n",
    "\n"
   ]
  },
  {
   "cell_type": "code",
   "execution_count": null,
   "metadata": {},
   "outputs": [],
   "source": [
    "# exercise 5\n",
    "\n",
    "# India scored 325 runs in 47 overs\n",
    "ind_score = 325\n",
    "# australia scored 210+114 runs in 46 overs\n",
    "aus_score = 324\n",
    "ind_run_rate = ind_score/47\n",
    "aus_run_rate = aus_score/46\n",
    "\n",
    "# print the country name and score of the winning team\n",
    "# e.g.: India has won with 1 runs\n",
    "\n",
    "\n"
   ]
  },
  {
   "cell_type": "code",
   "execution_count": null,
   "metadata": {},
   "outputs": [],
   "source": [
    "# exercise 6\n",
    "\n",
    "# print the greatest of 3 numbers. Take input from the user(STDIN)\n",
    "# e.g. if a=3,b=6,c=2 then print \"6 is the greatest\"\n",
    "\n"
   ]
  },
  {
   "cell_type": "code",
   "execution_count": null,
   "metadata": {},
   "outputs": [],
   "source": [
    "# exercise 7\n",
    "\n",
    "# print the students grade given the marks of all the subjects\n",
    "# Overall percentage(above)   Grade\n",
    "#     85                        O (Outstanding)\n",
    "#     70                        A\n",
    "#     60                        B\n",
    "#     50                        C\n",
    "#  below 35                    Fail\n",
    "\n",
    "\n",
    "\n"
   ]
  },
  {
   "cell_type": "code",
   "execution_count": 1,
   "metadata": {},
   "outputs": [],
   "source": [
    "# exercise 8\n",
    "\n",
    "# take the input from the user and add it to the list if it's a number by converting it into int or float\n",
    "# and print the list\n",
    "numbers = []\n",
    "\n",
    "    \n"
   ]
  },
  {
   "cell_type": "code",
   "execution_count": null,
   "metadata": {},
   "outputs": [],
   "source": [
    "\n",
    "# exercise 9\n",
    "\n",
    "# write a script which takes 3 inputs name of the employee, age and salary\n",
    "# and add it to list employees as dictionary\n",
    "\n",
    "employees = []\n",
    "\n",
    "\n",
    "\n",
    "print(employees)\n",
    "\n",
    "\n"
   ]
  },
  {
   "cell_type": "code",
   "execution_count": null,
   "metadata": {},
   "outputs": [],
   "source": [
    "# exercise 10\n",
    "\n",
    "# Read the count of the employees as input and save it in n\n",
    "# Then read each employee details(name,age and salary) for n employees from user\n",
    "# and print average of their salaries\n",
    "employees = []\n",
    "\n",
    "\n",
    "\n"
   ]
  },
  {
   "cell_type": "code",
   "execution_count": 2,
   "metadata": {},
   "outputs": [],
   "source": [
    "# exercise 11\n",
    "\n",
    "# Write script to find out whether a user input number is Armstrong or Not\n",
    "# 153 is armstrong\n",
    "# if 1 cube + 5 cube + 3 cube <==> 1+125+27 = 153\n",
    "\n",
    "# output:1\n",
    "# Enter a number:153\n",
    "# 153 is an armstrong\n",
    "# output:2\n",
    "# Enter a number:121\n",
    "# 121 is not an armstrong\n",
    "\n",
    "# for i in 'hello':\n",
    "#     print(i)\n",
    "\n"
   ]
  },
  {
   "cell_type": "code",
   "execution_count": null,
   "metadata": {},
   "outputs": [],
   "source": [
    "# exercise 12\n",
    "\n",
    "# write a program to print n fibonocci numbers using for loop\n",
    "\n"
   ]
  },
  {
   "cell_type": "code",
   "execution_count": null,
   "metadata": {},
   "outputs": [],
   "source": [
    "# exercise 13\n",
    "\n",
    "# write a program to print n fibonocci numbers using while loop\n",
    "# 1,1,2,3,5,8,13,21,\n",
    "#         a b  \n",
    "n = int(input(\"Enter a number:\"))\n",
    "\n",
    "\n"
   ]
  },
  {
   "cell_type": "code",
   "execution_count": null,
   "metadata": {},
   "outputs": [],
   "source": [
    "# exercise 14\n",
    "\n",
    "# write a script to print if an input number is palindrome or not\n",
    "# print(dir(\"\"))\n",
    "n = input(\"Enter your num:\")\n",
    "#madam\n",
    "#malayalam\n",
    "#121\n",
    "\n"
   ]
  },
  {
   "cell_type": "code",
   "execution_count": null,
   "metadata": {},
   "outputs": [],
   "source": [
    "# exercise 15\n",
    "\n",
    "# Complete GUESS THE NUMBER\n",
    "# When the user input is\n",
    "# - less than the given_num print \"less than given number\"\n",
    "# - greater than given_num print \"greater than given number\"\n",
    "# - same as given_num print \"You guessed right!!\"\n",
    "# run the loop as long as user don't get the answer correct\n",
    "\n"
   ]
  },
  {
   "cell_type": "code",
   "execution_count": null,
   "metadata": {},
   "outputs": [],
   "source": [
    "# exercise 16\n",
    "\n",
    "# write a script to check if an input number is prime number\n",
    "# And print \"<num> is prime\" if number is prime\n",
    "# otherwise print \"<num> is not prime\"\n",
    "\n",
    "# a number whose factors are 1 and itself\n",
    "# n%i==0  where i = 2 to n-1\n",
    "\n",
    "is_prime = True\n",
    "n = int(input(\"Enter number:\"))\n"
   ]
  },
  {
   "cell_type": "code",
   "execution_count": null,
   "metadata": {},
   "outputs": [],
   "source": [
    "# exercise \n",
    "\n",
    "# write script to print first n odd numbers using for loop\n",
    "\n",
    "n = int(input())\n"
   ]
  },
  {
   "cell_type": "code",
   "execution_count": 7,
   "metadata": {},
   "outputs": [
    {
     "name": "stdout",
     "output_type": "stream",
     "text": [
      "64666.666666666664\n"
     ]
    }
   ],
   "source": [
    "# exercise\n",
    "\n",
    "# Q1: write script to print salaries of all the employeess\n",
    "# e.g: \"Sravan's salary is 30000\"\n",
    "\n",
    "# Q2: write script to print average salary of all employees\n",
    "# output: \"Average salary of all employees is 31500\"\n",
    "\n",
    "emps = [{\n",
    "                \"name\":\"Sravan\",\n",
    "                \"age\":25,\n",
    "                \"salary\":30000\n",
    "             },\n",
    "             {\n",
    "                \"name\":\"Rahul\",\n",
    "                \"age\":27,\n",
    "                \"salary\":32000\n",
    "             },\n",
    "             {\n",
    "                \"name\":\"Keerthana\",\n",
    "                \"age\":23,\n",
    "                \"salary\":35000\n",
    "             }\n",
    "            ]\n",
    "\n",
    "\n",
    "\n"
   ]
  },
  {
   "cell_type": "code",
   "execution_count": null,
   "metadata": {},
   "outputs": [],
   "source": [
    "# exercise \n",
    "\n",
    "# write script to create a list of squares for first n number using list comprehensions\n",
    "\n",
    "n = int(input())\n",
    "squares = \n",
    "\n",
    "\n",
    "\n",
    "print(squares)"
   ]
  },
  {
   "cell_type": "code",
   "execution_count": 21,
   "metadata": {},
   "outputs": [
    {
     "name": "stdout",
     "output_type": "stream",
     "text": [
      "5\n",
      "[1, 9, 25]\n"
     ]
    }
   ],
   "source": [
    "# exercise \n",
    "\n",
    "# write script to create a list of squares for first n odd number using list comprehensions\n",
    "\n",
    "n = int(input())\n",
    "\n",
    "print()"
   ]
  },
  {
   "cell_type": "code",
   "execution_count": null,
   "metadata": {},
   "outputs": [],
   "source": [
    "# exercise \n",
    "\n",
    "# write script to create a list of squares for first n prime number using list comprehensions\n",
    "\n",
    "\n",
    "n = int(input())\n",
    "nums = []\n",
    "\n",
    "\n",
    "\n",
    "print(odd_squares)"
   ]
  },
  {
   "cell_type": "code",
   "execution_count": null,
   "metadata": {},
   "outputs": [],
   "source": [
    "# exercise\n",
    "\n",
    "# write script to create list using list comprehension with reversed case(uppercase to lowercase and viceversa)\n",
    "# e.g:\"red\" should become \"RED\" and \"GREEN\" should become \"green\"\n",
    "colors = [\"red\",\"blue\",\"GREEN\",\"white\",\"YELLOW\"]\n",
    "\n",
    "\n"
   ]
  },
  {
   "cell_type": "code",
   "execution_count": 1,
   "metadata": {},
   "outputs": [
    {
     "name": "stdout",
     "output_type": "stream",
     "text": [
      "[0, 0, 1, 0, 0, 1, 0, 1, 2, 0, 0, 1, 0, 1, 2, 0, 1, 2, 3]\n"
     ]
    }
   ],
   "source": [
    "print([k for l in [3,4,5] for m in range(l) for k in range(m)])\n",
    "l = 3\n",
    "k = 0,1,2"
   ]
  },
  {
   "cell_type": "code",
   "execution_count": 3,
   "metadata": {},
   "outputs": [
    {
     "name": "stdout",
     "output_type": "stream",
     "text": [
      "Enter num:ds\n"
     ]
    },
    {
     "ename": "ValueError",
     "evalue": "invalid literal for int() with base 10: 'ds'",
     "output_type": "error",
     "traceback": [
      "\u001b[1;31m------------------------------------------------------------------\u001b[0m",
      "\u001b[1;31mValueError\u001b[0m                       Traceback (most recent call last)",
      "\u001b[1;32m<ipython-input-3-4c7faf8abc53>\u001b[0m in \u001b[0;36m<module>\u001b[1;34m\u001b[0m\n\u001b[0;32m     12\u001b[0m \u001b[0mn\u001b[0m \u001b[1;33m=\u001b[0m \u001b[1;36m0\u001b[0m\u001b[1;33m\u001b[0m\u001b[1;33m\u001b[0m\u001b[0m\n\u001b[0;32m     13\u001b[0m \u001b[1;32mwhile\u001b[0m \u001b[0mn\u001b[0m \u001b[1;33m!=\u001b[0m \u001b[0mgiven_num\u001b[0m\u001b[1;33m:\u001b[0m\u001b[1;33m\u001b[0m\u001b[1;33m\u001b[0m\u001b[0m\n\u001b[1;32m---> 14\u001b[1;33m     \u001b[0mn\u001b[0m \u001b[1;33m=\u001b[0m \u001b[0mint\u001b[0m\u001b[1;33m(\u001b[0m\u001b[0minput\u001b[0m\u001b[1;33m(\u001b[0m\u001b[1;34m\"Enter num:\"\u001b[0m\u001b[1;33m)\u001b[0m\u001b[1;33m)\u001b[0m\u001b[1;33m\u001b[0m\u001b[1;33m\u001b[0m\u001b[0m\n\u001b[0m\u001b[0;32m     15\u001b[0m     \u001b[1;32mif\u001b[0m \u001b[0mn\u001b[0m \u001b[1;33m==\u001b[0m \u001b[0mgiven_num\u001b[0m\u001b[1;33m:\u001b[0m\u001b[1;33m\u001b[0m\u001b[1;33m\u001b[0m\u001b[0m\n\u001b[0;32m     16\u001b[0m         \u001b[0mprint\u001b[0m\u001b[1;33m(\u001b[0m\u001b[1;34m\"You guessed right!!\"\u001b[0m\u001b[1;33m)\u001b[0m\u001b[1;33m\u001b[0m\u001b[1;33m\u001b[0m\u001b[0m\n",
      "\u001b[1;31mValueError\u001b[0m: invalid literal for int() with base 10: 'ds'"
     ]
    }
   ],
   "source": [
    "# Daily Exercise\n",
    "\n",
    "# modify GUESS THE NUMBER script to work even when user inputs values other than number(like \"hey\" or \"sdf4\" or \"44$\"\")\n",
    "# by printing \"Please enter a valid number\"\n",
    "#\n",
    "# OUTPUT:\n",
    "# Enter a number:hey\n",
    "# Please enter a valid num\n",
    "# Enter a number:32\n",
    "# You guessed right!!\n",
    "\n",
    "given_num = 32\n",
    "\n"
   ]
  },
  {
   "cell_type": "code",
   "execution_count": 1,
   "metadata": {},
   "outputs": [
    {
     "ename": "SyntaxError",
     "evalue": "unexpected EOF while parsing (<ipython-input-1-ddc97324c414>, line 20)",
     "output_type": "error",
     "traceback": [
      "\u001b[1;36m  File \u001b[1;32m\"<ipython-input-1-ddc97324c414>\"\u001b[1;36m, line \u001b[1;32m20\u001b[0m\n\u001b[1;33m    \u001b[0m\n\u001b[1;37m    ^\u001b[0m\n\u001b[1;31mSyntaxError\u001b[0m\u001b[1;31m:\u001b[0m unexpected EOF while parsing\n"
     ]
    }
   ],
   "source": [
    "# Daily Exercise\n",
    "\n",
    "# write script to print following pattern\n",
    "# Output: when input value is 5 it should print below 5 lines\n",
    "#         1\n",
    "#       1 1\n",
    "#     1 1 1\n",
    "#   1 1 1 1\n",
    "# 1 1 1 1 1 \n",
    "\n",
    "n = input(\"Enter number:\")\n",
    "for i in range(1,n+1):\n",
    "    # two loops are required to print that pattern\n",
    "    \n",
    "    # one loop to print spaces \n",
    "    # spaces to be printed in each lines decreases linearly as we go down\n",
    "    \n",
    "    # another to print 1's\n",
    "    # 1's to be printed in each lines inceases linearly as we go down\n",
    "    "
   ]
  },
  {
   "cell_type": "code",
   "execution_count": 2,
   "metadata": {},
   "outputs": [],
   "source": [
    "# Daily exercise\n",
    "\n",
    "# write script to print if a user inputted number is fibonocci number or not\n",
    "# Output:\n",
    "\n",
    "# Test case 1:\n",
    "# Enter number: 4\n",
    "# 4 is not a fibonocci number\n",
    "# Test case 2:\n",
    "# Enter number: 8\n",
    "# 8 is a fibonocci number\n",
    "\n",
    "# \n",
    "\n",
    "\n"
   ]
  },
  {
   "cell_type": "code",
   "execution_count": 32,
   "metadata": {},
   "outputs": [
    {
     "name": "stdout",
     "output_type": "stream",
     "text": [
      "zyx25\n",
      "24\n",
      "23\n",
      "22\n",
      "21\n",
      "20\n",
      "19\n",
      "18\n",
      "17\n",
      "16\n",
      "15\n",
      "14\n",
      "13\n",
      "12\n",
      "11\n",
      "10\n",
      "9\n",
      "8\n",
      "7\n",
      "6\n",
      "5\n",
      "4\n",
      "3\n",
      "2\n",
      "1\n",
      "0\n",
      "zyxwvutsrqponmlkjihgfedcbazyxwvutsrqponmlkjihgfedcba\n"
     ]
    }
   ],
   "source": [
    "# Daily exercise \n",
    "\n",
    "# write script to encode a user inputted string. Directions as follows\n",
    "# eg. \"hey\" -> \"svb\" \n",
    "# explanation: \n",
    "# alphabetical position of h is 8 so in reverse alphabetical order (z-a) seventh letter is taken that is s\n",
    "# alphabetical position of e is 5 so from end 5th letter v is taken\n",
    "# similary for b from the\n",
    "\n",
    "# s = 'abcdefghijklmnopqrstuvwxyz'\n",
    "# print(ord('a'))\n",
    "# print(chr(97))\n",
    "k = 'abcdefghijklmnopqrstuvwxyz'\n",
    "l = 'zyxwvutsrqponmlkjihgfedcba'\n",
    "\n",
    "word = 'abc'\n",
    "for n in word:\n",
    "    \n",
    "    index = k.index(n)\n",
    "    outp = l[index]\n",
    "    print(outp,end=\"\")\n",
    "# o = []\n",
    "\n",
    "for i in k:\n",
    "    o.append(chr(219-ord(i)))\n",
    "    print(122-ord(i))\n",
    "print(\"\".join(o))"
   ]
  },
  {
   "cell_type": "code",
   "execution_count": 30,
   "metadata": {},
   "outputs": [
    {
     "name": "stdout",
     "output_type": "stream",
     "text": [
      "Help on built-in function print in module builtins:\n",
      "\n",
      "print(...)\n",
      "    print(value, ..., sep=' ', end='\\n', file=sys.stdout, flush=False)\n",
      "    \n",
      "    Prints the values to a stream, or to sys.stdout by default.\n",
      "    Optional keyword arguments:\n",
      "    file:  a file-like object (stream); defaults to the current sys.stdout.\n",
      "    sep:   string inserted between values, default a space.\n",
      "    end:   string appended after the last value, default a newline.\n",
      "    flush: whether to forcibly flush the stream.\n",
      "\n"
     ]
    }
   ],
   "source": [
    "print(\"hello\",12)\n",
    "print(\"hello\"+str(12)+end)\n",
    "help(print)"
   ]
  },
  {
   "cell_type": "code",
   "execution_count": 18,
   "metadata": {},
   "outputs": [
    {
     "name": "stdout",
     "output_type": "stream",
     "text": [
      "{0: 1}\n"
     ]
    }
   ],
   "source": []
  },
  {
   "cell_type": "code",
   "execution_count": 20,
   "metadata": {},
   "outputs": [
    {
     "name": "stdout",
     "output_type": "stream",
     "text": [
      "97\n",
      "a\n"
     ]
    }
   ],
   "source": [
    "print(ord('a'))\n",
    "print(chr(97))"
   ]
  }
 ],
 "metadata": {
  "kernelspec": {
   "display_name": "Python 3",
   "language": "python",
   "name": "python3"
  },
  "language_info": {
   "codemirror_mode": {
    "name": "ipython",
    "version": 3
   },
   "file_extension": ".py",
   "mimetype": "text/x-python",
   "name": "python",
   "nbconvert_exporter": "python",
   "pygments_lexer": "ipython3",
   "version": "3.7.4"
  }
 },
 "nbformat": 4,
 "nbformat_minor": 2
}
