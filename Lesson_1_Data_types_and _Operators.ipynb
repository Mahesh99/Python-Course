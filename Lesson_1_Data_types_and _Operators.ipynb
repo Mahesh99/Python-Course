{
 "cells": [
  {
   "cell_type": "code",
   "execution_count": 1,
   "metadata": {
    "scrolled": false
   },
   "outputs": [
    {
     "name": "stdout",
     "output_type": "stream",
     "text": [
      "15\n"
     ]
    }
   ],
   "source": [
    "#print() is a built-in function \n",
    "\n",
    "print(2+13)"
   ]
  },
  {
   "cell_type": "code",
   "execution_count": null,
   "metadata": {},
   "outputs": [],
   "source": [
    "#Datatypes and Operators"
   ]
  },
  {
   "cell_type": "markdown",
   "metadata": {},
   "source": [
    "<br><strong><span style=\"color:#dd2c00;font-size:23px;\">Arithmetic Operators</span></strong><br><br>\n",
    "<span>+      --    addition</span><br>\n",
    "<span>-       --    substraction</span><br>\n",
    "<span>*       --    multiplication</span><br>\n",
    "<span>/       --    division</span><br>\n",
    "<span>%     --    modulus</span><br>\n",
    "<span>//      --    floor division</span><br>\n",
    "<span>**     --    exponentiation</span><br>"
   ]
  },
  {
   "cell_type": "code",
   "execution_count": 5,
   "metadata": {
    "scrolled": true
   },
   "outputs": [
    {
     "name": "stdout",
     "output_type": "stream",
     "text": [
      "6\n"
     ]
    }
   ],
   "source": [
    "print(4+2)"
   ]
  },
  {
   "cell_type": "code",
   "execution_count": 4,
   "metadata": {},
   "outputs": [
    {
     "name": "stdout",
     "output_type": "stream",
     "text": [
      "2\n"
     ]
    }
   ],
   "source": [
    "print(4-2)"
   ]
  },
  {
   "cell_type": "code",
   "execution_count": 5,
   "metadata": {},
   "outputs": [
    {
     "name": "stdout",
     "output_type": "stream",
     "text": [
      "8\n"
     ]
    }
   ],
   "source": [
    "print(4*2)"
   ]
  },
  {
   "cell_type": "code",
   "execution_count": 12,
   "metadata": {},
   "outputs": [
    {
     "name": "stdout",
     "output_type": "stream",
     "text": [
      "2.5\n"
     ]
    }
   ],
   "source": [
    "print(5/2)"
   ]
  },
  {
   "cell_type": "code",
   "execution_count": 11,
   "metadata": {},
   "outputs": [
    {
     "name": "stdout",
     "output_type": "stream",
     "text": [
      "1\n",
      "0\n"
     ]
    }
   ],
   "source": [
    "# % returns reminder\n",
    "print(7%2)\n",
    "print(8%2)"
   ]
  },
  {
   "cell_type": "code",
   "execution_count": 13,
   "metadata": {},
   "outputs": [
    {
     "name": "stdout",
     "output_type": "stream",
     "text": [
      "2\n",
      "3\n",
      "-4\n"
     ]
    }
   ],
   "source": [
    "# returns the largest integer less than the result after division \n",
    "print(4//2)\n",
    "print(7//2) #3.5\n",
    "print(-7//2)"
   ]
  },
  {
   "cell_type": "code",
   "execution_count": 14,
   "metadata": {},
   "outputs": [
    {
     "name": "stdout",
     "output_type": "stream",
     "text": [
      "64\n"
     ]
    }
   ],
   "source": [
    "print(4**3)"
   ]
  },
  {
   "cell_type": "code",
   "execution_count": 10,
   "metadata": {},
   "outputs": [
    {
     "name": "stdout",
     "output_type": "stream",
     "text": [
      "13\n"
     ]
    }
   ],
   "source": [
    "print(2+3+4*2)"
   ]
  },
  {
   "cell_type": "code",
   "execution_count": null,
   "metadata": {
    "scrolled": true
   },
   "outputs": [],
   "source": [
    "#to make addition happen first add parenthesis around them\n",
    "print((2+3+4)*2)"
   ]
  },
  {
   "cell_type": "markdown",
   "metadata": {},
   "source": [
    "<br><strong><span style=\"color:#dd2c00;font-size:23px;\">Variable</span></strong><br><br>\n",
    "<span>a name for the value</span><br>"
   ]
  },
  {
   "cell_type": "code",
   "execution_count": 10,
   "metadata": {},
   "outputs": [
    {
     "name": "stdout",
     "output_type": "stream",
     "text": [
      "11520\n"
     ]
    }
   ],
   "source": [
    "x = 240\n",
    "y = 48\n",
    "z = x * y\n",
    "print(z)"
   ]
  },
  {
   "cell_type": "markdown",
   "metadata": {},
   "source": [
    "<b><br><span style=\"color:#007FDC;font-size:16px\">Variables naming rules</span></b>\n",
    "1. It should start only with letters(a-z,A-Z) or underscore( _ ). Can have numbers in it\n",
    "2. It should not be a python reserved word(or keyword)(https://docs.python.org/2.5/ref/keywords.html)\n",
    "3. It is always good to name a variable in snake_case"
   ]
  },
  {
   "cell_type": "code",
   "execution_count": 7,
   "metadata": {},
   "outputs": [],
   "source": [
    "print = 10\n",
    "del print"
   ]
  },
  {
   "cell_type": "code",
   "execution_count": 11,
   "metadata": {},
   "outputs": [
    {
     "name": "stdout",
     "output_type": "stream",
     "text": [
      "240\n"
     ]
    }
   ],
   "source": [
    "print(x)"
   ]
  },
  {
   "cell_type": "code",
   "execution_count": null,
   "metadata": {},
   "outputs": [],
   "source": [
    "\n",
    "cricket_score = 100\n",
    "cricketscore = 100\n",
    "CricketScore = 100\n",
    "cs = 100\n",
    "c =100"
   ]
  },
  {
   "cell_type": "code",
   "execution_count": null,
   "metadata": {},
   "outputs": [],
   "source": [
    "#Allowed variable names\n",
    "random_var_name = 1\n",
    "name123 = 12\n",
    "_name = 23"
   ]
  },
  {
   "cell_type": "code",
   "execution_count": 12,
   "metadata": {},
   "outputs": [
    {
     "ename": "SyntaxError",
     "evalue": "invalid token (<ipython-input-12-c18aac613fb8>, line 2)",
     "output_type": "error",
     "traceback": [
      "\u001b[1;36m  File \u001b[1;32m\"<ipython-input-12-c18aac613fb8>\"\u001b[1;36m, line \u001b[1;32m2\u001b[0m\n\u001b[1;33m    2_var = 1\u001b[0m\n\u001b[1;37m     ^\u001b[0m\n\u001b[1;31mSyntaxError\u001b[0m\u001b[1;31m:\u001b[0m invalid token\n"
     ]
    }
   ],
   "source": [
    "#Variables not allowed. Will get an error\n",
    "2_var = 1\n",
    "else = 34"
   ]
  },
  {
   "cell_type": "code",
   "execution_count": 19,
   "metadata": {
    "scrolled": true
   },
   "outputs": [
    {
     "name": "stdout",
     "output_type": "stream",
     "text": [
      "5.0\n"
     ]
    }
   ],
   "source": [
    "match_score = 247\n",
    "overs = 48\n",
    "run_rate = match_score / overs\n",
    "print(run_rate)"
   ]
  },
  {
   "cell_type": "code",
   "execution_count": null,
   "metadata": {},
   "outputs": [],
   "source": [
    "\n",
    "match_score += 15 #match_score = match_score + 15\n",
    "overs += 1        #overs = overs + 1\n",
    "print(match_score)"
   ]
  },
  {
   "cell_type": "markdown",
   "metadata": {},
   "source": [
    "<br><strong><span style=\"color:#dd2c00;font-size:23px;\">Assignment Operators</span></strong><br><br>\n",
    "=<br>\n",
    "+=<br>\n",
    "-=<br>\n",
    "\\*=<br>\n",
    "/=<br>\n",
    "%=<br>\n",
    "//=<br>\n",
    "**=<br>"
   ]
  },
  {
   "cell_type": "code",
   "execution_count": null,
   "metadata": {},
   "outputs": [],
   "source": [
    "#Assignment Operators\n",
    "# =     e.g: x = 10\n",
    "# +=    e.g: x += 1 (equivalent to x = x+1,  x is now 11)\n",
    "# -=    e.g: x -= 3 (equivalent to x = x-3, x is now 8)\n",
    "# *=    e.g: x *= 2 (equivalent to x = x*2, x is now 16)\n",
    "# /=    e.g: x /= 4 (equivalent to x = x/4, x is now 4.0)\n",
    "# **=   e.g: x **=2 (equivalent to x = x**2, x is now 16.0)\n",
    "# %=    e.g: x %= 3 (equivalent to x = x%3, x is now 1.0)\n",
    "# //=   e.g: x //=2 (equivalent to x = x//2, x is now 0.0)"
   ]
  },
  {
   "cell_type": "code",
   "execution_count": 13,
   "metadata": {},
   "outputs": [
    {
     "name": "stdout",
     "output_type": "stream",
     "text": [
      "10\n",
      "11\n",
      "8\n",
      "16\n",
      "4.0\n",
      "16.0\n",
      "1.0\n",
      "0.0\n"
     ]
    }
   ],
   "source": [
    "x = 10\n",
    "print(x)\n",
    "x += 1\n",
    "print(x)\n",
    "x -= 3\n",
    "print(x)\n",
    "x *= 2\n",
    "print(x)\n",
    "x /= 4\n",
    "print(x)\n",
    "x **=2\n",
    "print(x)\n",
    "x %= 3\n",
    "print(x)\n",
    "x //=2\n",
    "print(x)"
   ]
  },
  {
   "cell_type": "markdown",
   "metadata": {},
   "source": [
    "<br><strong><span style=\"color:#dd2c00;font-size:23px;\">Integers and Floats</span></strong><br><br>\n",
    "<span>Integer and Float are Python data types that can be used to represent numeric values</span><br>\n",
    "<span>int - used for integer values</span><br> \n",
    "<span>float - used for numbers with decimals</span><br>\n",
    "<span>type() is a build-in function which returns data type of the passed value</span><br>"
   ]
  },
  {
   "cell_type": "code",
   "execution_count": 16,
   "metadata": {},
   "outputs": [
    {
     "name": "stdout",
     "output_type": "stream",
     "text": [
      "<class 'int'>\n"
     ]
    }
   ],
   "source": [
    "print(type(match_score))"
   ]
  },
  {
   "cell_type": "code",
   "execution_count": 17,
   "metadata": {
    "scrolled": true
   },
   "outputs": [
    {
     "name": "stdout",
     "output_type": "stream",
     "text": [
      "<class 'float'>\n"
     ]
    }
   ],
   "source": [
    "print(type(run_rate))"
   ]
  },
  {
   "cell_type": "code",
   "execution_count": null,
   "metadata": {},
   "outputs": [],
   "source": [
    "i1 = 4\n",
    "i2 = 6\n",
    "f1 = 4.5\n",
    "f2 = 5.0\n",
    "\n",
    "\n",
    "print(type(3+2.4))\n",
    "\n",
    "r = i1+f1\n",
    "print(r,type(r))\n",
    "\n",
    "\n",
    "r = i1-i2\n",
    "print(r,type(r))\n",
    "r = f1 + f2\n",
    "print(r,type(r))"
   ]
  },
  {
   "cell_type": "code",
   "execution_count": null,
   "metadata": {},
   "outputs": [],
   "source": [
    "# the result of division is always a float\n",
    "\n",
    "r = i1*f17\n",
    "print(r,type(r))\n",
    "r = f2/i2\n",
    "print(r,type(r))"
   ]
  },
  {
   "cell_type": "markdown",
   "metadata": {},
   "source": [
    "<b><br><span style=\"color:#007FDC;font-size:16px\">Type Conversion</span></b>\n",
    "\n",
    "<span>We can convert int to float using float()</span><br>\n",
    "<span> Also float to int using int()</span><br>"
   ]
  },
  {
   "cell_type": "code",
   "execution_count": 20,
   "metadata": {},
   "outputs": [
    {
     "name": "stdout",
     "output_type": "stream",
     "text": [
      "<class 'float'>\n",
      "45 <class 'int'>\n"
     ]
    }
   ],
   "source": [
    "weight = 45.6\n",
    "print(type(weight))\n",
    "weight = int(weight)\n",
    "print(weight,type(weight))"
   ]
  },
  {
   "cell_type": "code",
   "execution_count": 22,
   "metadata": {},
   "outputs": [
    {
     "name": "stdout",
     "output_type": "stream",
     "text": [
      "1.0\n",
      "<class 'float'>\n",
      "<class 'float'>\n"
     ]
    }
   ],
   "source": [
    "water = 1 #litres\n",
    "water = float(1)\n",
    "print(water)\n",
    "print(type(water))\n",
    "\n",
    "height = 175.\n",
    "print(type(height))"
   ]
  },
  {
   "cell_type": "markdown",
   "metadata": {},
   "source": [
    "<br><strong><span style=\"color:#dd2c00;font-size:23px;\">Boolean</span></strong><br><br>\n",
    "<span>bool - is a python data type which can have values True or False</span><br>"
   ]
  },
  {
   "cell_type": "markdown",
   "metadata": {},
   "source": [
    "<br><strong><span style=\"color:#dd2c00;font-size:23px;\">Comparison Operators</span></strong><br><br>\n",
    "<span>&gt;\t&nbsp;\t&nbsp;\t&nbsp;\t&nbsp;greater than</span><br>\n",
    "<span>&lt;   &nbsp;\t&nbsp;\t&nbsp;\t&nbsp;&nbsp;\tless than</span><br>\n",
    "<span>&gt;= &nbsp;\t&nbsp;\t&nbsp;\t&nbsp;  greater than or equal to</span><br>\n",
    "<span>&lt;=  &nbsp;\t&nbsp;\t&nbsp;\t&nbsp; less than or equal to</span><br>\n",
    "<span>==  &nbsp;\t&nbsp;\t&nbsp;\t&nbsp;&nbsp;\t equal to</span><br>\n",
    "<span>!=  &nbsp;\t&nbsp;\t&nbsp;\t&nbsp;&nbsp;\t  not equal to</span><br>"
   ]
  },
  {
   "cell_type": "markdown",
   "metadata": {},
   "source": [
    "<br><strong><span style=\"color:#dd2c00;font-size:23px;\">Logical Operators</span></strong><br><br>\n",
    "<span style=\"color:#00a853;\" >and</span><br>\n",
    "<span style=\"color:#00a853;\" >or</span><br>\n",
    "<span style=\"color:#00a853;\" >not</span><br>\n"
   ]
  },
  {
   "cell_type": "code",
   "execution_count": 23,
   "metadata": {},
   "outputs": [
    {
     "name": "stdout",
     "output_type": "stream",
     "text": [
      "<class 'bool'>\n"
     ]
    }
   ],
   "source": [
    "it_is_raining = True\n",
    "print(type(it_is_raining))"
   ]
  },
  {
   "cell_type": "code",
   "execution_count": 24,
   "metadata": {},
   "outputs": [
    {
     "name": "stdout",
     "output_type": "stream",
     "text": [
      "True\n"
     ]
    }
   ],
   "source": [
    "body_temperature = 101\n",
    "has_fever = body_temperature > 98.4\n",
    "print(has_fever)"
   ]
  },
  {
   "cell_type": "code",
   "execution_count": 25,
   "metadata": {},
   "outputs": [
    {
     "name": "stdout",
     "output_type": "stream",
     "text": [
      "False\n"
     ]
    }
   ],
   "source": [
    "num = 2300\n",
    "three_digit_number = 99 < num < 1000\n",
    "print(three_digit_number)"
   ]
  },
  {
   "cell_type": "code",
   "execution_count": 26,
   "metadata": {},
   "outputs": [
    {
     "name": "stdout",
     "output_type": "stream",
     "text": [
      "False\n",
      "True\n"
     ]
    }
   ],
   "source": [
    "age = 12\n",
    "teen = age >= 14 and age <= 20\n",
    "print(teen)\n",
    "\n",
    "not_teen = not(age >= 14 and age <= 20)\n",
    "print(not_teen)"
   ]
  },
  {
   "cell_type": "code",
   "execution_count": 27,
   "metadata": {},
   "outputs": [
    {
     "name": "stdout",
     "output_type": "stream",
     "text": [
      "False\n"
     ]
    }
   ],
   "source": [
    "x = 30\n",
    "z = x < 0 or x > 100\n",
    "print(z)"
   ]
  },
  {
   "cell_type": "code",
   "execution_count": 28,
   "metadata": {},
   "outputs": [
    {
     "name": "stdout",
     "output_type": "stream",
     "text": [
      "True\n"
     ]
    }
   ],
   "source": [
    "n = 10\n",
    "is_ten = n == 10\n",
    "print(is_ten)"
   ]
  },
  {
   "cell_type": "markdown",
   "metadata": {},
   "source": [
    "<br><strong><span style=\"color:#dd2c00;font-size:23px;\">Strings</span></strong><br><br>\n",
    "<span>String is a immutable ordered sequence of characters</span><br>\n",
    "<span>They are used to represent text</span><br>"
   ]
  },
  {
   "cell_type": "code",
   "execution_count": 29,
   "metadata": {},
   "outputs": [
    {
     "name": "stdout",
     "output_type": "stream",
     "text": [
      "Sun rises in the east\n",
      "<class 'str'>\n"
     ]
    }
   ],
   "source": [
    "# universal_fact = \"Sun rises in the east\"\n",
    "\n",
    "universal_fact = 'Sun rises in the east'\n",
    "\n",
    "print(universal_fact)\n",
    "print(type(universal_fact))\n"
   ]
  },
  {
   "cell_type": "code",
   "execution_count": 30,
   "metadata": {},
   "outputs": [
    {
     "name": "stdout",
     "output_type": "stream",
     "text": [
      "\"Knowledge is power\"\n"
     ]
    }
   ],
   "source": [
    "#what if our text has single or double quotes in it\n",
    "\n",
    "quotation = '\"Knowledge is power\"'\n",
    "print(quotation)\n",
    "advice = \"It's always good to follow best practices\"\n",
    "print(advice)"
   ]
  },
  {
   "cell_type": "code",
   "execution_count": 1,
   "metadata": {},
   "outputs": [
    {
     "name": "stdout",
     "output_type": "stream",
     "text": [
      "if you think it's  \"good\" then we will go for it\n"
     ]
    }
   ],
   "source": [
    "#what if our text has both type of quotes\n",
    "\n",
    "response = 'if you think it\\'s  \"good\" then we will go for it'\n",
    "print(response)"
   ]
  },
  {
   "cell_type": "code",
   "execution_count": 2,
   "metadata": {},
   "outputs": [
    {
     "name": "stdout",
     "output_type": "stream",
     "text": [
      "Christopher Nolan\n"
     ]
    }
   ],
   "source": [
    "#we can use + and * operators on strings\n",
    "\n",
    "first_name = \"Christopher\"\n",
    "last_name = \"Nolan\"\n",
    "print(first_name + \" \" + last_name)"
   ]
  },
  {
   "cell_type": "code",
   "execution_count": 3,
   "metadata": {},
   "outputs": [
    {
     "name": "stdout",
     "output_type": "stream",
     "text": [
      "Hello Hello Hello Hello \n",
      "\n"
     ]
    }
   ],
   "source": [
    "greeting = \"Hello\"\n",
    "print((greeting+\" \")*4)\n",
    "print()"
   ]
  },
  {
   "cell_type": "markdown",
   "metadata": {},
   "source": [
    "<b><br><span style=\"color:#007FDC;font-size:16px\"><font color='red'>len()</font>  is a built-in function which return the length of the object passed, like string</span></b>"
   ]
  },
  {
   "cell_type": "code",
   "execution_count": 4,
   "metadata": {},
   "outputs": [
    {
     "name": "stdout",
     "output_type": "stream",
     "text": [
      "16\n"
     ]
    }
   ],
   "source": [
    "full_name = first_name + last_name\n",
    "name_length = len(full_name)\n",
    "print(name_length)"
   ]
  },
  {
   "cell_type": "markdown",
   "metadata": {},
   "source": [
    "<b><br><span style=\"color:rgb(0,127,220);font-size:16px\">Accessing string character</span></b>"
   ]
  },
  {
   "cell_type": "code",
   "execution_count": 45,
   "metadata": {},
   "outputs": [
    {
     "name": "stdout",
     "output_type": "stream",
     "text": [
      "C\n",
      "o\n",
      "n\n",
      "Christ\n"
     ]
    }
   ],
   "source": [
    "# Ordered means you can access the characters in string using index\n",
    "# index starts from 0 and continues till (lenght of string) - 1\n",
    "\n",
    "print(full_name[0])\n",
    "print(full_name[6])\n",
    "print(full_name[15])\n",
    "print(full_name[0:6])"
   ]
  },
  {
   "cell_type": "markdown",
   "metadata": {},
   "source": [
    "<b><br><span style=\"color:#007FDC;font-size:16px\">Type Conversions</span></b>"
   ]
  },
  {
   "cell_type": "code",
   "execution_count": 46,
   "metadata": {},
   "outputs": [
    {
     "name": "stdout",
     "output_type": "stream",
     "text": [
      "<class 'int'>\n",
      "<class 'float'>\n",
      "<class 'str'>\n"
     ]
    }
   ],
   "source": [
    "print(type(124))\n",
    "print(type(124.0))\n",
    "print(type('124'))"
   ]
  },
  {
   "cell_type": "code",
   "execution_count": 47,
   "metadata": {},
   "outputs": [
    {
     "name": "stdout",
     "output_type": "stream",
     "text": [
      "106 Sky Towers, Nehru nagar\n"
     ]
    }
   ],
   "source": [
    "door_number = 106\n",
    "apartment = \"Sky Towers\"\n",
    "area = \"Nehru nagar\"\n",
    "print(str(door_number) + \" \" + apartment + \", \" + area)"
   ]
  },
  {
   "cell_type": "code",
   "execution_count": 49,
   "metadata": {},
   "outputs": [
    {
     "name": "stdout",
     "output_type": "stream",
     "text": [
      "50\n"
     ]
    }
   ],
   "source": [
    "n = '23'\n",
    "m = 27\n",
    "\n",
    "\n",
    "print(m + int(n))\n"
   ]
  },
  {
   "cell_type": "markdown",
   "metadata": {},
   "source": [
    "<b><br><span style=\"color:rgb(0,127,220);font-size:16px\">String Methods</span></b>"
   ]
  },
  {
   "cell_type": "code",
   "execution_count": null,
   "metadata": {},
   "outputs": [],
   "source": [
    "#lower()\n",
    "\n",
    "email_id = 'SOMEONE@GMAIL.COM'\n",
    "email_id_small = email_id.lower()\n",
    "print(email_id,email_id_small)\n"
   ]
  },
  {
   "cell_type": "code",
   "execution_count": null,
   "metadata": {},
   "outputs": [],
   "source": [
    "#upper()\n",
    "\n",
    "movie_name = 'interstellar'\n",
    "movie_name_upper = movie_name.upper()\n",
    "print(movie_name,movie_name_upper)"
   ]
  },
  {
   "cell_type": "code",
   "execution_count": 55,
   "metadata": {},
   "outputs": [
    {
     "name": "stdout",
     "output_type": "stream",
     "text": [
      "Knowledge Is Power\n"
     ]
    }
   ],
   "source": [
    "#title()\n",
    "\n",
    "proverb = \"knowledge is power\"\n",
    "print(proverb.title())\n"
   ]
  },
  {
   "cell_type": "code",
   "execution_count": 63,
   "metadata": {},
   "outputs": [
    {
     "name": "stdout",
     "output_type": "stream",
     "text": [
      "ARJUN's favourite color is Navy Blue\n",
      "Arjun's favourite color is Navy Blue\n"
     ]
    }
   ],
   "source": [
    "#format(),capitalize()\n",
    "\n",
    "name = \"ARJUN\"\n",
    "favourite_color = \"Navy Blue\"\n",
    "sentence = \"{}'s favourite color is {}\"\n",
    "# print(sentence)\n",
    "print(sentence.format(name,favourite_color))\n",
    "print(sentence.format(name.capitalize(),favourite_color))"
   ]
  },
  {
   "cell_type": "code",
   "execution_count": 75,
   "metadata": {},
   "outputs": [
    {
     "name": "stdout",
     "output_type": "stream",
     "text": [
      "2\n",
      "3\n",
      "-1\n"
     ]
    }
   ],
   "source": [
    "#count()\n",
    "\n",
    "print(\"Where there’s smoke, there’s fire\".count(' ther'))\n",
    "print(\"Where there’s smoke, there’s fire\".count('h'))\n",
    "print(\"Where there’s smoke, there’s fire\".find('h',3,5))"
   ]
  },
  {
   "cell_type": "markdown",
   "metadata": {},
   "source": [
    "\n",
    "<table align='left'>\n",
    "    <thead align=\"left\">        \n",
    "        <td colspan=3>some_string = \"Hello World!\"<br>some_string._____</td>\n",
    "    </thead>\n",
    "    <tr>\n",
    "        <td>lower()</td>\n",
    "        <td>upper()</td>\n",
    "        <td>title()</td>\n",
    "    </tr>\n",
    "    <tr>\n",
    "        <td>capitalize()</td>\n",
    "        <td>format()</td>\n",
    "        <td>index()</td>\n",
    "    </tr>\n",
    "    <tr>\n",
    "        <td>find()</td>\n",
    "        <td>count()</td>\n",
    "        <td>islower()</td>\n",
    "    </tr>\n",
    "    <tr>\n",
    "        <td>isupper()</td>\n",
    "        <td>isdigit()</td>\n",
    "        <td>isalnum()</td>\n",
    "    </tr>\n",
    "</table>\n"
   ]
  },
  {
   "cell_type": "code",
   "execution_count": 2,
   "metadata": {
    "scrolled": true
   },
   "outputs": [
    {
     "name": "stdout",
     "output_type": "stream",
     "text": [
      "Help on class str in module builtins:\n",
      "\n",
      "class str(object)\n",
      " |  str(object='') -> str\n",
      " |  str(bytes_or_buffer[, encoding[, errors]]) -> str\n",
      " |  \n",
      " |  Create a new string object from the given object. If encoding or\n",
      " |  errors is specified, then the object must expose a data buffer\n",
      " |  that will be decoded using the given encoding and error handler.\n",
      " |  Otherwise, returns the result of object.__str__() (if defined)\n",
      " |  or repr(object).\n",
      " |  encoding defaults to sys.getdefaultencoding().\n",
      " |  errors defaults to 'strict'.\n",
      " |  \n",
      " |  Methods defined here:\n",
      " |  \n",
      " |  __add__(self, value, /)\n",
      " |      Return self+value.\n",
      " |  \n",
      " |  __contains__(self, key, /)\n",
      " |      Return key in self.\n",
      " |  \n",
      " |  __eq__(self, value, /)\n",
      " |      Return self==value.\n",
      " |  \n",
      " |  __format__(self, format_spec, /)\n",
      " |      Return a formatted version of the string as described by format_spec.\n",
      " |  \n",
      " |  __ge__(self, value, /)\n",
      " |      Return self>=value.\n",
      " |  \n",
      " |  __getattribute__(self, name, /)\n",
      " |      Return getattr(self, name).\n",
      " |  \n",
      " |  __getitem__(self, key, /)\n",
      " |      Return self[key].\n",
      " |  \n",
      " |  __getnewargs__(...)\n",
      " |  \n",
      " |  __gt__(self, value, /)\n",
      " |      Return self>value.\n",
      " |  \n",
      " |  __hash__(self, /)\n",
      " |      Return hash(self).\n",
      " |  \n",
      " |  __iter__(self, /)\n",
      " |      Implement iter(self).\n",
      " |  \n",
      " |  __le__(self, value, /)\n",
      " |      Return self<=value.\n",
      " |  \n",
      " |  __len__(self, /)\n",
      " |      Return len(self).\n",
      " |  \n",
      " |  __lt__(self, value, /)\n",
      " |      Return self<value.\n",
      " |  \n",
      " |  __mod__(self, value, /)\n",
      " |      Return self%value.\n",
      " |  \n",
      " |  __mul__(self, value, /)\n",
      " |      Return self*value.\n",
      " |  \n",
      " |  __ne__(self, value, /)\n",
      " |      Return self!=value.\n",
      " |  \n",
      " |  __repr__(self, /)\n",
      " |      Return repr(self).\n",
      " |  \n",
      " |  __rmod__(self, value, /)\n",
      " |      Return value%self.\n",
      " |  \n",
      " |  __rmul__(self, value, /)\n",
      " |      Return value*self.\n",
      " |  \n",
      " |  __sizeof__(self, /)\n",
      " |      Return the size of the string in memory, in bytes.\n",
      " |  \n",
      " |  __str__(self, /)\n",
      " |      Return str(self).\n",
      " |  \n",
      " |  capitalize(self, /)\n",
      " |      Return a capitalized version of the string.\n",
      " |      \n",
      " |      More specifically, make the first character have upper case and the rest lower\n",
      " |      case.\n",
      " |  \n",
      " |  casefold(self, /)\n",
      " |      Return a version of the string suitable for caseless comparisons.\n",
      " |  \n",
      " |  center(self, width, fillchar=' ', /)\n",
      " |      Return a centered string of length width.\n",
      " |      \n",
      " |      Padding is done using the specified fill character (default is a space).\n",
      " |  \n",
      " |  count(...)\n",
      " |      S.count(sub[, start[, end]]) -> int\n",
      " |      \n",
      " |      Return the number of non-overlapping occurrences of substring sub in\n",
      " |      string S[start:end].  Optional arguments start and end are\n",
      " |      interpreted as in slice notation.\n",
      " |  \n",
      " |  encode(self, /, encoding='utf-8', errors='strict')\n",
      " |      Encode the string using the codec registered for encoding.\n",
      " |      \n",
      " |      encoding\n",
      " |        The encoding in which to encode the string.\n",
      " |      errors\n",
      " |        The error handling scheme to use for encoding errors.\n",
      " |        The default is 'strict' meaning that encoding errors raise a\n",
      " |        UnicodeEncodeError.  Other possible values are 'ignore', 'replace' and\n",
      " |        'xmlcharrefreplace' as well as any other name registered with\n",
      " |        codecs.register_error that can handle UnicodeEncodeErrors.\n",
      " |  \n",
      " |  endswith(...)\n",
      " |      S.endswith(suffix[, start[, end]]) -> bool\n",
      " |      \n",
      " |      Return True if S ends with the specified suffix, False otherwise.\n",
      " |      With optional start, test S beginning at that position.\n",
      " |      With optional end, stop comparing S at that position.\n",
      " |      suffix can also be a tuple of strings to try.\n",
      " |  \n",
      " |  expandtabs(self, /, tabsize=8)\n",
      " |      Return a copy where all tab characters are expanded using spaces.\n",
      " |      \n",
      " |      If tabsize is not given, a tab size of 8 characters is assumed.\n",
      " |  \n",
      " |  find(...)\n",
      " |      S.find(sub[, start[, end]]) -> int\n",
      " |      \n",
      " |      Return the lowest index in S where substring sub is found,\n",
      " |      such that sub is contained within S[start:end].  Optional\n",
      " |      arguments start and end are interpreted as in slice notation.\n",
      " |      \n",
      " |      Return -1 on failure.\n",
      " |  \n",
      " |  format(...)\n",
      " |      S.format(*args, **kwargs) -> str\n",
      " |      \n",
      " |      Return a formatted version of S, using substitutions from args and kwargs.\n",
      " |      The substitutions are identified by braces ('{' and '}').\n",
      " |  \n",
      " |  format_map(...)\n",
      " |      S.format_map(mapping) -> str\n",
      " |      \n",
      " |      Return a formatted version of S, using substitutions from mapping.\n",
      " |      The substitutions are identified by braces ('{' and '}').\n",
      " |  \n",
      " |  index(...)\n",
      " |      S.index(sub[, start[, end]]) -> int\n",
      " |      \n",
      " |      Return the lowest index in S where substring sub is found, \n",
      " |      such that sub is contained within S[start:end].  Optional\n",
      " |      arguments start and end are interpreted as in slice notation.\n",
      " |      \n",
      " |      Raises ValueError when the substring is not found.\n",
      " |  \n",
      " |  isalnum(self, /)\n",
      " |      Return True if the string is an alpha-numeric string, False otherwise.\n",
      " |      \n",
      " |      A string is alpha-numeric if all characters in the string are alpha-numeric and\n",
      " |      there is at least one character in the string.\n",
      " |  \n",
      " |  isalpha(self, /)\n",
      " |      Return True if the string is an alphabetic string, False otherwise.\n",
      " |      \n",
      " |      A string is alphabetic if all characters in the string are alphabetic and there\n",
      " |      is at least one character in the string.\n",
      " |  \n",
      " |  isascii(self, /)\n",
      " |      Return True if all characters in the string are ASCII, False otherwise.\n",
      " |      \n",
      " |      ASCII characters have code points in the range U+0000-U+007F.\n",
      " |      Empty string is ASCII too.\n",
      " |  \n",
      " |  isdecimal(self, /)\n",
      " |      Return True if the string is a decimal string, False otherwise.\n",
      " |      \n",
      " |      A string is a decimal string if all characters in the string are decimal and\n",
      " |      there is at least one character in the string.\n",
      " |  \n",
      " |  isdigit(self, /)\n",
      " |      Return True if the string is a digit string, False otherwise.\n",
      " |      \n",
      " |      A string is a digit string if all characters in the string are digits and there\n",
      " |      is at least one character in the string.\n",
      " |  \n",
      " |  isidentifier(self, /)\n",
      " |      Return True if the string is a valid Python identifier, False otherwise.\n",
      " |      \n",
      " |      Use keyword.iskeyword() to test for reserved identifiers such as \"def\" and\n",
      " |      \"class\".\n",
      " |  \n",
      " |  islower(self, /)\n",
      " |      Return True if the string is a lowercase string, False otherwise.\n",
      " |      \n",
      " |      A string is lowercase if all cased characters in the string are lowercase and\n",
      " |      there is at least one cased character in the string.\n",
      " |  \n",
      " |  isnumeric(self, /)\n",
      " |      Return True if the string is a numeric string, False otherwise.\n",
      " |      \n",
      " |      A string is numeric if all characters in the string are numeric and there is at\n",
      " |      least one character in the string.\n",
      " |  \n",
      " |  isprintable(self, /)\n",
      " |      Return True if the string is printable, False otherwise.\n",
      " |      \n",
      " |      A string is printable if all of its characters are considered printable in\n",
      " |      repr() or if it is empty.\n",
      " |  \n",
      " |  isspace(self, /)\n",
      " |      Return True if the string is a whitespace string, False otherwise.\n",
      " |      \n",
      " |      A string is whitespace if all characters in the string are whitespace and there\n",
      " |      is at least one character in the string.\n",
      " |  \n",
      " |  istitle(self, /)\n",
      " |      Return True if the string is a title-cased string, False otherwise.\n",
      " |      \n",
      " |      In a title-cased string, upper- and title-case characters may only\n",
      " |      follow uncased characters and lowercase characters only cased ones.\n",
      " |  \n",
      " |  isupper(self, /)\n",
      " |      Return True if the string is an uppercase string, False otherwise.\n",
      " |      \n",
      " |      A string is uppercase if all cased characters in the string are uppercase and\n",
      " |      there is at least one cased character in the string.\n",
      " |  \n",
      " |  join(self, iterable, /)\n",
      " |      Concatenate any number of strings.\n",
      " |      \n",
      " |      The string whose method is called is inserted in between each given string.\n",
      " |      The result is returned as a new string.\n",
      " |      \n",
      " |      Example: '.'.join(['ab', 'pq', 'rs']) -> 'ab.pq.rs'\n",
      " |  \n",
      " |  ljust(self, width, fillchar=' ', /)\n",
      " |      Return a left-justified string of length width.\n",
      " |      \n",
      " |      Padding is done using the specified fill character (default is a space).\n",
      " |  \n",
      " |  lower(self, /)\n",
      " |      Return a copy of the string converted to lowercase.\n",
      " |  \n",
      " |  lstrip(self, chars=None, /)\n",
      " |      Return a copy of the string with leading whitespace removed.\n",
      " |      \n",
      " |      If chars is given and not None, remove characters in chars instead.\n",
      " |  \n",
      " |  partition(self, sep, /)\n",
      " |      Partition the string into three parts using the given separator.\n",
      " |      \n",
      " |      This will search for the separator in the string.  If the separator is found,\n",
      " |      returns a 3-tuple containing the part before the separator, the separator\n",
      " |      itself, and the part after it.\n",
      " |      \n",
      " |      If the separator is not found, returns a 3-tuple containing the original string\n",
      " |      and two empty strings.\n",
      " |  \n",
      " |  replace(self, old, new, count=-1, /)\n",
      " |      Return a copy with all occurrences of substring old replaced by new.\n",
      " |      \n",
      " |        count\n",
      " |          Maximum number of occurrences to replace.\n",
      " |          -1 (the default value) means replace all occurrences.\n",
      " |      \n",
      " |      If the optional argument count is given, only the first count occurrences are\n",
      " |      replaced.\n",
      " |  \n",
      " |  rfind(...)\n",
      " |      S.rfind(sub[, start[, end]]) -> int\n",
      " |      \n",
      " |      Return the highest index in S where substring sub is found,\n",
      " |      such that sub is contained within S[start:end].  Optional\n",
      " |      arguments start and end are interpreted as in slice notation.\n",
      " |      \n",
      " |      Return -1 on failure.\n",
      " |  \n",
      " |  rindex(...)\n",
      " |      S.rindex(sub[, start[, end]]) -> int\n",
      " |      \n",
      " |      Return the highest index in S where substring sub is found,\n",
      " |      such that sub is contained within S[start:end].  Optional\n",
      " |      arguments start and end are interpreted as in slice notation.\n",
      " |      \n",
      " |      Raises ValueError when the substring is not found.\n",
      " |  \n",
      " |  rjust(self, width, fillchar=' ', /)\n",
      " |      Return a right-justified string of length width.\n",
      " |      \n",
      " |      Padding is done using the specified fill character (default is a space).\n",
      " |  \n",
      " |  rpartition(self, sep, /)\n",
      " |      Partition the string into three parts using the given separator.\n",
      " |      \n",
      " |      This will search for the separator in the string, starting at the end. If\n",
      " |      the separator is found, returns a 3-tuple containing the part before the\n",
      " |      separator, the separator itself, and the part after it.\n",
      " |      \n",
      " |      If the separator is not found, returns a 3-tuple containing two empty strings\n",
      " |      and the original string.\n",
      " |  \n",
      " |  rsplit(self, /, sep=None, maxsplit=-1)\n",
      " |      Return a list of the words in the string, using sep as the delimiter string.\n",
      " |      \n",
      " |        sep\n",
      " |          The delimiter according which to split the string.\n",
      " |          None (the default value) means split according to any whitespace,\n",
      " |          and discard empty strings from the result.\n",
      " |        maxsplit\n",
      " |          Maximum number of splits to do.\n",
      " |          -1 (the default value) means no limit.\n",
      " |      \n",
      " |      Splits are done starting at the end of the string and working to the front.\n",
      " |  \n",
      " |  rstrip(self, chars=None, /)\n",
      " |      Return a copy of the string with trailing whitespace removed.\n",
      " |      \n",
      " |      If chars is given and not None, remove characters in chars instead.\n",
      " |  \n",
      " |  split(self, /, sep=None, maxsplit=-1)\n",
      " |      Return a list of the words in the string, using sep as the delimiter string.\n",
      " |      \n",
      " |      sep\n",
      " |        The delimiter according which to split the string.\n",
      " |        None (the default value) means split according to any whitespace,\n",
      " |        and discard empty strings from the result.\n",
      " |      maxsplit\n",
      " |        Maximum number of splits to do.\n",
      " |        -1 (the default value) means no limit.\n",
      " |  \n",
      " |  splitlines(self, /, keepends=False)\n",
      " |      Return a list of the lines in the string, breaking at line boundaries.\n",
      " |      \n",
      " |      Line breaks are not included in the resulting list unless keepends is given and\n",
      " |      true.\n",
      " |  \n",
      " |  startswith(...)\n",
      " |      S.startswith(prefix[, start[, end]]) -> bool\n",
      " |      \n",
      " |      Return True if S starts with the specified prefix, False otherwise.\n",
      " |      With optional start, test S beginning at that position.\n",
      " |      With optional end, stop comparing S at that position.\n",
      " |      prefix can also be a tuple of strings to try.\n",
      " |  \n",
      " |  strip(self, chars=None, /)\n",
      " |      Return a copy of the string with leading and trailing whitespace remove.\n",
      " |      \n",
      " |      If chars is given and not None, remove characters in chars instead.\n",
      " |  \n",
      " |  swapcase(self, /)\n",
      " |      Convert uppercase characters to lowercase and lowercase characters to uppercase.\n",
      " |  \n",
      " |  title(self, /)\n",
      " |      Return a version of the string where each word is titlecased.\n",
      " |      \n",
      " |      More specifically, words start with uppercased characters and all remaining\n",
      " |      cased characters have lower case.\n",
      " |  \n",
      " |  translate(self, table, /)\n",
      " |      Replace each character in the string using the given translation table.\n",
      " |      \n",
      " |        table\n",
      " |          Translation table, which must be a mapping of Unicode ordinals to\n",
      " |          Unicode ordinals, strings, or None.\n",
      " |      \n",
      " |      The table must implement lookup/indexing via __getitem__, for instance a\n",
      " |      dictionary or list.  If this operation raises LookupError, the character is\n",
      " |      left untouched.  Characters mapped to None are deleted.\n",
      " |  \n",
      " |  upper(self, /)\n",
      " |      Return a copy of the string converted to uppercase.\n",
      " |  \n",
      " |  zfill(self, width, /)\n",
      " |      Pad a numeric string with zeros on the left, to fill a field of the given width.\n",
      " |      \n",
      " |      The string is never truncated.\n",
      " |  \n",
      " |  ----------------------------------------------------------------------\n",
      " |  Static methods defined here:\n",
      " |  \n",
      " |  __new__(*args, **kwargs) from builtins.type\n",
      " |      Create and return a new object.  See help(type) for accurate signature.\n",
      " |  \n",
      " |  maketrans(x, y=None, z=None, /)\n",
      " |      Return a translation table usable for str.translate().\n",
      " |      \n",
      " |      If there is only one argument, it must be a dictionary mapping Unicode\n",
      " |      ordinals (integers) or characters to Unicode ordinals, strings or None.\n",
      " |      Character keys will be then converted to ordinals.\n",
      " |      If there are two arguments, they must be strings of equal length, and\n",
      " |      in the resulting dictionary, each character in x will be mapped to the\n",
      " |      character at the same position in y. If there is a third argument, it\n",
      " |      must be a string, whose characters will be mapped to None in the result.\n",
      "\n"
     ]
    }
   ],
   "source": [
    "help(str)"
   ]
  },
  {
   "cell_type": "markdown",
   "metadata": {},
   "source": [
    "<br><strong><span style=\"color:#dd2c00;font-size:23px;\">List and Membership operators</span></strong><br><br>\n",
    "<span>List is a mutable ordered seuence of elements</span><br>\n",
    "<span style=\"color:rgb(70,200,39)\">in</span>, and <span style=\"color:rgb(70,200,39)\">not in</span> are membership operators"
   ]
  },
  {
   "cell_type": "code",
   "execution_count": 76,
   "metadata": {},
   "outputs": [
    {
     "name": "stdout",
     "output_type": "stream",
     "text": [
      "total: 322 \n",
      "average:80.5\n"
     ]
    }
   ],
   "source": [
    "Hindi = 90\n",
    "English = 70\n",
    "Maths = 84\n",
    "Science = 78\n",
    "\n",
    "total = Hindi + English + Maths + Science\n",
    "avg = total / 4\n",
    "print(\"total: {} \\naverage:{}\".format(total,avg))"
   ]
  },
  {
   "cell_type": "code",
   "execution_count": null,
   "metadata": {},
   "outputs": [],
   "source": [
    "day1 = \"Monday\"\n",
    "day2 = \"Tuesday\"\n",
    "day3 = \"Wednesday\"\n",
    "day4 = \"Thursday\"\n",
    "day5 = \"Friday\"\n",
    "day6 = \"Saturday\"\n",
    "day7 = \"Sunday\""
   ]
  },
  {
   "cell_type": "markdown",
   "metadata": {},
   "source": [
    "<b><br><span style=\"color:rgb(0,127,220);font-size:16px\">Creating and Accessing List</span></b>"
   ]
  },
  {
   "cell_type": "code",
   "execution_count": 78,
   "metadata": {},
   "outputs": [
    {
     "name": "stdout",
     "output_type": "stream",
     "text": [
      "total: 322 \n",
      "average:80.5\n"
     ]
    }
   ],
   "source": [
    "marks = [90,70,84,78]\n",
    "total = marks[0] + marks[1] + marks[2] + marks[3]\n",
    "avg = total/len(marks)\n",
    "print(\"total: {} \\naverage:{}\".format(total,avg))\n"
   ]
  },
  {
   "cell_type": "code",
   "execution_count": 79,
   "metadata": {},
   "outputs": [
    {
     "name": "stdout",
     "output_type": "stream",
     "text": [
      "78\n",
      "84\n"
     ]
    }
   ],
   "source": [
    "#we can also access list using negative indices -with 1 pointing to the end of the list\n",
    "print(marks[-1])\n",
    "print(marks[-2])"
   ]
  },
  {
   "cell_type": "code",
   "execution_count": 82,
   "metadata": {},
   "outputs": [
    {
     "name": "stdout",
     "output_type": "stream",
     "text": [
      "Tuesday\n",
      "Thursday\n"
     ]
    }
   ],
   "source": [
    "days = [\"Monday\",\"Tuesday\",\"Wednesday\",\"Thursday\",\"Friday\",\"Saturday\",\"Sunday\"]\n",
    "print(days[1])\n",
    "print(days[3])"
   ]
  },
  {
   "cell_type": "markdown",
   "metadata": {},
   "source": [
    "<b><br><span style=\"color:rgb(0,127,220);font-size:16px\">Updating List</span></b>"
   ]
  },
  {
   "cell_type": "code",
   "execution_count": 83,
   "metadata": {},
   "outputs": [
    {
     "name": "stdout",
     "output_type": "stream",
     "text": [
      "[90, 70, 84, 78]\n",
      "[90, 70, 88, 92]\n"
     ]
    }
   ],
   "source": [
    "#if Maths and Science marks has an error. Then update it as below\n",
    "\n",
    "print(marks)\n",
    "marks[2] = 88\n",
    "marks[3] = 92\n",
    "print(marks)"
   ]
  },
  {
   "cell_type": "markdown",
   "metadata": {},
   "source": [
    "<br><span style=\"color:#cc2255\">Accessing an index that does not exitst</span>"
   ]
  },
  {
   "cell_type": "code",
   "execution_count": 84,
   "metadata": {},
   "outputs": [
    {
     "ename": "IndexError",
     "evalue": "list index out of range",
     "output_type": "error",
     "traceback": [
      "\u001b[1;31m---------------------------------------------------------------------------\u001b[0m",
      "\u001b[1;31mIndexError\u001b[0m                                Traceback (most recent call last)",
      "\u001b[1;32m<ipython-input-84-e61221a75f34>\u001b[0m in \u001b[0;36m<module>\u001b[1;34m\u001b[0m\n\u001b[0;32m      1\u001b[0m \u001b[1;31m#will throw IndexError\u001b[0m\u001b[1;33m\u001b[0m\u001b[1;33m\u001b[0m\u001b[1;33m\u001b[0m\u001b[0m\n\u001b[1;32m----> 2\u001b[1;33m \u001b[0mprint\u001b[0m\u001b[1;33m(\u001b[0m\u001b[0mmarks\u001b[0m\u001b[1;33m[\u001b[0m\u001b[1;36m8\u001b[0m\u001b[1;33m]\u001b[0m\u001b[1;33m)\u001b[0m\u001b[1;33m\u001b[0m\u001b[1;33m\u001b[0m\u001b[0m\n\u001b[0m",
      "\u001b[1;31mIndexError\u001b[0m: list index out of range"
     ]
    }
   ],
   "source": [
    "#will throw IndexError\n",
    "print(marks[8])"
   ]
  },
  {
   "cell_type": "markdown",
   "metadata": {},
   "source": [
    "<b><br><span style=\"color:#007FDC;font-size:16px\">Using in and not in with list</span></b><br>\n",
    "Using in or not in with list or any other similar data types will result in boolean"
   ]
  },
  {
   "cell_type": "code",
   "execution_count": 88,
   "metadata": {},
   "outputs": [
    {
     "name": "stdout",
     "output_type": "stream",
     "text": [
      "True\n",
      "False\n",
      "False\n",
      "True\n"
     ]
    }
   ],
   "source": [
    "\n",
    "days = [\"Monday\",\"Tuesday\",\"Wednesday\",\"Thursday\",\"Friday\",\"Saturday\",\"Sunday\"]\n",
    "\n",
    "print(\"Monday\" in days)\n",
    "print(\"Monday\" not in days)\n",
    "\n",
    "month = \"January\"\n",
    "\n",
    "is_month_exists = month in days\n",
    "is_month_not_exists = month not in days\n",
    "print(is_month_exists)\n",
    "print(is_month_not_exists)\n"
   ]
  },
  {
   "cell_type": "markdown",
   "metadata": {},
   "source": [
    "<b><br><span style=\"color:rgb(0,127,220);font-size:16px\">Slicing</span></b>"
   ]
  },
  {
   "cell_type": "code",
   "execution_count": 15,
   "metadata": {},
   "outputs": [
    {
     "name": "stdout",
     "output_type": "stream",
     "text": [
      "skep\n",
      "ism\n",
      "skep\n",
      "ism\n",
      "skepticism\n",
      "['red', 'blue']\n",
      "['yellow', 'white']\n",
      "['red', 'blue']\n",
      "['yellow', 'white']\n"
     ]
    }
   ],
   "source": [
    "#lists and strings support slicing\n",
    "word = \"skepticism\"\n",
    "colors = [\"red\",\"blue\",\"green\",\"yellow\",\"white\"]\n",
    "\n",
    "#my_string[start:end] here start is inclusive and end is exclusive\n",
    "print(word[0:4])\n",
    "print(word[7:10])\n",
    "\n",
    "print(word[:4])\n",
    "print(word[7:])\n",
    "print(word[:])\n",
    "\n",
    "print(colors[0:2])\n",
    "print(colors[3:5])\n",
    "\n",
    "print(colors[:2])\n",
    "print(colors[3:])"
   ]
  },
  {
   "cell_type": "markdown",
   "metadata": {},
   "source": [
    "<b><span style=\"color:rgb(140,20,199)\"><br><span>Strings and Lists, both are ordered, both supports indexing and slicing</span>\n",
    "<br><span>But Strings are immutable and Lists are mutable</span>\n",
    "<br><span>Mutability - whether an object can be modified after it's creation</span><span></b>"
   ]
  },
  {
   "cell_type": "markdown",
   "metadata": {},
   "source": [
    "<b><br><span style=\"color:rgb(0,127,220);font-size:16px\">Functions for Lists</span></b>"
   ]
  },
  {
   "cell_type": "code",
   "execution_count": 16,
   "metadata": {},
   "outputs": [
    {
     "ename": "NameError",
     "evalue": "name 'marks' is not defined",
     "output_type": "error",
     "traceback": [
      "\u001b[1;31m--------------------------------------------------------------------------\u001b[0m",
      "\u001b[1;31mNameError\u001b[0m                                Traceback (most recent call last)",
      "\u001b[1;32m<ipython-input-16-4a777edf637a>\u001b[0m in \u001b[0;36m<module>\u001b[1;34m\u001b[0m\n\u001b[0;32m      1\u001b[0m \u001b[1;31m#len() - returns the number of elements present in the list\u001b[0m\u001b[1;33m\u001b[0m\u001b[1;33m\u001b[0m\u001b[1;33m\u001b[0m\u001b[0m\n\u001b[1;32m----> 2\u001b[1;33m \u001b[0mmarks\u001b[0m\u001b[1;33m\u001b[0m\u001b[1;33m\u001b[0m\u001b[0m\n\u001b[0m\u001b[0;32m      3\u001b[0m \u001b[0mprint\u001b[0m\u001b[1;33m(\u001b[0m\u001b[0mlen\u001b[0m\u001b[1;33m(\u001b[0m\u001b[0mmarks\u001b[0m\u001b[1;33m)\u001b[0m\u001b[1;33m)\u001b[0m\u001b[1;33m\u001b[0m\u001b[1;33m\u001b[0m\u001b[0m\n\u001b[0;32m      4\u001b[0m \u001b[1;33m\u001b[0m\u001b[0m\n\u001b[0;32m      5\u001b[0m \u001b[1;31m#sum() - performs addition of all elements present in the list\u001b[0m\u001b[1;33m\u001b[0m\u001b[1;33m\u001b[0m\u001b[1;33m\u001b[0m\u001b[0m\n",
      "\u001b[1;31mNameError\u001b[0m: name 'marks' is not defined"
     ]
    }
   ],
   "source": [
    "#len() - returns the number of elements present in the list\n",
    "marks\n",
    "print(len(marks))\n",
    "\n",
    "#sum() - performs addition of all elements present in the list\n",
    "#works only if elements are numeric values \n",
    "print(sum(marks))\n",
    "\n",
    "#max() - returns the greatest value if list contains only numeric values\n",
    "#      - returns the alphabetically last string if contains only strings\n",
    "#      - throws error if contains non comparable types\n",
    "print(max(marks))\n",
    "\n",
    "#min() - returns the smalles value if list contains only numeric values\n",
    "#      - returns the alphabetically first string if contains only strings\n",
    "#      - throws error if contains non comparable types\n",
    "print(min(marks))\n",
    "\n",
    "#join() - a string function which takes list(containing string elements) as arguments\n",
    "# and return a string by inserting string on which this method is called\n",
    "res = \"  \".join([\"seperate\",\"all\",\"list\",\"strings\",\"with\",\"specified\",\"string\"])\n",
    "print(res)"
   ]
  },
  {
   "cell_type": "code",
   "execution_count": 19,
   "metadata": {},
   "outputs": [
    {
     "data": {
      "text/plain": [
       "'seperate*all*list*strings*with*specified*string'"
      ]
     },
     "execution_count": 19,
     "metadata": {},
     "output_type": "execute_result"
    }
   ],
   "source": [
    "res = \"*\".join([\"seperate\",\"all\",\"list\",\"strings\",\"with\",\"specified\",\"string\"])\n",
    "res"
   ]
  },
  {
   "cell_type": "markdown",
   "metadata": {},
   "source": [
    "<b><br><span style=\"color:rgb(0,127,220);font-size:16px\">List Methods</span></b>"
   ]
  },
  {
   "cell_type": "code",
   "execution_count": 20,
   "metadata": {},
   "outputs": [
    {
     "name": "stdout",
     "output_type": "stream",
     "text": [
      "['apple', 'mango', 'orange', 'grapes']\n"
     ]
    }
   ],
   "source": [
    "#append() - appends an element to the end of the list\n",
    "fruits = [\"apple\",\"mango\",\"orange\"]\n",
    "fruits.append(\"grapes\")\n",
    "print(fruits)"
   ]
  },
  {
   "cell_type": "code",
   "execution_count": 21,
   "metadata": {},
   "outputs": [
    {
     "name": "stdout",
     "output_type": "stream",
     "text": [
      "grapes\n",
      "['apple', 'mango', 'orange']\n"
     ]
    }
   ],
   "source": [
    "#pop() - removes last element from the list and returns it\n",
    "l = fruits.pop()\n",
    "print(l)\n",
    "print(fruits)"
   ]
  },
  {
   "cell_type": "code",
   "execution_count": 22,
   "metadata": {},
   "outputs": [
    {
     "name": "stdout",
     "output_type": "stream",
     "text": [
      "['apple', 'papaya', 'mango', 'orange']\n"
     ]
    }
   ],
   "source": [
    "#insert() - inserts an element at the specified index in the list\n",
    "fruits.insert(1,\"papaya\")\n",
    "print(fruits)"
   ]
  },
  {
   "cell_type": "code",
   "execution_count": 23,
   "metadata": {},
   "outputs": [
    {
     "name": "stdout",
     "output_type": "stream",
     "text": [
      "['apple', 'mango', 'orange']\n"
     ]
    }
   ],
   "source": [
    "#remove() - removes passed in element if present, otherwise throws error\n",
    "fruits.remove(fruits[1])\n",
    "print(fruits)"
   ]
  },
  {
   "cell_type": "code",
   "execution_count": 109,
   "metadata": {},
   "outputs": [
    {
     "ename": "ValueError",
     "evalue": "'papaya' is not in list",
     "output_type": "error",
     "traceback": [
      "\u001b[1;31m---------------------------------------------------------------------------\u001b[0m",
      "\u001b[1;31mValueError\u001b[0m                                Traceback (most recent call last)",
      "\u001b[1;32m<ipython-input-109-7872b6812f1b>\u001b[0m in \u001b[0;36m<module>\u001b[1;34m\u001b[0m\n\u001b[0;32m      1\u001b[0m \u001b[1;31m#index() - returns index of the first encountered element from the beginning if present\u001b[0m\u001b[1;33m\u001b[0m\u001b[1;33m\u001b[0m\u001b[1;33m\u001b[0m\u001b[0m\n\u001b[1;32m----> 2\u001b[1;33m \u001b[0mprint\u001b[0m\u001b[1;33m(\u001b[0m\u001b[0mfruits\u001b[0m\u001b[1;33m.\u001b[0m\u001b[0mindex\u001b[0m\u001b[1;33m(\u001b[0m\u001b[1;34m\"papaya\"\u001b[0m\u001b[1;33m)\u001b[0m\u001b[1;33m)\u001b[0m\u001b[1;33m\u001b[0m\u001b[1;33m\u001b[0m\u001b[0m\n\u001b[0m",
      "\u001b[1;31mValueError\u001b[0m: 'papaya' is not in list"
     ]
    }
   ],
   "source": [
    "#index() - returns index of the first encountered element from the beginning if present\n",
    "print(fruits.index(\"papaya\"))"
   ]
  },
  {
   "cell_type": "markdown",
   "metadata": {},
   "source": [
    "<br><span style=\"color:rgb(140,20,199)\">All the methods that are available in list<br>\n",
    "    append(), clear(), copy(), count(), extend(), index(), insert(), pop(), remove(), reverse(), sort()\n",
    "    </span>"
   ]
  },
  {
   "cell_type": "markdown",
   "metadata": {},
   "source": [
    "<b><br><span style=\"color:rgb(52,142,124)\">\n",
    "    To find out methods that are available for a particular object use dir() function on that object<br>\n",
    "    To know what that method does using help() function by passing in type.method_name\n",
    "    </span></b>"
   ]
  },
  {
   "cell_type": "code",
   "execution_count": null,
   "metadata": {},
   "outputs": [],
   "source": [
    "dir([]) #or dir(any_object)"
   ]
  },
  {
   "cell_type": "code",
   "execution_count": 110,
   "metadata": {},
   "outputs": [
    {
     "name": "stdout",
     "output_type": "stream",
     "text": [
      "Help on method_descriptor:\n",
      "\n",
      "insert(self, index, object, /)\n",
      "    Insert object before index.\n",
      "\n"
     ]
    }
   ],
   "source": [
    "help(list.insert)"
   ]
  },
  {
   "cell_type": "markdown",
   "metadata": {},
   "source": [
    "<br><strong><span style=\"color:#00c853;font-size:24px;\">Tuple</span></strong><br>\n",
    "<span>Tuples are immutable ordered sequence of elements</span><br>\n",
    "<span>They are similar to lists in the way they are created and accessed.</span><br>\n",
    "<span>Except tuples are created by using parenthesis - ()</span><br>\n",
    "<span>Tuples are mainly when you have values are which are closely related and their position matters</span><br>"
   ]
  },
  {
   "cell_type": "code",
   "execution_count": 25,
   "metadata": {},
   "outputs": [],
   "source": [
    "point = (4,3,11) # (x,y,z) coordinates in a 3d space\n",
    "location = (17.393549, 78.533836) #(latitude, longitude)\n",
    "dimens = 10,20,15 # (l,b,h) dimensions of a cuboid. Tuple can also be intialized this way\n",
    "\n",
    "l,b,h = dimens # Tuple unpacking"
   ]
  },
  {
   "cell_type": "code",
   "execution_count": 26,
   "metadata": {},
   "outputs": [
    {
     "name": "stdout",
     "output_type": "stream",
     "text": [
      "1\n",
      "3\n"
     ]
    }
   ],
   "source": [
    "print(point.count(4))\n",
    "print(len(point))"
   ]
  },
  {
   "cell_type": "markdown",
   "metadata": {},
   "source": [
    "<b><br><span style=\"color:rgb(0,127,220);font-size:16px\">Accessing Tuple</span></b>"
   ]
  },
  {
   "cell_type": "code",
   "execution_count": 27,
   "metadata": {},
   "outputs": [
    {
     "name": "stdout",
     "output_type": "stream",
     "text": [
      "Coordinates - (x,y,z) : (4,3,11)\n"
     ]
    }
   ],
   "source": [
    "print(\"Coordinates - (x,y,z) : ({},{},{})\".format(point[0],point[1],point[2]))"
   ]
  },
  {
   "cell_type": "code",
   "execution_count": 29,
   "metadata": {},
   "outputs": [
    {
     "name": "stdout",
     "output_type": "stream",
     "text": [
      "Latitude:17.393549\n",
      "Longitube:78.533836\n"
     ]
    }
   ],
   "source": [
    "print(\"Latitude:{}\\nLongitube:{}\".format(location[0],location[1]))"
   ]
  },
  {
   "cell_type": "code",
   "execution_count": 30,
   "metadata": {},
   "outputs": [
    {
     "ename": "TypeError",
     "evalue": "'tuple' object does not support item assignment",
     "output_type": "error",
     "traceback": [
      "\u001b[1;31m--------------------------------------------------------------------------\u001b[0m",
      "\u001b[1;31mTypeError\u001b[0m                                Traceback (most recent call last)",
      "\u001b[1;32m<ipython-input-30-c921ac150d98>\u001b[0m in \u001b[0;36m<module>\u001b[1;34m\u001b[0m\n\u001b[0;32m      1\u001b[0m \u001b[1;31m#since tuple is immutable trying to modify it will throw an error\u001b[0m\u001b[1;33m\u001b[0m\u001b[1;33m\u001b[0m\u001b[1;33m\u001b[0m\u001b[0m\n\u001b[0;32m      2\u001b[0m \u001b[1;31m#and it also don't have methods like insert(),append()..etc which modified tuple\u001b[0m\u001b[1;33m\u001b[0m\u001b[1;33m\u001b[0m\u001b[1;33m\u001b[0m\u001b[0m\n\u001b[1;32m----> 3\u001b[1;33m \u001b[0mdimens\u001b[0m\u001b[1;33m[\u001b[0m\u001b[1;36m0\u001b[0m\u001b[1;33m]\u001b[0m \u001b[1;33m=\u001b[0m \u001b[1;36m2\u001b[0m\u001b[1;33m\u001b[0m\u001b[1;33m\u001b[0m\u001b[0m\n\u001b[0m",
      "\u001b[1;31mTypeError\u001b[0m: 'tuple' object does not support item assignment"
     ]
    }
   ],
   "source": [
    "#since tuple is immutable trying to modify it will throw an error\n",
    "#and it also don't have methods like insert(),append()..etc which modified tuple\n",
    "dimens[0] = 2"
   ]
  },
  {
   "cell_type": "markdown",
   "metadata": {},
   "source": [
    "<br><strong><span style=\"color:#00c853;font-size:23px;\">Set</span></strong><br>\n",
    "<span>Set is a mutable unordered collection of unique elements </span><br>\n",
    "<span>Set is created using curly braces - {}</span><br>\n"
   ]
  },
  {
   "cell_type": "code",
   "execution_count": 1,
   "metadata": {},
   "outputs": [
    {
     "name": "stdout",
     "output_type": "stream",
     "text": [
      "{'Vijay', 'Shruthi Haasan', 'Prabhas', 'Naaga chaithanya', 'Naani', 'Nivedha Thomas', 'Shradha kapoor', 'Salman khan', 'Rakul Preeth', 'Ram Charan', 'Samantha'}\n"
     ]
    }
   ],
   "source": [
    "fav_actors = [\"Prabhas\",\"Shruthi Haasan\",\"Naani\",\"Ram Charan\",\"Prabhas\",\"Nivedha Thomas\",\"Naani\",\n",
    "                   \"Ram Charan\",\"Rakul Preeth\",\"Samantha\",\"Rakul Preeth\",\"Prabhas\",\"Samantha\",\n",
    "                  \"Nivedha Thomas\",\"Naaga chaithanya\",\"Salman khan\",\"Salman khan\",\"Vijay\",\"Shradha kapoor\",\"Vijay\",\n",
    "                  \"Shruthi Haasan\",\"Naani\",\"Ram Charan\",\"Prabhas\",\"Nivedha Thomas\",\"Naaga chaithanya\",\"Salman khan\"]\n",
    "unique_fav_actors = set(fav_actors)\n",
    "print(unique_fav_actors)\n",
    "# fa = tuple(fav_actors)\n",
    "# print(fa)\n",
    "# print(unique_fav_actors)\n",
    "# print(list(unique_fav_actors))"
   ]
  },
  {
   "cell_type": "code",
   "execution_count": 22,
   "metadata": {},
   "outputs": [
    {
     "name": "stdout",
     "output_type": "stream",
     "text": [
      "{1, 2, 4, 6}\n"
     ]
    }
   ],
   "source": [
    "runs_per_ball = {1,2,1,6,6,6,6,6,6,4,2,2,1,1,6,4,6,1,1,2,4,4,4,2}\n",
    "print(runs_per_ball)"
   ]
  },
  {
   "cell_type": "markdown",
   "metadata": {},
   "source": [
    "<b><br><span style=\"color:rgb(0,127,220);font-size:16px\">Set Methods</span></b>"
   ]
  },
  {
   "cell_type": "code",
   "execution_count": 32,
   "metadata": {},
   "outputs": [
    {
     "name": "stdout",
     "output_type": "stream",
     "text": [
      "True\n",
      "{'Salman khan', 'Naaga chaithanya', 'Samantha', 'Shradha kapoor', 'Ram Charan', 'Naani', 'Nivedha Thomas', 'Shruthi Haasan', 'Rakul Preeth', 'Yash', 'Vijay', 'Prabhas'}\n",
      "Salman khan\n"
     ]
    }
   ],
   "source": [
    "#sets also support in keyword\n",
    "print(\"Naani\" in unique_fav_actors)\n",
    "\n",
    "#to add an element to the set using add()\n",
    "unique_fav_actors.add(\"Yash\")\n",
    "print(unique_fav_actors)\n",
    "\n",
    "#pop() removes a random element from the set and returns it\n",
    "print(unique_fav_actors.pop())"
   ]
  },
  {
   "cell_type": "code",
   "execution_count": 33,
   "metadata": {},
   "outputs": [
    {
     "data": {
      "text/plain": [
       "['__and__',\n",
       " '__class__',\n",
       " '__contains__',\n",
       " '__delattr__',\n",
       " '__dir__',\n",
       " '__doc__',\n",
       " '__eq__',\n",
       " '__format__',\n",
       " '__ge__',\n",
       " '__getattribute__',\n",
       " '__gt__',\n",
       " '__hash__',\n",
       " '__iand__',\n",
       " '__init__',\n",
       " '__init_subclass__',\n",
       " '__ior__',\n",
       " '__isub__',\n",
       " '__iter__',\n",
       " '__ixor__',\n",
       " '__le__',\n",
       " '__len__',\n",
       " '__lt__',\n",
       " '__ne__',\n",
       " '__new__',\n",
       " '__or__',\n",
       " '__rand__',\n",
       " '__reduce__',\n",
       " '__reduce_ex__',\n",
       " '__repr__',\n",
       " '__ror__',\n",
       " '__rsub__',\n",
       " '__rxor__',\n",
       " '__setattr__',\n",
       " '__sizeof__',\n",
       " '__str__',\n",
       " '__sub__',\n",
       " '__subclasshook__',\n",
       " '__xor__',\n",
       " 'add',\n",
       " 'clear',\n",
       " 'copy',\n",
       " 'difference',\n",
       " 'difference_update',\n",
       " 'discard',\n",
       " 'intersection',\n",
       " 'intersection_update',\n",
       " 'isdisjoint',\n",
       " 'issubset',\n",
       " 'issuperset',\n",
       " 'pop',\n",
       " 'remove',\n",
       " 'symmetric_difference',\n",
       " 'symmetric_difference_update',\n",
       " 'union',\n",
       " 'update']"
      ]
     },
     "execution_count": 33,
     "metadata": {},
     "output_type": "execute_result"
    }
   ],
   "source": [
    "dir(unique_fav_actors)"
   ]
  },
  {
   "cell_type": "markdown",
   "metadata": {},
   "source": [
    "<br><strong><span style=\"color:#dd2c00;font-size:23px;\">Identity Operators</span></strong><br><br>\n",
    "<span><span style=\"color:#dd2c00;\">is</span> and <span style=\"color:#dd2c00;\">is not</span> are the identity operators</span><br>"
   ]
  },
  {
   "cell_type": "markdown",
   "metadata": {},
   "source": [
    "<br><strong><span style=\"color:#dd2c00;font-size:23px;\">Dictionary</span></strong><br><br>\n",
    "<span>Dictionary is a mutable object which stores mappings of unique keys to values</span><br>\n",
    "<span>Keys can be of any type</span><br>"
   ]
  },
  {
   "cell_type": "markdown",
   "metadata": {},
   "source": [
    "<b><br><span style=\"color:rgb(0,127,220);font-size:16px\">Creating and Accessing Dictionary</span></b>"
   ]
  },
  {
   "cell_type": "code",
   "execution_count": 37,
   "metadata": {},
   "outputs": [
    {
     "name": "stdout",
     "output_type": "stream",
     "text": [
      "{'Hindi': 78, 'English': 89, 'Maths': 90, 'Science': 90}\n",
      "89\n",
      "90\n",
      "78\n",
      "dict_keys(['Hindi', 'English', 'Maths', 'Science'])\n"
     ]
    }
   ],
   "source": [
    "marks = {\"Hindi\":78,\"English\":89,\"Maths\":90,\"Science\":90}\n",
    "print(marks)\n",
    "\n",
    "\n",
    "sub = \"Hindi\"\n",
    "\n",
    "\n",
    "print(marks[\"English\"])\n",
    "print(marks[\"Science\"])\n",
    "print(marks[sub])\n",
    "print(marks.keys())"
   ]
  },
  {
   "cell_type": "markdown",
   "metadata": {},
   "source": [
    "<b><br><span style=\"color:rgb(0,127,220);font-size:16px\">Modifying Dictionary</span></b>"
   ]
  },
  {
   "cell_type": "code",
   "execution_count": 38,
   "metadata": {},
   "outputs": [
    {
     "name": "stdout",
     "output_type": "stream",
     "text": [
      "{'Hindi': 89, 'English': 89, 'Maths': 90, 'Science': 90}\n"
     ]
    }
   ],
   "source": [
    "# updating a existing key(say Hindi) to a new value(new marks)\n",
    "marks[\"Hindi\"] = 89\n",
    "print(marks)"
   ]
  },
  {
   "cell_type": "code",
   "execution_count": 39,
   "metadata": {},
   "outputs": [
    {
     "name": "stdout",
     "output_type": "stream",
     "text": [
      "{'Hindi': 89, 'English': 89, 'Maths': 90, 'Science': 90, 'Social': 92}\n"
     ]
    }
   ],
   "source": [
    "# adding new key-value pair\n",
    "marks[\"Social\"] = 92\n",
    "print(marks)"
   ]
  },
  {
   "cell_type": "code",
   "execution_count": 40,
   "metadata": {},
   "outputs": [
    {
     "ename": "KeyError",
     "evalue": "'Telugu'",
     "output_type": "error",
     "traceback": [
      "\u001b[1;31m---------------------------------------------------------------------------\u001b[0m",
      "\u001b[1;31mKeyError\u001b[0m                                  Traceback (most recent call last)",
      "\u001b[1;32m<ipython-input-40-bf3fdab578f9>\u001b[0m in \u001b[0;36m<module>\u001b[1;34m\u001b[0m\n\u001b[0;32m      1\u001b[0m \u001b[1;31m# when you try to access or update a key which is not present then we get KeyError\u001b[0m\u001b[1;33m\u001b[0m\u001b[1;33m\u001b[0m\u001b[1;33m\u001b[0m\u001b[0m\n\u001b[1;32m----> 2\u001b[1;33m \u001b[0mprint\u001b[0m\u001b[1;33m(\u001b[0m\u001b[0mmarks\u001b[0m\u001b[1;33m[\u001b[0m\u001b[1;34m\"Telugu\"\u001b[0m\u001b[1;33m]\u001b[0m\u001b[1;33m)\u001b[0m\u001b[1;33m\u001b[0m\u001b[1;33m\u001b[0m\u001b[0m\n\u001b[0m",
      "\u001b[1;31mKeyError\u001b[0m: 'Telugu'"
     ]
    }
   ],
   "source": [
    "# when you try to access or update a key which is not present then we get KeyError\n",
    "print(marks[\"Telugu\"])"
   ]
  },
  {
   "cell_type": "markdown",
   "metadata": {},
   "source": [
    "<b><br><span style=\"color:rgb(0,127,220);font-size:16px\">Using Membership and Identity Operators with dictionaries</span></b>"
   ]
  },
  {
   "cell_type": "code",
   "execution_count": 46,
   "metadata": {},
   "outputs": [
    {
     "name": "stdout",
     "output_type": "stream",
     "text": [
      "True\n",
      "True\n"
     ]
    }
   ],
   "source": [
    "# 'in' if used directly on the dictionary it'll check in the keys\n",
    "print(\"Hindi\" in marks)\n",
    "\n",
    "print(\"Telugu\" not in marks)\n"
   ]
  },
  {
   "cell_type": "code",
   "execution_count": 48,
   "metadata": {},
   "outputs": [
    {
     "name": "stdout",
     "output_type": "stream",
     "text": [
      "None\n",
      "True\n",
      "False\n"
     ]
    }
   ],
   "source": [
    "# get() - returns the value for a key if exists otherwise None\n",
    "\n",
    "print(marks.get(\"Telugu\"))\n",
    "\n",
    "value = marks.get(\"Telugu\")\n",
    "# print(value)\n",
    "sub_not_exists = value is None\n",
    "sub_exists = value is not None\n",
    "print(sub_not_exists)\n",
    "print(sub_exists)"
   ]
  },
  {
   "cell_type": "markdown",
   "metadata": {},
   "source": [
    "<b><br><span style=\"color:rgb(0,127,220);font-size:16px\">Nested dictionaries</span></b>"
   ]
  },
  {
   "cell_type": "code",
   "execution_count": 50,
   "metadata": {},
   "outputs": [],
   "source": [
    "class_marks = {\n",
    "    \"Arun\":{\n",
    "        \"Hindi\":78,\n",
    "        \"English\":89,\n",
    "        \"Maths\":90,\n",
    "        \"Science\":90\n",
    "    },\n",
    "    \"Smitha\":{\n",
    "        \"Hindi\":56,\n",
    "        \"English\":80,\n",
    "        \"Maths\":92,\n",
    "        \"Science\":94\n",
    "    },\n",
    "    \"Naveen\":{\n",
    "        \"Hindi\":80,\n",
    "        \"English\":89,\n",
    "        \"Maths\":90,\n",
    "        \"Science\":90\n",
    "    }\n",
    "}"
   ]
  },
  {
   "cell_type": "code",
   "execution_count": 63,
   "metadata": {},
   "outputs": [
    {
     "name": "stdout",
     "output_type": "stream",
     "text": [
      "True\n",
      "dict_values([78, 89, 90, 90])\n",
      "dict_keys(['Hindi', 'English', 'Maths', 'Science'])\n",
      "dict_items([('Hindi', 78), ('English', 89), ('Maths', 90), ('Science', 90)])\n",
      "94\n"
     ]
    }
   ],
   "source": [
    "print(89 in class_marks[\"Arun\"].values())\n",
    "print(class_marks[\"Arun\"].values())\n",
    "print(class_marks[\"Arun\"].keys())\n",
    "print(class_marks[\"Arun\"].items())\n",
    "# print(class_marks[\"Naveen\"][\"English\"])\n",
    "dir(dict)\n",
    "print(max(class_marks[\"Smitha\"].values()))"
   ]
  }
 ],
 "metadata": {
  "kernelspec": {
   "display_name": "Python 3",
   "language": "python",
   "name": "python3"
  },
  "language_info": {
   "codemirror_mode": {
    "name": "ipython",
    "version": 3
   },
   "file_extension": ".py",
   "mimetype": "text/x-python",
   "name": "python",
   "nbconvert_exporter": "python",
   "pygments_lexer": "ipython3",
   "version": "3.7.4"
  }
 },
 "nbformat": 4,
 "nbformat_minor": 2
}
