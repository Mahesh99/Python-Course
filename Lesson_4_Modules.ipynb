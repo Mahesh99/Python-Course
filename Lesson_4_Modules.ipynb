{
 "cells": [
  {
   "cell_type": "markdown",
   "metadata": {},
   "source": [
    "<br><strong><span style=\"color:#dd2c00;font-size:23px;\">Module</span></strong><br><br>\n",
    "A module is a file containing Python definitions and statements.<br> The file name is the module name with the suffix <code>.py</code> appended<br>\n",
    "\n",
    "I have created a module <code>fibonocci.py</code> which contains 2 functions <code>fib()</code> and <code>fib2()</code><br>\n",
    "<code>module_demo.py</code> demostrates the all the concepts introduced here.\n",
    "\n",
    "Definitions and global variables from a module can be imported into another in the following ways. On importing module the code in it will be executed.\n"
   ]
  },
  {
   "cell_type": "markdown",
   "metadata": {},
   "source": [
    "<br><br><code>import &lt;modname&gt;</code><br>\n",
    "Importing a module this way imports all the definitions and global variables. To access them use <code>modname.itemname</code><br>"
   ]
  },
  {
   "cell_type": "code",
   "execution_count": 5,
   "metadata": {},
   "outputs": [
    {
     "name": "stdout",
     "output_type": "stream",
     "text": [
      "0 1 1 2 3 \n",
      "[0, 1, 1, 2, 3]\n",
      "[0, 1, 1, 2, 3, 5, 8, 13, 21, 34]\n"
     ]
    }
   ],
   "source": [
    "import fibonocci\n",
    "\n",
    "fibonocci.fib(4)\n",
    "k = fibonocci.fib2(4)\n",
    "print(k)\n",
    "print(fibonocci.first_ten)"
   ]
  },
  {
   "cell_type": "markdown",
   "metadata": {},
   "source": [
    "<br><br><code>import &lt;modname&gt; as &lt;alias&gt;</code><br>\n",
    "creating an alias for the imported module name. use alias to access module items instead of module name(using module name will raise an error)<br>"
   ]
  },
  {
   "cell_type": "code",
   "execution_count": null,
   "metadata": {},
   "outputs": [],
   "source": [
    "import fibonocci as fibo\n",
    "\n",
    "fibo.fib(5)"
   ]
  },
  {
   "cell_type": "markdown",
   "metadata": {},
   "source": [
    "<br><br><code>from &lt;modname&gt; import &lt;itemname1&gt;[,&lt;itemname2&gt;[,..]]</code><br>\n",
    "instead of importing complete module import only required items. "
   ]
  },
  {
   "cell_type": "code",
   "execution_count": 6,
   "metadata": {},
   "outputs": [
    {
     "name": "stdout",
     "output_type": "stream",
     "text": [
      "[0, 1, 1, 2, 3, 5]\n",
      "0 1 1 2 3 \n",
      "[0, 1, 1, 2, 3, 5, 8, 13, 21, 34]\n"
     ]
    }
   ],
   "source": [
    "from fibonocci import fib,fib2,first_ten\n",
    "\n",
    "print(fib2(6))\n",
    "fib(4)\n",
    "print(first_ten)"
   ]
  },
  {
   "cell_type": "markdown",
   "metadata": {},
   "source": [
    "<br><br><code>from &lt;modname&gt; import &lt;itemname1&gt; as &lt;alias1&gt;[,&lt;itemname2&gt; as &lt;alias2&gt;[,..]]</code><br>\n",
    "\n",
    "importing required items by creating alias for them"
   ]
  },
  {
   "cell_type": "code",
   "execution_count": null,
   "metadata": {},
   "outputs": [],
   "source": [
    "from fibonocci import fib as f, fib2 as f2\n",
    "\n",
    "print(f2(3))"
   ]
  },
  {
   "cell_type": "markdown",
   "metadata": {},
   "source": [
    "<br><br>\n",
    "<code>from &lt;modname&gt; import *</code><br>\n",
    "\n",
    "importing all the items from the module. This way of importing is not considered as good because itemnames from the importing module(here module_test.py) and module being imported(here fibonocci.py) might have same name. If so items will be overwritten."
   ]
  },
  {
   "cell_type": "code",
   "execution_count": 2,
   "metadata": {},
   "outputs": [
    {
     "name": "stdout",
     "output_type": "stream",
     "text": [
      "[0, 1, 1, 2, 3, 5]\n"
     ]
    }
   ],
   "source": [
    "from fibonocci import *\n",
    "# you should never import this way\n",
    "\n",
    "print(fib2(7))"
   ]
  },
  {
   "cell_type": "code",
   "execution_count": 10,
   "metadata": {},
   "outputs": [],
   "source": []
  },
  {
   "cell_type": "markdown",
   "metadata": {},
   "source": [
    "<b><br><i><span style=\"color:#007FDC;font-size:18px\">&#95;&#95;name&#95;&#95;</span></i></b><br><br>\n",
    "<span>Within a module, the module’s name (as a string) is available as the value of the global variable <code>&#95;&#95;name&#95;&#95;</code></span><br><br>\n",
    "When you run a Python module with<br>\n",
    "<code>python filename.py [arguments]</code><br>\n",
    "the code in the module will be executed, just as if you imported it, but with the &#95;&#95;name&#95;&#95; set to \"&#95;&#95;main&#95;&#95;\"\n",
    "\n",
    "That means that by adding the following code at the end of your module makes the file usable as a script as well as an importable module"
   ]
  },
  {
   "cell_type": "code",
   "execution_count": null,
   "metadata": {},
   "outputs": [],
   "source": [
    "if __name__ == \"__main__\":\n",
    "    # statement 1\n",
    "    # statement 2\n",
    "    # ..."
   ]
  },
  {
   "cell_type": "markdown",
   "metadata": {},
   "source": [
    "By adding following code to the fibonocci.py we can call it from command line and pass arguments from there"
   ]
  },
  {
   "cell_type": "code",
   "execution_count": 1,
   "metadata": {},
   "outputs": [
    {
     "ename": "NameError",
     "evalue": "name 'fib' is not defined",
     "output_type": "error",
     "traceback": [
      "\u001b[1;31m--------------------------------------------------------------------------\u001b[0m",
      "\u001b[1;31mNameError\u001b[0m                                Traceback (most recent call last)",
      "\u001b[1;32m<ipython-input-1-62501033cb47>\u001b[0m in \u001b[0;36m<module>\u001b[1;34m\u001b[0m\n\u001b[0;32m      1\u001b[0m \u001b[1;32mif\u001b[0m \u001b[0m__name__\u001b[0m \u001b[1;33m==\u001b[0m \u001b[1;34m\"__main__\"\u001b[0m\u001b[1;33m:\u001b[0m\u001b[1;33m\u001b[0m\u001b[1;33m\u001b[0m\u001b[0m\n\u001b[0;32m      2\u001b[0m     \u001b[1;32mimport\u001b[0m \u001b[0msys\u001b[0m\u001b[1;33m\u001b[0m\u001b[1;33m\u001b[0m\u001b[0m\n\u001b[1;32m----> 3\u001b[1;33m     \u001b[0mfib\u001b[0m\u001b[1;33m(\u001b[0m\u001b[0mint\u001b[0m\u001b[1;33m(\u001b[0m\u001b[0msys\u001b[0m\u001b[1;33m.\u001b[0m\u001b[0margv\u001b[0m\u001b[1;33m[\u001b[0m\u001b[1;36m1\u001b[0m\u001b[1;33m]\u001b[0m\u001b[1;33m)\u001b[0m\u001b[1;33m)\u001b[0m\u001b[1;33m\u001b[0m\u001b[1;33m\u001b[0m\u001b[0m\n\u001b[0m",
      "\u001b[1;31mNameError\u001b[0m: name 'fib' is not defined"
     ]
    }
   ],
   "source": [
    "\n",
    "if __name__ == \"__main__\":\n",
    "    import sys\n",
    "    fib(int(sys.argv[1]))"
   ]
  },
  {
   "cell_type": "markdown",
   "metadata": {},
   "source": [
    "executing it from the command line  "
   ]
  },
  {
   "cell_type": "code",
   "execution_count": null,
   "metadata": {},
   "outputs": [],
   "source": [
    "$ python fibo.py 50\n",
    "0 1 1 2 3 5 8 13 21 34"
   ]
  },
  {
   "cell_type": "markdown",
   "metadata": {},
   "source": [
    "<b><br><span style=\"color:#007FDC;font-size:16px\">The Module Search Path</span></b><br>\n",
    "<span>The interpreter first searches for a built-in module with that name. If not found, it then searches in a list of directories given by the variable <code>sys.path</code>. First directory in the sys.path is the current directory from where the script is being executed</span><br>"
   ]
  },
  {
   "cell_type": "code",
   "execution_count": 19,
   "metadata": {},
   "outputs": [
    {
     "name": "stdout",
     "output_type": "stream",
     "text": [
      "['C:\\\\Users\\\\Mahesh\\\\notebooks', 'C:\\\\Users\\\\Mahesh\\\\Desktop\\\\python', 'c:\\\\users\\\\mahesh\\\\appdata\\\\local\\\\programs\\\\python\\\\python37\\\\python37.zip', 'c:\\\\users\\\\mahesh\\\\appdata\\\\local\\\\programs\\\\python\\\\python37\\\\DLLs', 'c:\\\\users\\\\mahesh\\\\appdata\\\\local\\\\programs\\\\python\\\\python37\\\\lib', 'c:\\\\users\\\\mahesh\\\\appdata\\\\local\\\\programs\\\\python\\\\python37', '', 'C:\\\\Users\\\\Mahesh\\\\AppData\\\\Roaming\\\\Python\\\\Python37\\\\site-packages', 'c:\\\\users\\\\mahesh\\\\appdata\\\\local\\\\programs\\\\python\\\\python37\\\\lib\\\\site-packages', 'c:\\\\users\\\\mahesh\\\\appdata\\\\local\\\\programs\\\\python\\\\python37\\\\lib\\\\site-packages\\\\IPython\\\\extensions', 'C:\\\\Users\\\\Mahesh\\\\.ipython', 'C:\\\\Users\\\\Mahesh\\\\Desktop\\\\python']\n"
     ]
    }
   ],
   "source": [
    "import sys\n",
    "print(sys.path)\n",
    "# sys.path.append('C:\\\\Users\\\\Mahesh\\\\Desktop\\\\python')\n",
    "import basiccalci\n"
   ]
  },
  {
   "cell_type": "markdown",
   "metadata": {},
   "source": [
    "<b><br><span style=\"color:#007FDC;font-size:16px\"> dir() Function</span></b><br>\n",
    "<span>The built-in function <code>dir()</code> is used to find out which names a module defines. It returns a sorted list of strings</span><br>"
   ]
  },
  {
   "cell_type": "code",
   "execution_count": 20,
   "metadata": {},
   "outputs": [
    {
     "ename": "ModuleNotFoundError",
     "evalue": "No module named 'fibo'",
     "output_type": "error",
     "traceback": [
      "\u001b[1;31m---------------------------------------------------------------------------\u001b[0m",
      "\u001b[1;31mModuleNotFoundError\u001b[0m                       Traceback (most recent call last)",
      "\u001b[1;32m<ipython-input-20-456047bfdd86>\u001b[0m in \u001b[0;36m<module>\u001b[1;34m\u001b[0m\n\u001b[1;32m----> 1\u001b[1;33m \u001b[1;32mimport\u001b[0m \u001b[0mfibo\u001b[0m\u001b[1;33m\u001b[0m\u001b[1;33m\u001b[0m\u001b[0m\n\u001b[0m\u001b[0;32m      2\u001b[0m \u001b[0mdir\u001b[0m\u001b[1;33m(\u001b[0m\u001b[0mfibo\u001b[0m\u001b[1;33m)\u001b[0m\u001b[1;33m\u001b[0m\u001b[1;33m\u001b[0m\u001b[0m\n\u001b[0;32m      3\u001b[0m \u001b[1;33m[\u001b[0m\u001b[1;34m'__name__'\u001b[0m\u001b[1;33m,\u001b[0m \u001b[1;34m'fib'\u001b[0m\u001b[1;33m,\u001b[0m \u001b[1;34m'fib2'\u001b[0m\u001b[1;33m]\u001b[0m\u001b[1;33m\u001b[0m\u001b[1;33m\u001b[0m\u001b[0m\n",
      "\u001b[1;31mModuleNotFoundError\u001b[0m: No module named 'fibo'"
     ]
    }
   ],
   "source": [
    ">>> import fibo\n",
    ">>> dir(fibo)\n",
    "['__name__', 'fib', 'fib2']"
   ]
  },
  {
   "cell_type": "code",
   "execution_count": 21,
   "metadata": {},
   "outputs": [
    {
     "data": {
      "text/plain": [
       "['__builtins__',\n",
       " '__cached__',\n",
       " '__doc__',\n",
       " '__file__',\n",
       " '__loader__',\n",
       " '__name__',\n",
       " '__package__',\n",
       " '__spec__',\n",
       " 'fib',\n",
       " 'fib2',\n",
       " 'first_ten']"
      ]
     },
     "execution_count": 21,
     "metadata": {},
     "output_type": "execute_result"
    }
   ],
   "source": [
    "import fibonocci\n",
    "dir(fibonocci)"
   ]
  },
  {
   "cell_type": "markdown",
   "metadata": {},
   "source": [
    "Without arguments, <code>dir()</code> lists the names you have defined currently"
   ]
  },
  {
   "cell_type": "raw",
   "metadata": {},
   "source": [
    ">>> import builtins\n",
    ">>> dir(builtins)  \n",
    "['ArithmeticError', 'AssertionError', 'AttributeError', 'BaseException',\n",
    " 'BlockingIOError', 'BrokenPipeError', 'BufferError', 'BytesWarning',\n",
    " 'ChildProcessError', 'ConnectionAbortedError', 'ConnectionError',\n",
    " 'ConnectionRefusedError', 'ConnectionResetError', 'DeprecationWarning',\n",
    " 'EOFError', 'Ellipsis', 'EnvironmentError', 'Exception', 'False',\n",
    " 'FileExistsError', 'FileNotFoundError', 'FloatingPointError',\n",
    " 'FutureWarning', 'GeneratorExit', 'IOError', 'ImportError',\n",
    " 'ImportWarning', 'IndentationError', 'IndexError', 'InterruptedError',\n",
    " 'IsADirectoryError', 'KeyError', 'KeyboardInterrupt', 'LookupError',\n",
    " 'MemoryError', 'NameError', 'None', 'NotADirectoryError', 'NotImplemented',\n",
    " 'NotImplementedError', 'OSError', 'OverflowError',\n",
    " 'PendingDeprecationWarning', 'PermissionError', 'ProcessLookupError',\n",
    " 'ReferenceError', 'ResourceWarning', 'RuntimeError', 'RuntimeWarning',\n",
    " 'StopIteration', 'SyntaxError', 'SyntaxWarning', 'SystemError',\n",
    " 'SystemExit', 'TabError', 'TimeoutError', 'True', 'TypeError',\n",
    " 'UnboundLocalError', 'UnicodeDecodeError', 'UnicodeEncodeError',\n",
    " 'UnicodeError', 'UnicodeTranslateError', 'UnicodeWarning', 'UserWarning',\n",
    " 'ValueError', 'Warning', 'ZeroDivisionError', '_', '__build_class__',\n",
    " '__debug__', '__doc__', '__import__', '__name__', '__package__', 'abs',\n",
    " 'all', 'any', 'ascii', 'bin', 'bool', 'bytearray', 'bytes', 'callable',\n",
    " 'chr', 'classmethod', 'compile', 'complex', 'copyright', 'credits',\n",
    " 'delattr', 'dict', 'dir', 'divmod', 'enumerate', 'eval', 'exec', 'exit',\n",
    " 'filter', 'float', 'format', 'frozenset', 'getattr', 'globals', 'hasattr',\n",
    " 'hash', 'help', 'hex', 'id', 'input', 'int', 'isinstance', 'issubclass',\n",
    " 'iter', 'len', 'license', 'list', 'locals', 'map', 'max', 'memoryview',\n",
    " 'min', 'next', 'object', 'oct', 'open', 'ord', 'pow', 'print', 'property',\n",
    " 'quit', 'range', 'repr', 'reversed', 'round', 'set', 'setattr', 'slice',\n",
    " 'sorted', 'staticmethod', 'str', 'sum', 'super', 'tuple', 'type', 'vars',\n",
    " 'zip']"
   ]
  },
  {
   "cell_type": "markdown",
   "metadata": {},
   "source": [
    "<br><strong><span style=\"color:#dd2c00;font-size:23px;\">Packages</span></strong><br><br>\n",
    "In order to manage the code better, modules can be split down into sub-modules that are contained within a package.<br> A <b>package</b> is simply a module that contains sub-modules.\n",
    "\n",
    "Modules that are submodules are specified by the package name and then the submodule name separated by a dot.<br>\n",
    "A submodule can be imported this way.."
   ]
  },
  {
   "cell_type": "markdown",
   "metadata": {},
   "source": [
    "<code>import packagename.submodule</code>"
   ]
  },
  {
   "cell_type": "code",
   "execution_count": 29,
   "metadata": {},
   "outputs": [
    {
     "name": "stdout",
     "output_type": "stream",
     "text": [
      "['__breakpointhook__', '__displayhook__', '__doc__', '__excepthook__', '__interactivehook__', '__loader__', '__name__', '__package__', '__spec__', '__stderr__', '__stdin__', '__stdout__', '_base_executable', '_clear_type_cache', '_current_frames', '_debugmallocstats', '_enablelegacywindowsfsencoding', '_framework', '_getframe', '_git', '_home', '_xoptions', 'api_version', 'argv', 'base_exec_prefix', 'base_prefix', 'breakpointhook', 'builtin_module_names', 'byteorder', 'call_tracing', 'callstats', 'copyright', 'displayhook', 'dllhandle', 'dont_write_bytecode', 'exc_info', 'excepthook', 'exec_prefix', 'executable', 'exit', 'flags', 'float_info', 'float_repr_style', 'get_asyncgen_hooks', 'get_coroutine_origin_tracking_depth', 'get_coroutine_wrapper', 'getallocatedblocks', 'getcheckinterval', 'getdefaultencoding', 'getfilesystemencodeerrors', 'getfilesystemencoding', 'getprofile', 'getrecursionlimit', 'getrefcount', 'getsizeof', 'getswitchinterval', 'gettrace', 'getwindowsversion', 'hash_info', 'hexversion', 'implementation', 'int_info', 'intern', 'is_finalizing', 'last_traceback', 'last_type', 'last_value', 'maxsize', 'maxunicode', 'meta_path', 'modules', 'path', 'path_hooks', 'path_importer_cache', 'platform', 'prefix', 'ps1', 'ps2', 'ps3', 'set_asyncgen_hooks', 'set_coroutine_origin_tracking_depth', 'set_coroutine_wrapper', 'setcheckinterval', 'setprofile', 'setrecursionlimit', 'setswitchinterval', 'settrace', 'stderr', 'stdin', 'stdout', 'thread_info', 'version', 'version_info', 'warnoptions', 'winver']\n"
     ]
    }
   ],
   "source": [
    "# for example\n",
    "import sys\n",
    "print(dir(sys))"
   ]
  }
 ],
 "metadata": {
  "kernelspec": {
   "display_name": "Python 3",
   "language": "python",
   "name": "python3"
  },
  "language_info": {
   "codemirror_mode": {
    "name": "ipython",
    "version": 3
   },
   "file_extension": ".py",
   "mimetype": "text/x-python",
   "name": "python",
   "nbconvert_exporter": "python",
   "pygments_lexer": "ipython3",
   "version": "3.7.4"
  }
 },
 "nbformat": 4,
 "nbformat_minor": 2
}
